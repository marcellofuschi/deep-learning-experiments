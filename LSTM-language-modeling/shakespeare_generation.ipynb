{
  "cells": [
    {
      "cell_type": "markdown",
      "metadata": {
        "id": "ENdpIzLyycFw"
      },
      "source": [
        "# Character-level LSTM with PyTorch\n",
        "\n",
        "An RNN model will be trained to generate new text character by character. Both the text used for training and the generated text will be analyzed with some statistical functions (e.g., for assessing readability), so that we can evaluate the statistical similarity between the training data and the generated sample."
      ]
    },
    {
      "cell_type": "code",
      "execution_count": 1,
      "metadata": {
        "colab": {
          "base_uri": "https://localhost:8080/"
        },
        "id": "iY7R0wQFBgpN",
        "outputId": "539833d5-436f-48ae-cf8b-0ea03b8e8001"
      },
      "outputs": [
        {
          "output_type": "stream",
          "name": "stdout",
          "text": [
            "Looking in indexes: https://pypi.org/simple, https://us-python.pkg.dev/colab-wheels/public/simple/\n",
            "Collecting textstat\n",
            "  Downloading textstat-0.7.3-py3-none-any.whl (105 kB)\n",
            "\u001b[2K     \u001b[90m━━━━━━━━━━━━━━━━━━━━━━━━━━━━━━━━━━━━━━━\u001b[0m \u001b[32m105.1/105.1 KB\u001b[0m \u001b[31m3.5 MB/s\u001b[0m eta \u001b[36m0:00:00\u001b[0m\n",
            "\u001b[?25hCollecting pyphen\n",
            "  Downloading pyphen-0.13.2-py3-none-any.whl (2.0 MB)\n",
            "\u001b[2K     \u001b[90m━━━━━━━━━━━━━━━━━━━━━━━━━━━━━━━━━━━━━━━━\u001b[0m \u001b[32m2.0/2.0 MB\u001b[0m \u001b[31m35.1 MB/s\u001b[0m eta \u001b[36m0:00:00\u001b[0m\n",
            "\u001b[?25hInstalling collected packages: pyphen, textstat\n",
            "Successfully installed pyphen-0.13.2 textstat-0.7.3\n"
          ]
        }
      ],
      "source": [
        "!pip install textstat"
      ]
    },
    {
      "cell_type": "code",
      "execution_count": 2,
      "metadata": {
        "id": "w_gS0_Y-yDqX"
      },
      "outputs": [],
      "source": [
        "!pip install torchmetrics transformers>=4.0"
      ]
    },
    {
      "cell_type": "code",
      "execution_count": 3,
      "metadata": {
        "id": "tsoK1d67ycF1"
      },
      "outputs": [],
      "source": [
        "import numpy as np\n",
        "import torch\n",
        "from torch import nn\n",
        "import torch.nn.functional as F\n",
        "import textstat\n",
        "import matplotlib.pyplot as plt\n",
        "import transformers\n",
        "import torchmetrics\n",
        "from torchmetrics.functional.text.bert import bert_score\n",
        "from nltk.translate.bleu_score import sentence_bleu"
      ]
    },
    {
      "cell_type": "code",
      "execution_count": 4,
      "metadata": {
        "colab": {
          "base_uri": "https://localhost:8080/",
          "height": 249,
          "referenced_widgets": [
            "e9c86042aa464587a7c6b10702ace270",
            "a289c7c251a449319c9dca9b08a3aaad",
            "30994b14eece442a904aff26d89e2dc5",
            "a19e89a341394dec8b7e609d2714635d",
            "2813dc5299574f53a798269db66cc787",
            "2c6b26f4f2334dc485bac2db5600e51d",
            "266ed5852cfb49c5b963b42f656e9646",
            "b571a27ae7404aa0b483cce0500d497b",
            "1cd4e8adcb694659b97eee26e24ac1a0",
            "cfda82179619479fa256bbad9b18aefe",
            "82ac79d0ea4645de9998c5a424c5f68b",
            "8fc364659df443d4989e188861d4b085",
            "001370ccb7aa43e19f9a445592e95a34",
            "53ed17aaef4b45fea52ff6ff4f372fd6",
            "3a6cd678762a4abe869ebe473a10d88f",
            "08a9cd4dad7a449aaa71196a3ba6e474",
            "3a478d6d7f24428cbf5996c060b76e97",
            "84ea367fcefa4fb2a2ee46fb6318578a",
            "a9d1d8568cd04180b46f04d892cd4be0",
            "43595054c031412087080315d07898d5",
            "2591294329ae44a6a6dc965e68456d9c",
            "0aae8525976949efbdaa20ff96c4dc0a",
            "f32c13c458464b04b2399a55e96a765e",
            "e1d61f5581184605bc2261323b1b347d",
            "1c72848320264d539cee1ad5550efb17",
            "3a76b327f0684ed493b083ec39b52ca8",
            "6f5d9215346047d9bffef7de4fdc859d",
            "59183be76cd94dcebaa7781370faea1f",
            "8ba08a54221b48cab87f9a6f8d74eb36",
            "9d75a9e4ef18465da9c56daf89883d82",
            "7725bf5e2c38401bb0237cd9b9081aa6",
            "e4ce587df82d4f9cb8d45a408a2e6919",
            "6956e608de204abe8682523755c571ac",
            "72cda823dcb94250888edf33112cc6f0",
            "b67d569eb13c4116b77c25057c6bd31c",
            "1f011882e94f403496c743f9b6cc04fd",
            "c8760eff3083442e8f5c1d2a00bc8f35",
            "4f583562435f475c96724f3ac785c3cd",
            "64375124b5c448a9bf1c115766a8cb81",
            "707e52ff94984fd59762c087b9fe3538",
            "bd7f24f7a7f34d03b9abec41b84911bb",
            "7710a6d727884f76ab424ab9725d5434",
            "dfd5fe0c0c794441a350e0e4a8c87128",
            "b61d038b865e46c3bb2125a720d69c98",
            "6c494fa348df44ee9a17103ee5a43089",
            "3d40e3bbb8e94ff3ae30ffbb500a3685",
            "79d2b37f30db4d4e9595e05aee7549f0",
            "d6e65b03b68a44289ba33e350ae7a683",
            "8e8d37ace4b844f4a0a193546a205f7e",
            "288af7a198314e64825596c19821ca4a",
            "b200b8c7447c42fc8ed6f49619289803",
            "5bbb8d44672449be8aee8311beaa720f",
            "c57732883cb24b3f9258af5929ea4fcb",
            "0c84ccb24b7c41e296c3a46c534f02c1",
            "46d510b59ee442109843745f8e372975"
          ]
        },
        "id": "E2xNou6O4qwI",
        "outputId": "b03e366b-e4e2-4d9b-ae4c-fae3e8bcbe56"
      },
      "outputs": [
        {
          "output_type": "stream",
          "name": "stderr",
          "text": [
            "/usr/local/lib/python3.8/dist-packages/torchmetrics/functional/text/bert.py:342: UserWarning: The argument `model_name_or_path` was not specified while it is required when default `transformers` model are used.It is, therefore, used the default recommended model - roberta-large.\n",
            "  warn(\n"
          ]
        },
        {
          "output_type": "display_data",
          "data": {
            "text/plain": [
              "Downloading (…)lve/main/config.json:   0%|          | 0.00/482 [00:00<?, ?B/s]"
            ],
            "application/vnd.jupyter.widget-view+json": {
              "version_major": 2,
              "version_minor": 0,
              "model_id": "e9c86042aa464587a7c6b10702ace270"
            }
          },
          "metadata": {}
        },
        {
          "output_type": "display_data",
          "data": {
            "text/plain": [
              "Downloading (…)olve/main/vocab.json:   0%|          | 0.00/899k [00:00<?, ?B/s]"
            ],
            "application/vnd.jupyter.widget-view+json": {
              "version_major": 2,
              "version_minor": 0,
              "model_id": "8fc364659df443d4989e188861d4b085"
            }
          },
          "metadata": {}
        },
        {
          "output_type": "display_data",
          "data": {
            "text/plain": [
              "Downloading (…)olve/main/merges.txt:   0%|          | 0.00/456k [00:00<?, ?B/s]"
            ],
            "application/vnd.jupyter.widget-view+json": {
              "version_major": 2,
              "version_minor": 0,
              "model_id": "f32c13c458464b04b2399a55e96a765e"
            }
          },
          "metadata": {}
        },
        {
          "output_type": "display_data",
          "data": {
            "text/plain": [
              "Downloading (…)/main/tokenizer.json:   0%|          | 0.00/1.36M [00:00<?, ?B/s]"
            ],
            "application/vnd.jupyter.widget-view+json": {
              "version_major": 2,
              "version_minor": 0,
              "model_id": "72cda823dcb94250888edf33112cc6f0"
            }
          },
          "metadata": {}
        },
        {
          "output_type": "display_data",
          "data": {
            "text/plain": [
              "Downloading (…)\"pytorch_model.bin\";:   0%|          | 0.00/1.43G [00:00<?, ?B/s]"
            ],
            "application/vnd.jupyter.widget-view+json": {
              "version_major": 2,
              "version_minor": 0,
              "model_id": "6c494fa348df44ee9a17103ee5a43089"
            }
          },
          "metadata": {}
        },
        {
          "output_type": "execute_result",
          "data": {
            "text/plain": [
              "0.9957970976829529"
            ]
          },
          "metadata": {},
          "execution_count": 4
        }
      ],
      "source": [
        "transformers.logging.set_verbosity_error()\n",
        "\n",
        "# Test BERT-Score\n",
        "bert_score(['The sky is blue.'], [\"The sky is yellow.\"])['f1']"
      ]
    },
    {
      "cell_type": "code",
      "execution_count": 5,
      "metadata": {
        "colab": {
          "base_uri": "https://localhost:8080/"
        },
        "id": "xE3baw_stYF0",
        "outputId": "3bc6e047-ff87-4f26-bebe-c8f8a6b087f1"
      },
      "outputs": [
        {
          "output_type": "execute_result",
          "data": {
            "text/plain": [
              "0.6763995415945232"
            ]
          },
          "metadata": {},
          "execution_count": 5
        }
      ],
      "source": [
        "# Test BLEU score\n",
        "sentence_bleu(['The sky is blue.'], 'The sky is yellow.', weights=(0.5, 0.5))"
      ]
    },
    {
      "cell_type": "code",
      "execution_count": 6,
      "metadata": {
        "id": "uN9TKMNSjNTP"
      },
      "outputs": [],
      "source": [
        "def calc_text_statistics(text):\n",
        "  return {\n",
        "      'Flesch reading ease': textstat.flesch_reading_ease(text),\n",
        "      'Linsear-Write Formula': textstat.linsear_write_formula(text),\n",
        "      'Dale-Chall readability score': textstat.dale_chall_readability_score(text),\n",
        "  }"
      ]
    },
    {
      "cell_type": "markdown",
      "metadata": {
        "id": "JewJr-vMycF2"
      },
      "source": [
        "## Training data"
      ]
    },
    {
      "cell_type": "code",
      "execution_count": 7,
      "metadata": {
        "id": "DP6f7VrkycF2"
      },
      "outputs": [],
      "source": [
        "with open('shakespeare.txt', 'r') as f:\n",
        "    text = f.read()"
      ]
    },
    {
      "cell_type": "code",
      "execution_count": 8,
      "metadata": {
        "colab": {
          "base_uri": "https://localhost:8080/"
        },
        "id": "3nVD5jnMjh1G",
        "outputId": "6b2b0240-cb77-4289-af81-8627fff5f5dd"
      },
      "outputs": [
        {
          "output_type": "execute_result",
          "data": {
            "text/plain": [
              "{'Flesch reading ease': 88.06,\n",
              " 'Linsear-Write Formula': 4.636363636363637,\n",
              " 'Dale-Chall readability score': 5.31}"
            ]
          },
          "metadata": {},
          "execution_count": 8
        }
      ],
      "source": [
        "calc_text_statistics(text)"
      ]
    },
    {
      "cell_type": "markdown",
      "metadata": {
        "id": "o-aoQoHIycF3"
      },
      "source": [
        "### Characters tokenization\n",
        "\n",
        "We need to be able to convert each character into an integer token."
      ]
    },
    {
      "cell_type": "code",
      "execution_count": 9,
      "metadata": {
        "id": "_ylyruewycF3"
      },
      "outputs": [],
      "source": [
        "chars_in_text = tuple(set(text))\n",
        "\n",
        "int2char = dict(enumerate(chars_in_text))\n",
        "char2int = {ch: ii for ii, ch in int2char.items()}\n",
        "\n",
        "encoded_text = np.array([char2int[ch] for ch in text])"
      ]
    },
    {
      "cell_type": "code",
      "execution_count": 10,
      "metadata": {
        "colab": {
          "base_uri": "https://localhost:8080/"
        },
        "id": "CsTcQHbOmIXW",
        "outputId": "3bf2446a-2a27-4883-e223-d0a85fa11d2e"
      },
      "outputs": [
        {
          "output_type": "stream",
          "name": "stdout",
          "text": [
            "X\n"
          ]
        }
      ],
      "source": [
        "# Encoding and then decoding produces the initial character\n",
        "print(int2char[char2int['X']])"
      ]
    },
    {
      "cell_type": "markdown",
      "metadata": {
        "id": "naZeJhL6ycF6"
      },
      "source": [
        "The LSTM accepts only one-hot encoded vectors, so we prepare a function that takes as input an array of encoded characters and outputs an array of one-hot vectors."
      ]
    },
    {
      "cell_type": "code",
      "execution_count": 11,
      "metadata": {
        "colab": {
          "base_uri": "https://localhost:8080/"
        },
        "id": "Lyerrn0jycF7",
        "outputId": "f05263cc-816e-443b-84ec-cdd19aa76b96"
      },
      "outputs": [
        {
          "output_type": "execute_result",
          "data": {
            "text/plain": [
              "array([0., 0., 0., 0., 0., 0., 0., 0., 0., 0., 0., 0., 1., 0., 0., 0., 0.,\n",
              "       0., 0., 0., 0., 0., 0., 0., 0., 0., 0., 0., 0., 0., 0., 0., 0., 0.,\n",
              "       0., 0., 0., 0., 0., 0., 0., 0., 0., 0., 0., 0., 0., 0., 0., 0., 0.,\n",
              "       0., 0., 0., 0., 0., 0., 0., 0., 0., 0., 0., 0., 0., 0.])"
            ]
          },
          "metadata": {},
          "execution_count": 11
        }
      ],
      "source": [
        "def to_one_hot(char_encoding):\n",
        "    one_hot = np.zeros(len(int2char))\n",
        "    one_hot[char_encoding] = 1\n",
        "    return one_hot\n",
        "\n",
        "# Test\n",
        "to_one_hot(12)"
      ]
    },
    {
      "cell_type": "markdown",
      "metadata": {
        "id": "AiApitI5s_DA"
      },
      "source": [
        "## Train, validation and test split"
      ]
    },
    {
      "cell_type": "code",
      "execution_count": 12,
      "metadata": {
        "colab": {
          "base_uri": "https://localhost:8080/"
        },
        "id": "6ZSNwrn_tC8R",
        "outputId": "03f783a6-2c06-4fcc-9fe0-b2955a715514"
      },
      "outputs": [
        {
          "output_type": "stream",
          "name": "stdout",
          "text": [
            "(892315,)\n",
            "(111539,)\n",
            "(111540,)\n"
          ]
        }
      ],
      "source": [
        "split1 = int(encoded_text.shape[0] * 0.8)  # 80% for training\n",
        "split2 = int(encoded_text.shape[0] * 0.9)  # 10% for testing\n",
        "\n",
        "train_data, val_data, test_data = np.split(encoded_text, [split1, split2])\n",
        "print(train_data.shape)\n",
        "print(val_data.shape)\n",
        "print(test_data.shape)"
      ]
    },
    {
      "cell_type": "markdown",
      "metadata": {
        "id": "_0fYgSq2ycF7"
      },
      "source": [
        "## Mini-batches generation\n",
        "\n",
        "We define a function that uses the text encodings to create input and target arrays, where the targets are the same as the inputs, but shifted over one character."
      ]
    },
    {
      "cell_type": "code",
      "execution_count": 13,
      "metadata": {
        "id": "SPrN0R-aycF8"
      },
      "outputs": [],
      "source": [
        "# Divide the array of encodings into batches.\n",
        "def get_batches(encodings_arr, sequences_per_batch, chars_per_sequence):\n",
        "    batch_size = sequences_per_batch * chars_per_sequence\n",
        "    number_of_batches = len(encodings_arr)//batch_size\n",
        "    \n",
        "    # Keep only enough characters to make full batches\n",
        "    encodings_arr = encodings_arr[:number_of_batches * batch_size]\n",
        "    \n",
        "    # Split the array into sequences by reshaping it into `sequences_per_batch` rows.\n",
        "    encodings_arr = encodings_arr.reshape((sequences_per_batch, -1))\n",
        "    \n",
        "    for n in range(0, encodings_arr.shape[1], chars_per_sequence):        \n",
        "        # The features\n",
        "        x = encodings_arr[:, n:n+chars_per_sequence]\n",
        "        \n",
        "        # The targets, shifted by one\n",
        "        y = np.zeros_like(x)\n",
        "        \n",
        "        try:\n",
        "            y[:, :-1], y[:, -1] = x[:, 1:], encodings_arr[:, n+chars_per_sequence]\n",
        "        except IndexError:\n",
        "            y[:, :-1], y[:, -1] = x[:, 1:], encodings_arr[:, 0]\n",
        "        \n",
        "        yield x, y"
      ]
    },
    {
      "cell_type": "markdown",
      "metadata": {
        "id": "UVfu3TPeuPlU"
      },
      "source": [
        "#### Test the mini-batches generation"
      ]
    },
    {
      "cell_type": "code",
      "execution_count": 14,
      "metadata": {
        "colab": {
          "base_uri": "https://localhost:8080/"
        },
        "id": "5RV7g3posJ77",
        "outputId": "9fa6fc12-84a7-4104-e49e-e23860d6450e"
      },
      "outputs": [
        {
          "output_type": "stream",
          "name": "stdout",
          "text": [
            "Every mini-batch is a tuple of 2 arrays.\n",
            "First one contains features and in this case has shape (3, 100)\n",
            "Second one contains targets and in this case has shape (3, 100)\n"
          ]
        }
      ],
      "source": [
        "first_batch = next(get_batches(encoded_text, 3, 100))\n",
        "print(f'Every mini-batch is a tuple of {len(first_batch)} arrays.')\n",
        "print(f'First one contains features and in this case has shape {first_batch[0].shape}')\n",
        "print(f'Second one contains targets and in this case has shape {first_batch[1].shape}')"
      ]
    },
    {
      "cell_type": "code",
      "execution_count": 15,
      "metadata": {
        "colab": {
          "base_uri": "https://localhost:8080/"
        },
        "id": "uacfp0MMycF8",
        "outputId": "5708f875-34d1-456f-8043-23c06b069fbf"
      },
      "outputs": [
        {
          "output_type": "stream",
          "name": "stdout",
          "text": [
            "x\n",
            " [[17 21 35 56 27 63 30 21 27 21]\n",
            " [63 27 31 13 27 63 64  3 25 19]\n",
            " [56 45 63 37 59 43 31 13 42 42]]\n",
            "\n",
            "y\n",
            " [[21 35 56 27 63 30 21 27 21  7]\n",
            " [27 31 13 27 63 64  3 25 19 14]\n",
            " [45 63 37 59 43 31 13 42 42 63]]\n"
          ]
        }
      ],
      "source": [
        "x, y = first_batch\n",
        "print('x\\n', x[:10, :10])\n",
        "print('\\ny\\n', y[:10, :10])"
      ]
    },
    {
      "cell_type": "markdown",
      "metadata": {
        "id": "p5NJ0QTRycF9"
      },
      "source": [
        "The data is correctly shifted over one step for `y`."
      ]
    },
    {
      "cell_type": "markdown",
      "metadata": {
        "id": "65etXbJ0ycF9"
      },
      "source": [
        "---\n",
        "## Model definition"
      ]
    },
    {
      "cell_type": "code",
      "execution_count": 16,
      "metadata": {
        "id": "PoanYVyPycF-"
      },
      "outputs": [],
      "source": [
        "class CharRNN(nn.Module):\n",
        "    def __init__(self, n_hidden=256, n_layers=2, drop_prob=0.5):\n",
        "        super().__init__()\n",
        "        self.n_layers = n_layers\n",
        "        self.n_hidden = n_hidden\n",
        "\n",
        "        char_embedding_size = len(int2char) # size of the one-hot vectors representing characters\n",
        "        self.lstm = nn.LSTM(char_embedding_size, n_hidden, n_layers, dropout=drop_prob, batch_first=True)\n",
        "        self.dropout = nn.Dropout(drop_prob)\n",
        "        self.fc = nn.Linear(n_hidden, char_embedding_size)\n",
        "        \n",
        "        self.init_weights()\n",
        "      \n",
        "    \n",
        "    def forward(self, x, hc):\n",
        "        # Get x, and the new hidden state (h, c) from the lstm\n",
        "        x, (h, c) = self.lstm(x, hc)\n",
        "        \n",
        "        x = self.dropout(x)\n",
        "        \n",
        "        # Stack up LSTM outputs\n",
        "        x = x.reshape(x.size()[0] * x.size()[1], self.n_hidden)\n",
        "        \n",
        "        x = self.fc(x)\n",
        "        \n",
        "        # Return x and the hidden state (h, c)\n",
        "        return x, (h, c)\n",
        "    \n",
        "    \n",
        "    def predict(self, char, h=None, cuda=False, top_k=None):\n",
        "        ''' Given a character and the hidden state, predict the next character.\n",
        "        \n",
        "            Returns the predicted character and the new hidden state.\n",
        "        '''\n",
        "        if cuda:\n",
        "            self.cuda()\n",
        "        else:\n",
        "            self.cpu()\n",
        "        \n",
        "        if h is None:\n",
        "            h = self.init_hidden(1)\n",
        "        \n",
        "        x = np.array([[to_one_hot(char2int[char])]], dtype=np.float32)\n",
        "        \n",
        "        inputs = torch.from_numpy(x)\n",
        "        \n",
        "        if cuda:\n",
        "            inputs = inputs.cuda()\n",
        "        \n",
        "        h = tuple([h_item.data for h_item in h])\n",
        "        out, h = self.forward(inputs, h)\n",
        "\n",
        "        p = F.softmax(out, dim=1).data\n",
        "        \n",
        "        if cuda:\n",
        "            p = p.cpu()\n",
        "        \n",
        "        if top_k is None:\n",
        "            top_ch = np.arange(len(int2char))\n",
        "        else:\n",
        "            p, top_ch = p.topk(top_k)\n",
        "            top_ch = top_ch.numpy().squeeze()\n",
        "        \n",
        "        p = p.numpy().squeeze()\n",
        "        \n",
        "        char = np.random.choice(top_ch, p=p/p.sum())\n",
        "            \n",
        "        return int2char[char], h\n",
        "    \n",
        "    def init_weights(self):\n",
        "        self.fc.bias.data.fill_(0)\n",
        "        self.fc.weight.data.uniform_(-1, 1)\n",
        "        \n",
        "    def init_hidden(self, n_seqs):\n",
        "        ''' Initializes hidden state '''\n",
        "        # Create two new tensors with sizes n_layers x n_seqs x n_hidden,\n",
        "        # initialized to zero, for hidden state and cell state of LSTM\n",
        "        weight = next(self.parameters()).data\n",
        "        return (weight.new(self.n_layers, n_seqs, self.n_hidden).zero_(),\n",
        "                weight.new(self.n_layers, n_seqs, self.n_hidden).zero_())\n",
        "        "
      ]
    },
    {
      "cell_type": "markdown",
      "metadata": {
        "id": "kMIfAIVzycGC"
      },
      "source": [
        "## Sampling\n",
        "\n",
        "To sample from the trained model, we pass in a character and have the network predict the next character. Then we take that character, pass it back in, and get another predicted character. By keeping doing this we'll generate a bunch of text.\n",
        "\n",
        "### Top K sampling\n",
        "\n",
        "Our predictions come from a categorical probability distribution over all the possible characters. We can make the sample text and make it more reasonable to handle (with less variables) by only considering some $K$ most probable characters. This will prevent the network from giving us completely absurd characters while allowing it to introduce some noise and randomness into the sampled text.\n",
        "\n",
        "In general the first bunch of characters will be a little rough since it hasn't built up a long history of characters to predict from."
      ]
    },
    {
      "cell_type": "code",
      "execution_count": 17,
      "metadata": {
        "id": "gbzwujN-ycGC"
      },
      "outputs": [],
      "source": [
        "def generate_sample(net, sample_length, prime='The ', top_k=None):\n",
        "    cuda = torch.cuda.is_available()\n",
        "    if cuda:\n",
        "        net.cuda()\n",
        "    else:\n",
        "        net.cpu()\n",
        "\n",
        "    net.eval()\n",
        "    \n",
        "    chars = [ch for ch in prime]\n",
        "    \n",
        "    h = net.init_hidden(1)\n",
        "    for ch in prime:\n",
        "        char, h = net.predict(ch, h, cuda=cuda, top_k=top_k)\n",
        "\n",
        "    chars.append(char)\n",
        "    \n",
        "    for ii in range(sample_length):\n",
        "        char, h = net.predict(chars[-1], h, cuda=cuda, top_k=top_k)\n",
        "        chars.append(char)\n",
        "\n",
        "    return ''.join(chars)"
      ]
    },
    {
      "cell_type": "markdown",
      "metadata": {
        "id": "3XWWejkPycF_"
      },
      "source": [
        "## Network training and evaluation"
      ]
    },
    {
      "cell_type": "code",
      "execution_count": 18,
      "metadata": {
        "id": "B9-vNUbv5BF2"
      },
      "outputs": [],
      "source": [
        "EPOCHS = 35\n",
        "N_SEQS = 128\n",
        "N_STEPS = 100\n",
        "LR = 3e-4\n",
        "CLIP = 5  # gradient clipping\n",
        "CUDA = torch.cuda.is_available()\n",
        "\n",
        "criterion = nn.CrossEntropyLoss()\n",
        "\n",
        "def create_and_train_model():\n",
        "    net = CharRNN(n_hidden=512, n_layers=2)\n",
        "    print(net, '\\n')\n",
        "\n",
        "    net.train()\n",
        "    opt = torch.optim.Adam(net.parameters(), lr=LR)\n",
        "\n",
        "    if CUDA:\n",
        "        net.cuda()\n",
        "\n",
        "    chart_train_losses = []\n",
        "    chart_val_losses = []\n",
        "    chart_val_f1_bert_scores = []\n",
        "    chart_val_bleu_scores = []\n",
        "\n",
        "    train_counter = 0\n",
        "    for e in range(EPOCHS):\n",
        "        h = net.init_hidden(N_SEQS)\n",
        "\n",
        "        for x, y in get_batches(train_data, N_SEQS, N_STEPS):\n",
        "            train_counter += 1\n",
        "            net.train()\n",
        "            \n",
        "            # One-hot encode our data and make them Torch tensors\n",
        "            x = np.array([\n",
        "                [to_one_hot(c) for c in seq] for seq in x\n",
        "            ], dtype=np.float32)\n",
        "            inputs, targets = torch.from_numpy(x), torch.from_numpy(y)\n",
        "            \n",
        "            if CUDA:\n",
        "                inputs, targets = inputs.cuda(), targets.cuda()\n",
        "\n",
        "            # Creating new variables for the hidden state, otherwise\n",
        "            # we'd backprop through the entire training history\n",
        "            h = tuple([each.data for each in h])\n",
        "\n",
        "            net.zero_grad()\n",
        "            \n",
        "            output, h = net.forward(inputs, h)\n",
        "            \n",
        "            loss = criterion(\n",
        "                output,\n",
        "                targets.view(N_SEQS*N_STEPS).type(torch.cuda.LongTensor if CUDA else torch.LongTensor)\n",
        "            )\n",
        "\n",
        "            loss.backward()\n",
        "            \n",
        "            # `clip_grad_norm` helps prevent the exploding gradient problem in RNNs / LSTMs.\n",
        "            nn.utils.clip_grad_norm_(net.parameters(), CLIP)\n",
        "\n",
        "            opt.step()\n",
        "            \n",
        "            if train_counter % 25 == 0:\n",
        "\n",
        "                # Get validation loss\n",
        "                val_h = net.init_hidden(N_SEQS)\n",
        "                val_losses = []\n",
        "                for x, y in get_batches(val_data, N_SEQS, N_STEPS):\n",
        "                    # One-hot encode our data and make them Torch tensors\n",
        "                    x = np.array([\n",
        "                        [to_one_hot(c) for c in seq] for seq in x\n",
        "                    ], dtype=np.float32)\n",
        "                    x, y = torch.from_numpy(x), torch.from_numpy(y)\n",
        "                    \n",
        "                    val_h = tuple([each.data for each in val_h])\n",
        "                    \n",
        "                    inputs, targets = x, y\n",
        "                    if CUDA:\n",
        "                        inputs, targets = inputs.cuda(), targets.cuda()\n",
        "\n",
        "                    output, val_h = net.forward(inputs, val_h)\n",
        "                    val_loss = criterion(\n",
        "                        output,\n",
        "                        targets.view(N_SEQS*N_STEPS).type(torch.cuda.LongTensor if CUDA else torch.LongTensor)\n",
        "                    )\n",
        "                \n",
        "                    val_losses.append(val_loss.item())\n",
        "                \n",
        "                # Let's divide the text into chunks and see how the model performs at predicting the next chunk.\n",
        "                val_text = ''.join([int2char[n] for n in val_data])\n",
        "                val_text = val_text[:500]  # for performance reasons\n",
        "\n",
        "                chunk_size = 100\n",
        "                number_of_chunks = len(val_text)//chunk_size\n",
        "\n",
        "                val_f1_bert_scores = []\n",
        "                val_bleu_scores = []\n",
        "                chunks = [val_text[i:i+chunk_size] for i in range(0, number_of_chunks*chunk_size, chunk_size)]\n",
        "                for k in range(len(chunks)-1):\n",
        "                    predicted_text = generate_sample(net, chunk_size, prime=''.join(chunks[:k+1]))\n",
        "                    predicted_text = predicted_text[-chunk_size:]\n",
        "                    target_text = chunks[k+1]\n",
        "                    # Calculate metrics for comparing target and predicted text\n",
        "                    val_f1_bert_scores.append(\n",
        "                        bert_score([predicted_text], [target_text])['f1']\n",
        "                    )\n",
        "                    val_bleu_scores.append(\n",
        "                        sentence_bleu([target_text], predicted_text, weights = (0.5, 0.5))\n",
        "                    )\n",
        "\n",
        "                chart_train_losses.append(loss.item())\n",
        "                chart_val_losses.append(np.mean(val_losses))\n",
        "                chart_val_f1_bert_scores.append(np.mean(val_f1_bert_scores))\n",
        "                chart_val_bleu_scores.append(np.mean(val_bleu_scores))\n",
        "                print(\"Epoch: {}/{}...\".format(e+1, EPOCHS),\n",
        "                      \"Loss: {:.4f}...\".format(loss.item()),\n",
        "                      \"Val Loss: {:.4f}...\".format(np.mean(val_losses)),\n",
        "                      \"Val BERTScore: {:.4f}...\".format(np.mean(val_f1_bert_scores)),\n",
        "                      \"Val BERTScore std: {:.4f}\".format(np.std(val_f1_bert_scores)),\n",
        "                      \"Val BLEU score: {:.4f}...\".format(np.mean(val_bleu_scores)),\n",
        "                      \"Val BLEU score std: {:.4f}\".format(np.std(val_bleu_scores)))\n",
        "\n",
        "    print('')\n",
        "    fig, ax = plt.subplots()\n",
        "    ax.plot(chart_train_losses, label='Train loss')\n",
        "    ax.plot(chart_val_losses, label='Val loss')\n",
        "    ax.legend()\n",
        "    plt.show()\n",
        "\n",
        "    fig, ax = plt.subplots()\n",
        "    ax.plot(chart_val_f1_bert_scores, label='Val BERTScore')\n",
        "    ax.legend()\n",
        "    plt.show()\n",
        "\n",
        "    fig, ax = plt.subplots()\n",
        "    ax.plot(chart_val_bleu_scores, label='Val BLEU score')\n",
        "    ax.legend()\n",
        "    plt.show()\n",
        "\n",
        "    return net"
      ]
    },
    {
      "cell_type": "code",
      "execution_count": 19,
      "metadata": {
        "id": "4i5DpUly6Vpy"
      },
      "outputs": [],
      "source": [
        "def eval_trained_model(net):\n",
        "    net.eval()\n",
        "\n",
        "    test_h = net.init_hidden(N_SEQS)\n",
        "    test_losses = []\n",
        "    for x, y in get_batches(test_data, N_SEQS, N_STEPS):\n",
        "        # One-hot encode our data and make them Torch tensors\n",
        "        x = np.array([\n",
        "            [to_one_hot(c) for c in seq] for seq in x\n",
        "        ], dtype=np.float32)\n",
        "        x, y = torch.from_numpy(x), torch.from_numpy(y)\n",
        "        \n",
        "        test_h = tuple([each.data for each in test_h])\n",
        "        \n",
        "        inputs, targets = x, y\n",
        "        if CUDA:\n",
        "            inputs, targets = inputs.cuda(), targets.cuda()\n",
        "\n",
        "        output, test_h = net.forward(inputs, test_h)\n",
        "        test_loss = criterion(\n",
        "            output,\n",
        "            targets.view(N_SEQS*N_STEPS).type(torch.cuda.LongTensor if CUDA else torch.LongTensor)\n",
        "        )\n",
        "\n",
        "        test_losses.append(test_loss.item())\n",
        "    \n",
        "    print(f'\\nTest Loss: {round(np.mean(test_losses), 4)}')\n",
        "\n",
        "    # ERROR ANALYSIS\n",
        "\n",
        "    # Let's divide the text into chunks and see how the model performs at predicting the next chunk.\n",
        "    test_text = ''.join([int2char[n] for n in test_data])\n",
        "    test_text = test_text[:4000]  # for performance reasons\n",
        "\n",
        "    chunk_size = 100\n",
        "    number_of_chunks = len(test_text)//chunk_size\n",
        "    \n",
        "    results = []\n",
        "    \n",
        "    chunks = [test_text[i:i+chunk_size] for i in range(0, number_of_chunks*chunk_size, chunk_size)]\n",
        "    for k in range(len(chunks)-1):\n",
        "        prime = ''.join(chunks[:k+1])\n",
        "        predicted_text = generate_sample(net, chunk_size, prime=prime)\n",
        "        predicted_text = predicted_text[-chunk_size:]\n",
        "        target_text = chunks[k+1]\n",
        "        bleu_score = sentence_bleu([target_text], predicted_text, weights = (0.5, 0.5))\n",
        "        results.append({\n",
        "            'prime': prime,\n",
        "            'target_continuation': target_text,\n",
        "            'predicted_continuation': predicted_text,\n",
        "            'bleu_score': bleu_score,\n",
        "        })\n",
        "\n",
        "    import json\n",
        "    print('\\nGood results:')\n",
        "    print(json.dumps(sorted(results, key=lambda res: res['bleu_score'], reverse=True)[:5], indent=4))\n",
        "    print('\\nBad results:')\n",
        "    print(json.dumps(sorted(results, key=lambda res: res['bleu_score'], reverse=False)[:5], indent=4))"
      ]
    },
    {
      "cell_type": "code",
      "execution_count": 20,
      "metadata": {
        "colab": {
          "base_uri": "https://localhost:8080/",
          "height": 1000
        },
        "id": "bOsuboWKycF_",
        "outputId": "e5fdef11-799b-42ae-e94b-5ae6ad1c1313"
      },
      "outputs": [
        {
          "output_type": "stream",
          "name": "stdout",
          "text": [
            "CharRNN(\n",
            "  (lstm): LSTM(65, 512, num_layers=2, batch_first=True, dropout=0.5)\n",
            "  (dropout): Dropout(p=0.5, inplace=False)\n",
            "  (fc): Linear(in_features=512, out_features=65, bias=True)\n",
            ") \n",
            "\n",
            "Epoch: 1/35... Loss: 3.4077... Val Loss: 3.4001... Val BERTScore: 0.9715... Val BERTScore std: 0.0028 Val BLEU score: 0.3217... Val BLEU score std: 0.0348\n",
            "Epoch: 1/35... Loss: 3.2642... Val Loss: 3.2720... Val BERTScore: 0.9718... Val BERTScore std: 0.0033 Val BLEU score: 0.3330... Val BLEU score std: 0.0243\n",
            "Epoch: 2/35... Loss: 3.1213... Val Loss: 3.1088... Val BERTScore: 0.9737... Val BERTScore std: 0.0030 Val BLEU score: 0.3345... Val BLEU score std: 0.0635\n",
            "Epoch: 2/35... Loss: 2.9133... Val Loss: 2.9118... Val BERTScore: 0.9742... Val BERTScore std: 0.0021 Val BLEU score: 0.3432... Val BLEU score std: 0.0296\n",
            "Epoch: 2/35... Loss: 2.7371... Val Loss: 2.7379... Val BERTScore: 0.9754... Val BERTScore std: 0.0016 Val BLEU score: 0.4000... Val BLEU score std: 0.0419\n",
            "Epoch: 3/35... Loss: 2.6063... Val Loss: 2.6443... Val BERTScore: 0.9756... Val BERTScore std: 0.0012 Val BLEU score: 0.4230... Val BLEU score std: 0.0247\n",
            "Epoch: 3/35... Loss: 2.5484... Val Loss: 2.5823... Val BERTScore: 0.9778... Val BERTScore std: 0.0021 Val BLEU score: 0.3906... Val BLEU score std: 0.0228\n",
            "Epoch: 3/35... Loss: 2.4961... Val Loss: 2.5398... Val BERTScore: 0.9761... Val BERTScore std: 0.0012 Val BLEU score: 0.4106... Val BLEU score std: 0.0282\n",
            "Epoch: 4/35... Loss: 2.4579... Val Loss: 2.5103... Val BERTScore: 0.9781... Val BERTScore std: 0.0017 Val BLEU score: 0.4668... Val BLEU score std: 0.0077\n",
            "Epoch: 4/35... Loss: 2.4365... Val Loss: 2.4815... Val BERTScore: 0.9754... Val BERTScore std: 0.0025 Val BLEU score: 0.4445... Val BLEU score std: 0.0369\n",
            "Epoch: 4/35... Loss: 2.3739... Val Loss: 2.4547... Val BERTScore: 0.9759... Val BERTScore std: 0.0021 Val BLEU score: 0.4438... Val BLEU score std: 0.0272\n",
            "Epoch: 5/35... Loss: 2.3401... Val Loss: 2.4333... Val BERTScore: 0.9760... Val BERTScore std: 0.0011 Val BLEU score: 0.4711... Val BLEU score std: 0.0499\n",
            "Epoch: 5/35... Loss: 2.3585... Val Loss: 2.4197... Val BERTScore: 0.9764... Val BERTScore std: 0.0025 Val BLEU score: 0.4230... Val BLEU score std: 0.0233\n",
            "Epoch: 6/35... Loss: 2.3234... Val Loss: 2.3996... Val BERTScore: 0.9772... Val BERTScore std: 0.0011 Val BLEU score: 0.4525... Val BLEU score std: 0.0325\n",
            "Epoch: 6/35... Loss: 2.3069... Val Loss: 2.3830... Val BERTScore: 0.9766... Val BERTScore std: 0.0009 Val BLEU score: 0.4611... Val BLEU score std: 0.0137\n",
            "Epoch: 6/35... Loss: 2.2768... Val Loss: 2.3629... Val BERTScore: 0.9777... Val BERTScore std: 0.0019 Val BLEU score: 0.3708... Val BLEU score std: 0.0243\n",
            "Epoch: 7/35... Loss: 2.2591... Val Loss: 2.3554... Val BERTScore: 0.9774... Val BERTScore std: 0.0019 Val BLEU score: 0.4462... Val BLEU score std: 0.0297\n",
            "Epoch: 7/35... Loss: 2.2353... Val Loss: 2.3448... Val BERTScore: 0.9779... Val BERTScore std: 0.0014 Val BLEU score: 0.4382... Val BLEU score std: 0.0288\n",
            "Epoch: 7/35... Loss: 2.2141... Val Loss: 2.3239... Val BERTScore: 0.9785... Val BERTScore std: 0.0016 Val BLEU score: 0.4090... Val BLEU score std: 0.0707\n",
            "Epoch: 8/35... Loss: 2.2141... Val Loss: 2.3177... Val BERTScore: 0.9764... Val BERTScore std: 0.0017 Val BLEU score: 0.4439... Val BLEU score std: 0.0281\n",
            "Epoch: 8/35... Loss: 2.1884... Val Loss: 2.2992... Val BERTScore: 0.9781... Val BERTScore std: 0.0021 Val BLEU score: 0.4630... Val BLEU score std: 0.0225\n",
            "Epoch: 8/35... Loss: 2.1946... Val Loss: 2.2840... Val BERTScore: 0.9778... Val BERTScore std: 0.0023 Val BLEU score: 0.4574... Val BLEU score std: 0.0268\n",
            "Epoch: 9/35... Loss: 2.1475... Val Loss: 2.2764... Val BERTScore: 0.9770... Val BERTScore std: 0.0036 Val BLEU score: 0.4333... Val BLEU score std: 0.0448\n",
            "Epoch: 9/35... Loss: 2.1831... Val Loss: 2.2635... Val BERTScore: 0.9766... Val BERTScore std: 0.0019 Val BLEU score: 0.4377... Val BLEU score std: 0.0266\n",
            "Epoch: 10/35... Loss: 2.1493... Val Loss: 2.2471... Val BERTScore: 0.9770... Val BERTScore std: 0.0026 Val BLEU score: 0.4604... Val BLEU score std: 0.0335\n",
            "Epoch: 10/35... Loss: 2.0992... Val Loss: 2.2472... Val BERTScore: 0.9756... Val BERTScore std: 0.0028 Val BLEU score: 0.5011... Val BLEU score std: 0.0292\n",
            "Epoch: 10/35... Loss: 2.1368... Val Loss: 2.2367... Val BERTScore: 0.9762... Val BERTScore std: 0.0026 Val BLEU score: 0.4241... Val BLEU score std: 0.0347\n",
            "Epoch: 11/35... Loss: 2.1228... Val Loss: 2.2169... Val BERTScore: 0.9770... Val BERTScore std: 0.0008 Val BLEU score: 0.4365... Val BLEU score std: 0.0150\n",
            "Epoch: 11/35... Loss: 2.1021... Val Loss: 2.2130... Val BERTScore: 0.9780... Val BERTScore std: 0.0009 Val BLEU score: 0.4483... Val BLEU score std: 0.0123\n",
            "Epoch: 11/35... Loss: 2.0730... Val Loss: 2.1923... Val BERTScore: 0.9772... Val BERTScore std: 0.0019 Val BLEU score: 0.4935... Val BLEU score std: 0.0470\n",
            "Epoch: 12/35... Loss: 2.0388... Val Loss: 2.1848... Val BERTScore: 0.9779... Val BERTScore std: 0.0014 Val BLEU score: 0.4648... Val BLEU score std: 0.0541\n",
            "Epoch: 12/35... Loss: 2.0631... Val Loss: 2.1712... Val BERTScore: 0.9775... Val BERTScore std: 0.0019 Val BLEU score: 0.4038... Val BLEU score std: 0.0252\n",
            "Epoch: 12/35... Loss: 2.0230... Val Loss: 2.1537... Val BERTScore: 0.9781... Val BERTScore std: 0.0012 Val BLEU score: 0.4578... Val BLEU score std: 0.0495\n",
            "Epoch: 13/35... Loss: 1.9947... Val Loss: 2.1628... Val BERTScore: 0.9766... Val BERTScore std: 0.0020 Val BLEU score: 0.4798... Val BLEU score std: 0.0422\n",
            "Epoch: 13/35... Loss: 2.0229... Val Loss: 2.1429... Val BERTScore: 0.9772... Val BERTScore std: 0.0015 Val BLEU score: 0.4692... Val BLEU score std: 0.0497\n",
            "Epoch: 14/35... Loss: 2.0025... Val Loss: 2.1315... Val BERTScore: 0.9774... Val BERTScore std: 0.0022 Val BLEU score: 0.4604... Val BLEU score std: 0.0168\n",
            "Epoch: 14/35... Loss: 2.0042... Val Loss: 2.1272... Val BERTScore: 0.9773... Val BERTScore std: 0.0028 Val BLEU score: 0.4764... Val BLEU score std: 0.0398\n",
            "Epoch: 14/35... Loss: 1.9756... Val Loss: 2.1094... Val BERTScore: 0.9770... Val BERTScore std: 0.0009 Val BLEU score: 0.4475... Val BLEU score std: 0.0204\n",
            "Epoch: 15/35... Loss: 1.9494... Val Loss: 2.1091... Val BERTScore: 0.9781... Val BERTScore std: 0.0027 Val BLEU score: 0.4273... Val BLEU score std: 0.0444\n",
            "Epoch: 15/35... Loss: 1.9622... Val Loss: 2.0959... Val BERTScore: 0.9775... Val BERTScore std: 0.0025 Val BLEU score: 0.5004... Val BLEU score std: 0.0546\n",
            "Epoch: 15/35... Loss: 2.0026... Val Loss: 2.0874... Val BERTScore: 0.9768... Val BERTScore std: 0.0020 Val BLEU score: 0.4716... Val BLEU score std: 0.0166\n",
            "Epoch: 16/35... Loss: 1.9739... Val Loss: 2.0797... Val BERTScore: 0.9775... Val BERTScore std: 0.0019 Val BLEU score: 0.4567... Val BLEU score std: 0.0180\n",
            "Epoch: 16/35... Loss: 1.9612... Val Loss: 2.0710... Val BERTScore: 0.9770... Val BERTScore std: 0.0041 Val BLEU score: 0.4501... Val BLEU score std: 0.0271\n",
            "Epoch: 16/35... Loss: 1.9458... Val Loss: 2.0658... Val BERTScore: 0.9767... Val BERTScore std: 0.0005 Val BLEU score: 0.4516... Val BLEU score std: 0.0470\n",
            "Epoch: 17/35... Loss: 1.9101... Val Loss: 2.0563... Val BERTScore: 0.9783... Val BERTScore std: 0.0024 Val BLEU score: 0.4495... Val BLEU score std: 0.0388\n",
            "Epoch: 17/35... Loss: 1.9101... Val Loss: 2.0476... Val BERTScore: 0.9762... Val BERTScore std: 0.0029 Val BLEU score: 0.4476... Val BLEU score std: 0.0361\n",
            "Epoch: 18/35... Loss: 1.9016... Val Loss: 2.0409... Val BERTScore: 0.9769... Val BERTScore std: 0.0022 Val BLEU score: 0.4687... Val BLEU score std: 0.0203\n",
            "Epoch: 18/35... Loss: 1.8654... Val Loss: 2.0333... Val BERTScore: 0.9782... Val BERTScore std: 0.0015 Val BLEU score: 0.4636... Val BLEU score std: 0.0454\n",
            "Epoch: 18/35... Loss: 1.8740... Val Loss: 2.0206... Val BERTScore: 0.9758... Val BERTScore std: 0.0014 Val BLEU score: 0.4657... Val BLEU score std: 0.0407\n",
            "Epoch: 19/35... Loss: 1.9080... Val Loss: 2.0096... Val BERTScore: 0.9780... Val BERTScore std: 0.0019 Val BLEU score: 0.4374... Val BLEU score std: 0.0847\n",
            "Epoch: 19/35... Loss: 1.8948... Val Loss: 2.0060... Val BERTScore: 0.9775... Val BERTScore std: 0.0012 Val BLEU score: 0.4440... Val BLEU score std: 0.0298\n",
            "Epoch: 19/35... Loss: 1.8861... Val Loss: 2.0059... Val BERTScore: 0.9775... Val BERTScore std: 0.0019 Val BLEU score: 0.4161... Val BLEU score std: 0.0293\n",
            "Epoch: 20/35... Loss: 1.8721... Val Loss: 1.9958... Val BERTScore: 0.9777... Val BERTScore std: 0.0014 Val BLEU score: 0.4507... Val BLEU score std: 0.0339\n",
            "Epoch: 20/35... Loss: 1.8717... Val Loss: 1.9834... Val BERTScore: 0.9763... Val BERTScore std: 0.0011 Val BLEU score: 0.4470... Val BLEU score std: 0.0162\n",
            "Epoch: 20/35... Loss: 1.8389... Val Loss: 1.9882... Val BERTScore: 0.9785... Val BERTScore std: 0.0020 Val BLEU score: 0.4700... Val BLEU score std: 0.0327\n",
            "Epoch: 21/35... Loss: 1.8445... Val Loss: 1.9800... Val BERTScore: 0.9777... Val BERTScore std: 0.0024 Val BLEU score: 0.4494... Val BLEU score std: 0.0375\n",
            "Epoch: 21/35... Loss: 1.8220... Val Loss: 1.9669... Val BERTScore: 0.9776... Val BERTScore std: 0.0008 Val BLEU score: 0.4301... Val BLEU score std: 0.0213\n",
            "Epoch: 22/35... Loss: 1.8676... Val Loss: 1.9669... Val BERTScore: 0.9780... Val BERTScore std: 0.0012 Val BLEU score: 0.4720... Val BLEU score std: 0.0296\n",
            "Epoch: 22/35... Loss: 1.8163... Val Loss: 1.9583... Val BERTScore: 0.9773... Val BERTScore std: 0.0034 Val BLEU score: 0.4326... Val BLEU score std: 0.0156\n",
            "Epoch: 22/35... Loss: 1.8327... Val Loss: 1.9506... Val BERTScore: 0.9777... Val BERTScore std: 0.0022 Val BLEU score: 0.4406... Val BLEU score std: 0.0328\n",
            "Epoch: 23/35... Loss: 1.8500... Val Loss: 1.9440... Val BERTScore: 0.9773... Val BERTScore std: 0.0021 Val BLEU score: 0.4586... Val BLEU score std: 0.0581\n",
            "Epoch: 23/35... Loss: 1.7950... Val Loss: 1.9456... Val BERTScore: 0.9780... Val BERTScore std: 0.0008 Val BLEU score: 0.4862... Val BLEU score std: 0.0489\n",
            "Epoch: 23/35... Loss: 1.7855... Val Loss: 1.9338... Val BERTScore: 0.9771... Val BERTScore std: 0.0013 Val BLEU score: 0.4415... Val BLEU score std: 0.0510\n",
            "Epoch: 24/35... Loss: 1.8230... Val Loss: 1.9356... Val BERTScore: 0.9757... Val BERTScore std: 0.0030 Val BLEU score: 0.4624... Val BLEU score std: 0.0176\n",
            "Epoch: 24/35... Loss: 1.8224... Val Loss: 1.9259... Val BERTScore: 0.9769... Val BERTScore std: 0.0015 Val BLEU score: 0.4582... Val BLEU score std: 0.0300\n",
            "Epoch: 24/35... Loss: 1.7866... Val Loss: 1.9283... Val BERTScore: 0.9773... Val BERTScore std: 0.0006 Val BLEU score: 0.4704... Val BLEU score std: 0.0409\n",
            "Epoch: 25/35... Loss: 1.7491... Val Loss: 1.9181... Val BERTScore: 0.9771... Val BERTScore std: 0.0035 Val BLEU score: 0.4538... Val BLEU score std: 0.0587\n",
            "Epoch: 25/35... Loss: 1.7554... Val Loss: 1.9108... Val BERTScore: 0.9765... Val BERTScore std: 0.0018 Val BLEU score: 0.4563... Val BLEU score std: 0.0170\n",
            "Epoch: 25/35... Loss: 1.8255... Val Loss: 1.9068... Val BERTScore: 0.9775... Val BERTScore std: 0.0050 Val BLEU score: 0.4929... Val BLEU score std: 0.0378\n",
            "Epoch: 26/35... Loss: 1.7345... Val Loss: 1.9062... Val BERTScore: 0.9768... Val BERTScore std: 0.0022 Val BLEU score: 0.4777... Val BLEU score std: 0.0287\n",
            "Epoch: 26/35... Loss: 1.7929... Val Loss: 1.9029... Val BERTScore: 0.9780... Val BERTScore std: 0.0035 Val BLEU score: 0.4592... Val BLEU score std: 0.0499\n",
            "Epoch: 27/35... Loss: 1.7651... Val Loss: 1.8900... Val BERTScore: 0.9771... Val BERTScore std: 0.0020 Val BLEU score: 0.4579... Val BLEU score std: 0.0252\n",
            "Epoch: 27/35... Loss: 1.7445... Val Loss: 1.8978... Val BERTScore: 0.9764... Val BERTScore std: 0.0013 Val BLEU score: 0.4835... Val BLEU score std: 0.0770\n",
            "Epoch: 27/35... Loss: 1.7686... Val Loss: 1.8865... Val BERTScore: 0.9752... Val BERTScore std: 0.0028 Val BLEU score: 0.4360... Val BLEU score std: 0.0361\n",
            "Epoch: 28/35... Loss: 1.7422... Val Loss: 1.8890... Val BERTScore: 0.9768... Val BERTScore std: 0.0009 Val BLEU score: 0.4364... Val BLEU score std: 0.0117\n",
            "Epoch: 28/35... Loss: 1.7611... Val Loss: 1.8830... Val BERTScore: 0.9756... Val BERTScore std: 0.0006 Val BLEU score: 0.4720... Val BLEU score std: 0.0104\n",
            "Epoch: 28/35... Loss: 1.7530... Val Loss: 1.8771... Val BERTScore: 0.9746... Val BERTScore std: 0.0034 Val BLEU score: 0.4396... Val BLEU score std: 0.0312\n",
            "Epoch: 29/35... Loss: 1.7306... Val Loss: 1.8731... Val BERTScore: 0.9754... Val BERTScore std: 0.0029 Val BLEU score: 0.4563... Val BLEU score std: 0.0275\n",
            "Epoch: 29/35... Loss: 1.7550... Val Loss: 1.8671... Val BERTScore: 0.9763... Val BERTScore std: 0.0015 Val BLEU score: 0.4228... Val BLEU score std: 0.0420\n",
            "Epoch: 29/35... Loss: 1.7093... Val Loss: 1.8630... Val BERTScore: 0.9781... Val BERTScore std: 0.0013 Val BLEU score: 0.4522... Val BLEU score std: 0.0419\n",
            "Epoch: 30/35... Loss: 1.6931... Val Loss: 1.8642... Val BERTScore: 0.9777... Val BERTScore std: 0.0015 Val BLEU score: 0.4578... Val BLEU score std: 0.0397\n",
            "Epoch: 30/35... Loss: 1.7232... Val Loss: 1.8685... Val BERTScore: 0.9765... Val BERTScore std: 0.0017 Val BLEU score: 0.4761... Val BLEU score std: 0.0196\n",
            "Epoch: 31/35... Loss: 1.7236... Val Loss: 1.8561... Val BERTScore: 0.9776... Val BERTScore std: 0.0020 Val BLEU score: 0.4326... Val BLEU score std: 0.0849\n",
            "Epoch: 31/35... Loss: 1.6983... Val Loss: 1.8616... Val BERTScore: 0.9771... Val BERTScore std: 0.0025 Val BLEU score: 0.4765... Val BLEU score std: 0.0286\n",
            "Epoch: 31/35... Loss: 1.6878... Val Loss: 1.8451... Val BERTScore: 0.9771... Val BERTScore std: 0.0004 Val BLEU score: 0.4839... Val BLEU score std: 0.0219\n",
            "Epoch: 32/35... Loss: 1.6804... Val Loss: 1.8469... Val BERTScore: 0.9771... Val BERTScore std: 0.0028 Val BLEU score: 0.4577... Val BLEU score std: 0.0176\n",
            "Epoch: 32/35... Loss: 1.6866... Val Loss: 1.8452... Val BERTScore: 0.9783... Val BERTScore std: 0.0020 Val BLEU score: 0.4753... Val BLEU score std: 0.0584\n",
            "Epoch: 32/35... Loss: 1.6637... Val Loss: 1.8449... Val BERTScore: 0.9770... Val BERTScore std: 0.0004 Val BLEU score: 0.4628... Val BLEU score std: 0.0241\n",
            "Epoch: 33/35... Loss: 1.6921... Val Loss: 1.8411... Val BERTScore: 0.9754... Val BERTScore std: 0.0008 Val BLEU score: 0.4660... Val BLEU score std: 0.0574\n",
            "Epoch: 33/35... Loss: 1.6825... Val Loss: 1.8372... Val BERTScore: 0.9745... Val BERTScore std: 0.0042 Val BLEU score: 0.4361... Val BLEU score std: 0.0255\n",
            "Epoch: 33/35... Loss: 1.6722... Val Loss: 1.8369... Val BERTScore: 0.9753... Val BERTScore std: 0.0026 Val BLEU score: 0.4836... Val BLEU score std: 0.0397\n",
            "Epoch: 34/35... Loss: 1.6350... Val Loss: 1.8328... Val BERTScore: 0.9771... Val BERTScore std: 0.0011 Val BLEU score: 0.4628... Val BLEU score std: 0.0305\n",
            "Epoch: 34/35... Loss: 1.6755... Val Loss: 1.8257... Val BERTScore: 0.9783... Val BERTScore std: 0.0023 Val BLEU score: 0.4831... Val BLEU score std: 0.0456\n",
            "Epoch: 35/35... Loss: 1.6706... Val Loss: 1.8177... Val BERTScore: 0.9786... Val BERTScore std: 0.0018 Val BLEU score: 0.4431... Val BLEU score std: 0.0496\n",
            "Epoch: 35/35... Loss: 1.6238... Val Loss: 1.8282... Val BERTScore: 0.9757... Val BERTScore std: 0.0031 Val BLEU score: 0.4899... Val BLEU score std: 0.0388\n",
            "Epoch: 35/35... Loss: 1.6621... Val Loss: 1.8162... Val BERTScore: 0.9766... Val BERTScore std: 0.0020 Val BLEU score: 0.4836... Val BLEU score std: 0.0414\n",
            "\n"
          ]
        },
        {
          "output_type": "display_data",
          "data": {
            "text/plain": [
              "<Figure size 432x288 with 1 Axes>"
            ],
            "image/png": "[encoded data removed]"
          },
          "metadata": {
            "needs_background": "light"
          }
        },
        {
          "output_type": "display_data",
          "data": {
            "text/plain": [
              "<Figure size 432x288 with 1 Axes>"
            ],
            "image/png": "[encoded data removed]"
          },
          "metadata": {
            "needs_background": "light"
          }
        },
        {
          "output_type": "display_data",
          "data": {
            "text/plain": [
              "<Figure size 432x288 with 1 Axes>"
            ],
            "image/png": "[encoded data removed]"
          },
          "metadata": {
            "needs_background": "light"
          }
        },
        {
          "output_type": "stream",
          "name": "stdout",
          "text": [
            "\n",
            "====\n",
            "\n",
            "\n",
            "Test Loss: 1.8918\n",
            "\n",
            "Good results:\n",
            "[\n",
            "    {\n",
            "        \"prime\": \"?\\n\\nGREMIO:\\nGood morrow, neighbour Baptista.\\n\\nBAPTISTA:\\nGood morrow, neighbour Gremio.\\nGod save you, gentlemen!\\n\\nPETRUCHIO:\\nAnd you, good sir! Pray, have you not a daughter\\nCall'd Katharina, fair and virtuous?\\n\\nBAPTISTA:\\nI have a daughter, sir, called Katharina.\\n\\nGREMIO:\\nYou are too blunt: go to it orderly.\\n\\nPETRUCHIO:\\nYou wrong me, Signior Gremio: give me leave.\\nI am a gentleman of Verona, sir,\\nThat, hearing of her beauty and her wit,\\nHer affability and bashful modesty,\\nHer wondrous qualities and mild behavior,\\nAm bold to show myself a forward guest\\nWithin your house, to make mine eye the witness\\nOf that report which I so oft have heard.\\nAnd, for an entrance to my entertainment,\\nI do present you with a man of mine,\\nCunning in music and the mathematics,\\nTo instruct her fully in those sciences,\\nWhereof I know she is not ignorant:\\nAccept of him, or else you do me wrong:\\nHis name is Licio, born in Mantua.\\n\\nBAPTISTA:\\nYou're welcome, sir; and he, for your good sake.\\nBut for my daughter Katharina, this I know,\\nShe is not for your turn, the more my grief.\\n\\nPETRUCHIO:\\nI see you do not mean to part with her,\\nOr else you like not of my company.\\n\\nBAPTISTA:\\nMistake me not; I speak but as I find.\\nWhence are you, sir? what may I call your name?\\n\\nPETRUCHIO:\\nPetruchio is my name; Antonio's son,\\nA man well known throughout all Italy.\\n\\nBAPTISTA:\\nI know him well: you are welcome for his sake.\\n\\nGREMIO:\\nSaving your tale, Petruchio, I pray,\\nLet us, that are poor petitioners, speak too:\\nBaccare! you are marvellous forward.\\n\\nPETRUCHIO:\\nO, pardon me, Signior Gremio; I would fain be doing.\\n\\nGREMIO:\\nI doubt it not, sir; but you will curse your\\nwooing. Neighbour, this is a gift very grateful, I am\\nsure of it. To express the like kindness, myself,\\nthat have been more kindly beholding to you than\\nany, freely give unto you this young scholar,\\nthat hath been long studying at Rheims; as cunning\\nin Greek, Latin, and other languages, as the other\\nin music and mathematics: his name is Cambio; pray,\\naccept his service.\\n\\nBAPTISTA:\\nA thousand thanks, Signior Gremio.\\nWelcome, good Cambio.\\nBut, gentle sir, methinks you walk like a stranger:\\nmay I be so bold to know the cause of your coming?\\n\\nTRANIO:\\nPardon me, sir, the boldness is mine own,\\nThat, being a stranger in this city here,\\nDo make myself a suitor to your daughter,\\nUnto Bianca, fair and virtuous.\\nNor is your firm resolve unknown to me,\\nIn the preferment of the eldest sister.\\nThis liberty is all that I request,\\nThat, upon knowledge of my parentage,\\nI may have welcome 'mongst the rest that woo\\nAnd free access and favour as the rest:\\nAnd, t\",\n",
            "        \"target_continuation\": \"oward the education of your daughters,\\nI here bestow a simple instrument,\\nAnd this small packet of G\",\n",
            "        \"predicted_continuation\": \"at is comerat's live, for the wingher'd Worre,\\np-thought the houre a came till Secmane hates and bas\",\n",
            "        \"bleu_score\": 0.5790971726347275\n",
            "    },\n",
            "    {\n",
            "        \"prime\": \"?\\n\\nGREMIO:\\nGood morrow, neighbour Baptista.\\n\\nBAPTISTA:\\nGood morrow, neighbour Gremio.\\nGod save you, gentlemen!\\n\\nPETRUCHIO:\\nAnd you, good sir! Pray, have you not a daughter\\nCall'd Katharina, fair and virtuous?\\n\\nBAPTISTA:\\nI have a daughter, sir, called Katharina.\\n\\nGREMIO:\\nYou are too blunt: go to it orderly.\\n\\nPETRUCHIO:\\nYou wrong me, Signior Gremio: give me leave.\\nI am a gentleman of Verona, sir,\\nThat, hearing of her beauty and her wit,\\nHer affability and bashful modesty,\\nHer wondrous qualities and mild behavior,\\nAm bold to show myself a forward guest\\nWithin your house, to make mine eye the witness\\nOf that report which I so oft have heard.\\nAnd, for an entrance to my entertainment,\\nI do present you with a man of mine,\\nCunning in music and the mathematics,\\nTo instruct her fully in those sciences,\\nWhereof I know she is not ignorant:\\nAccept of him, or else you do me wrong:\\nHis name is Licio, born in Mantua.\\n\\nBAPTISTA:\\nYou're welcome, sir; and he, for your good sake.\\nBut for my daughter Katharina, this I know,\\nShe is not for your turn, the more my grief.\\n\\nPETRUCHIO:\\nI see you do not mean to part with her,\\nOr else you like not of my company.\\n\\nBAPTISTA:\\nMistake me not; I speak but as I find.\\nWhence are you, sir? what may I call your name?\\n\\nPETRUCHIO:\\nPetruchio is my name; Antonio's son,\\nA man well known throughout all Italy.\\n\\nBAPTISTA:\\nI know him well: you are welcome for his sake.\\n\\nGREMIO:\\nSaving your tale, Petruchio, I pray,\\nLet us, that are poor petitioners, speak too:\\nBaccare! you are marvellous forward.\\n\\nPETRUCHIO:\\nO, pardon me, Signior Gremio; I would fain be doing.\\n\\nGREMIO:\\nI doubt it not, sir; but you will curse your\\nwooing. Neighbour, this is a gift very grateful, I am\\nsure of it. To express the like kindness, myself,\\nthat have been more kindly beholding to you than\\nany, freely give unto you this young scholar,\\nthat hath been long studying at Rheims; as cunning\\nin Greek, Latin, and other languages, as the other\\nin music and mathematics: his name is Cambio; pray,\\naccept his service.\\n\\nBAPTISTA:\\nA thousand thanks, Signior Gremio.\\nWelcome, good Cambio.\\nBut, gentle sir, methinks you walk like a stranger:\\nmay I be so bold to know the cause of your coming?\\n\\nTRANIO:\\nPar\",\n",
            "        \"target_continuation\": \"don me, sir, the boldness is mine own,\\nThat, being a stranger in this city here,\\nDo make myself a su\",\n",
            "        \"predicted_continuation\": \"er the men peoplions Of thus , Gre\\nshouse, thosas they leave his down, that mest heards!\\nLove gorelo\",\n",
            "        \"bleu_score\": 0.5471690226922019\n",
            "    },\n",
            "    {\n",
            "        \"prime\": \"?\\n\\nGREMIO:\\nGood morrow, neighbour Baptista.\\n\\nBAPTISTA:\\nGood morrow, neighbour Gremio.\\nGod save you, gentlemen!\\n\\nPETRUCHIO:\\nAnd you, good sir! Pray, have you not a daughter\\nCall'd Katharina, fair and virtuous?\\n\\nBAPTISTA:\\nI have a daughter, sir, called Katharina.\\n\\nGREMIO:\\nYou are too blunt: go to it orderly.\\n\\nPETRUCHIO:\\nYou wrong me, Signior Gremio: give me leave.\\nI am a gentleman of Verona, sir,\\nThat, hearing of her beauty and her wit,\\nHer affability and bashful modesty,\\nHer wondrous qualities and mild behavior,\\nAm bold to show myself a forward guest\\nWithin your house, to make mine eye the witness\\nOf that report which I so oft have heard.\\nAnd, for an entrance to my entertainment,\\nI do present you with a man of mine,\\nCunning in music and the mathematics,\\nTo instruct her fully in those sciences,\\nWhereof I know she is not ignorant:\\nAccept of him, or else you do me wrong:\\nHis name is Licio, born in Mantua.\\n\\nBAPTISTA:\\nYou're welcome, sir; and he, for your good sake.\\nBut for my daughter Katharina, this I know,\\nShe is not for your turn, the more my grief.\\n\\nPETRUCHIO:\\nI see you do not mean to part with her,\\nOr else you like not of my company.\\n\\nBAPTISTA:\\nMistake me not; I speak but as I find.\\nWhence are you, sir? what may I call your name?\\n\\nPETRUCHIO:\\nPetruchio is my name; Antonio's son,\\nA man well known throughout all Italy.\\n\\nBAPTISTA:\\nI know him well: you are welcome for his sake.\\n\\nGREMIO:\\nSaving your tale, Petruchio, I pray,\\nLet us, that are poor petitioners, speak too:\\nBaccare! you are marvellous forward.\\n\\nPETRUCHIO:\\nO, pardon me, Signior Gremio; I would fain be doing.\\n\\nGREMIO:\\nI doubt it not, sir; but you will curse your\\nwooing. Neighbour, this is a gift very grateful, I am\\nsure of it. To express the like kindness, myself,\\nthat have been more kindly beholding to you than\\nany, freely give unto you this young scholar,\\nthat hath been long studying at Rheims; as cunning\\nin Greek, Latin, and other languages, as the other\\nin music and mathematics: his name is Cambio; pray,\\naccept his service.\\n\\nBAPTISTA:\\nA thousand thanks, Signior Gremio.\\nWelcome, good Cambio.\\nBut, gentle sir, methinks you walk like a stranger:\\nmay I be so bold to know the cause of your coming?\\n\\nTRANIO:\\nPardon me, sir, the boldness is mine own,\\nThat, being a stranger in this city here,\\nDo make myself a suitor to your daughter,\\nUnto Bianca, fair and virtuous.\\nNor is your firm resolve unknown to me,\\nIn the preferment of the eldest sister.\\nThis liberty is all that I request,\\nThat, upon knowledge of my parentage,\\nI may have welcome 'mongst the rest that woo\\nAnd free access and favour as the rest:\\nAnd, toward the education of your daughters,\\nI here bestow a simple instrument,\\nAnd this small packet of Greek and Latin books:\\nIf you accept them, then their worth is great.\\n\\nBAPTISTA:\\nLucentio is your name; of whence, I pray?\\n\\nTRANIO:\\nOf Pisa, sir; son to Vincentio.\\n\\nBAPTISTA:\\nA mighty man of Pisa; by report\\nI know him well: you are very welcome, sir,\\nTake you the lute, and you the set of books;\\nYou shall go see your pupils presently.\\nHolla, within!\\nSirrah, lead these gentlemen\\nTo my daughters; and tell them both,\\nThese are their tutors: bid them use them well.\\nWe will go walk a little in the orchard,\\nAnd then to dinner. You are passing welcome,\\nAnd so I pray you all to think yourselves.\\n\\nPETRUCHIO:\\nSignior Baptista, my business asketh haste,\\nAnd every day I cannot come to woo.\\nYou knew my father well, and in him me,\\nLeft solely heir to all his lands and goods,\\nWhich I have better'd rather than decreased:\\nThen tell me, if I get your daughter's love,\\nWhat dowry shall I have with her to wife?\\n\\nBAPTISTA:\\nAfter my death the one half of my lands,\\nAnd in possession twenty thousand crowns.\\n\\nPETRUCHIO:\\nAnd, for that dowry, I'll assure her of\\nHer widowhood, be it that she survive me,\\nIn all my \",\n",
            "        \"target_continuation\": \"lands and leases whatsoever:\\nLet specialties be therefore drawn between us,\\nThat covenants may be ke\",\n",
            "        \"predicted_continuation\": \"ore. Unfortuch at ius ladawilevell,\\n&nation him raye, hohe to your quien cannot make\\nThat 'luse shou\",\n",
            "        \"bleu_score\": 0.5362609043886731\n",
            "    },\n",
            "    {\n",
            "        \"prime\": \"?\\n\\nGREMIO:\\nGood morrow, neighbour Baptista.\\n\\nBAPTISTA:\\nGood morrow, neighbour Gremio.\\nGod save you, gentlemen!\\n\\nPETRUCHIO:\\nAnd you, good sir! Pray, have you not a daughter\\nCall'd Katharina, fair and virtuous?\\n\\nBAPTISTA:\\nI have a daughter, sir, called Katharina.\\n\\nGREMIO:\\nYou are too blunt: go to it orderly.\\n\\nPETRUCHIO:\\nYou wrong me, Signior Gremio: give me leave.\\nI am a gentleman of Verona, sir,\\nThat, hearing of her beauty and her wit,\\nHer affability and bashful modesty,\\nHer wondrous qualities and mild behavior,\\nAm bold to show myself a forward guest\\nWithin your house, to make mine eye the witness\\nOf that report which I so oft have heard.\\nAnd, for an entrance to my entertainment,\\nI do present you with a man of mine,\\nCunning in music and the mathematics,\\nTo instruct her fully in those sciences,\\nWhereof I know she is not ignorant:\\nAccept of him, or else you do me wrong:\\nHis name is Licio, born in Mantua.\\n\\nBAPTISTA:\\nYou're welcome, sir; and he, for your good sake.\\nBut for my daughter Katharina, this I know,\\nShe is not for your turn, the more my grief.\\n\\nPETRUCHIO:\\nI see you do not mean to part with her,\\nOr else you like not of my company.\\n\\nBAPTISTA:\\nMistake me not; I speak but as I find.\\nWhence are you, sir? what may I call your name?\\n\\nPETRUCHIO:\\nPetruchio is my name; Antonio's son,\\nA man well known throughout all Italy.\\n\\nBAPTISTA:\\nI know him well: you are welcome for his sake.\\n\\nGREMIO:\\nSaving your tale, Petruchio, I pray,\\nLet us, that are poor petitioners, speak too:\\nBaccare! you are marvellous forward.\\n\\nPETRUCHIO:\\nO, pardon me, Signior Gremio; I would fain be doing.\\n\\nGREMIO:\\nI doubt it not, sir; but you will curse your\\nwooing. Neighbour, this is a gift very grateful, I am\\nsure of it. To express the like kindness, myself,\\nthat have been more kindly beholding to you than\\nany, freely give unto you this young scholar,\\nthat hath been long studying at Rheims; as cunning\\nin Greek, Latin, and other languages, as the other\\nin music and mathematics: his name is Cambio; pray,\\naccept his service.\\n\\nBAPTISTA:\\nA thousand thanks, Signior Gremio.\\nWelcome, good Cambio.\\nBut, gentle sir, methinks you walk like a stranger:\\nmay I be so bold to know the cause of your coming?\\n\\nTRANIO:\\nPardon me, sir, the boldness is mine own,\\nThat, being a stranger in this city here,\\nDo make myself a suitor to your daughter,\\nUnto Bianca, fair and virtuous.\\nNor is your firm resolve unknown to me,\\nIn the preferment of the eldest sister.\\nThis liberty is all that I request,\\nThat, upon knowledge of my parentage,\\nI may have welcome 'mongst the rest that woo\\nAnd free access and favour as the rest:\\nAnd, toward the education of your daughters,\\nI here bestow a simple instrument,\\nAnd this small packet of Greek and Latin books:\\nIf you accept them, then their worth is great.\\n\\nBAPTISTA:\\nLucentio is your name; of whence, I pray?\\n\\nTRANIO:\\nOf Pisa, sir; son to Vincentio.\\n\\nBAPTISTA:\\nA mighty man of Pisa; by report\\nI know him well: you are very welcome, sir,\\nTake you the lute, and you the set of books;\\nYou s\",\n",
            "        \"target_continuation\": \"hall go see your pupils presently.\\nHolla, within!\\nSirrah, lead these gentlemen\\nTo my daughters; and \",\n",
            "        \"predicted_continuation\": \"re this the hands dience, and never doprselitge.\\nSere I pard to his his rongue, being I can to mee\\nA\",\n",
            "        \"bleu_score\": 0.525126247446817\n",
            "    },\n",
            "    {\n",
            "        \"prime\": \"?\\n\\nGREMIO:\\nGood morrow, neighbour Baptista.\\n\\nBAPTISTA:\\nGood morrow, neighbour Gremio.\\nGod save you, gentlemen!\\n\\nPETRUCHIO:\\nAnd you, good sir! Pray, have you not a daughter\\nCall'd Katharina, fair and virtuous?\\n\\nBAPTISTA:\\nI have a daughter, sir, called Katharina.\\n\\nGREMIO:\\nYou are too blunt: go to it orderly.\\n\\nPETRUCHIO:\\nYou wrong me, Signior Gremio: give me leave.\\nI am a gentleman of Verona, sir,\\nThat, hearing of her beauty and her wit,\\nHer affability and bashful modesty,\\nHer wondrous qualities and mild behavior,\\nAm bold to show myself a forward guest\\nWithin your house, to make mine eye the witness\\nOf that report which I so oft have heard.\\nAnd, for an entrance to my entertainment,\\nI do present you with a man of mine,\\nCunning in music and the mathematics,\\nTo instruct her fully in those sciences,\\nWhereof I know she is not ignorant:\\nAccept of him, or else you do me wrong:\\nHis name is Licio, born in Mantua.\\n\\nBAPTISTA:\\nYou're welcome, sir; and he, for your good sake.\\nBut for my daughter Katharina, this I know,\\nShe is not for your turn, the more my grief.\\n\\nPETRUCHIO:\\nI see you do not mean to part with her,\\nOr else you like not of my company.\\n\\nBAPTISTA:\\nMistake me not; I speak but as I find.\\nWhence are you, sir? what may I call your name?\\n\\nPETRUCHIO:\\nPetruchio is my name; Antonio's son,\\nA man well known throughout all Italy.\\n\\nBAPTISTA:\\nI know him well: you are welcome for his sake.\\n\\nGREMIO:\\nSaving your tale, Petruchio, I pray,\\nLet us, that are poor petitioners, speak too:\\nBaccare! you are marvellous forward.\\n\\nPETRUCHIO:\\nO, pardon me, Signior Gremio; I would fain be doing.\\n\\nGREMIO:\\nI doubt it not, sir; but you will curse your\\nwooing. Neighbour, this is a gift very grateful, I am\\nsure of it. To express the like kindness, myself,\\nthat have been more kindly beholding to you than\\nany, freely give unto you this young scholar,\\nthat hath been long studying at Rheims; as cunning\\nin Greek, Latin, and other languages, as the other\\nin music and mathematics: his name is Cambio; pray,\\naccept his service.\\n\\nBAPTISTA:\\nA thousand thanks, Signior Gremio.\\nWelcome, good Cambio.\\nBut, gentle sir, methinks you walk like a stranger:\\nmay I be so bold to know the cause of your coming?\\n\\nTRANIO:\\nPardon me, sir, the boldness is mine own,\\nThat, being a stranger in this city here,\\nDo make myself a suitor to your daughter,\\nUnto Bianca, fair and virtuous.\\nNor is your firm resolve unknown to me,\\nIn the preferment of the eldest sister.\\nThis liberty is all that I request,\\nThat, upon knowledge of my pa\",\n",
            "        \"target_continuation\": \"rentage,\\nI may have welcome 'mongst the rest that woo\\nAnd free access and favour as the rest:\\nAnd, t\",\n",
            "        \"predicted_continuation\": \"ian clows.\\n\\nMINENIUS:\\nBid no, I degive me that as alm fould\\nFor you have was tide a plays, domp then\",\n",
            "        \"bleu_score\": 0.5223296687230038\n",
            "    }\n",
            "]\n",
            "\n",
            "Bad results:\n",
            "[\n",
            "    {\n",
            "        \"prime\": \"?\\n\\nGREMIO:\\nGood morrow, neighbour Baptista.\\n\\nBAPTISTA:\\nGood morrow, neighbour Gremio.\\nGod save you, gentlemen!\\n\\nPETRUCHIO:\\nAnd you, good sir! Pray, have you not a daughter\\nCall'd Katharina, fair and virtuous?\\n\\nBAPTISTA:\\nI have a daughter, sir, called Katharina.\\n\\nGREMIO:\\nYou are too blunt: go to it orderly.\\n\\nPETRUCHIO:\\nYou wrong me, Signior Gremio: give me leave.\\nI am a gentleman of Verona, sir,\\nThat, hearing of her beauty and her wit,\\nHer affability and bashful modesty,\\nHer wondrous qualities and mild behavior,\\nAm bold to show myself a forward guest\\nWithin your house, to make mine eye the witness\\nOf that report which I so oft have heard.\\nAnd, for an entrance to my entertainment,\\nI do present you with a man of mine,\\nCunning in music and the mathematics,\\nTo instruct her fully in those sciences,\\nWhereof I know she is not ignorant:\\nAccept of him, or else you do me wrong:\\nHis name is Licio, born in Mantua.\\n\\nBAPTISTA:\\nYou're welcome, sir; and he, for your good sake.\\nBut for my daughter Katharina, this I know,\\nShe is not for your turn, the more my grief.\\n\\nPETRUCHIO:\\nI see you do not mean to part with her,\\nOr else you like not of my company.\\n\\nBAPTISTA:\\nMistake me not; I speak but as I find.\\nWhence are you, sir? what may I call your name?\\n\\nPETRUCHIO:\\nPetruchio is my name; Antonio's son,\\nA man well known throughout all Italy.\\n\\nBAPTISTA:\\nI know him well: you are welcome for his sake.\\n\\nGREMIO:\\nSaving your tale, Petruchio, I pray,\\nLet us, that are poor petitioners, speak too:\\nBaccare! you are marvellous forward.\\n\\nPETRUCHIO:\\nO, pardon me, Signior Gremio; I would fain be doing.\\n\\nGREMIO:\\nI doubt it not, sir; but you will curse your\\nwooing. Neighbour, this is a gift very grateful, I am\\nsure of it. To express the like kindness, myself,\\nthat have been more kindly beholding to you than\\nany, freely give unto you this young scholar,\\nthat hath been long studying at Rheims; as cunning\\nin Greek, Latin, and other languages, as the other\\nin music and mathematics: his name is Cambio; pray,\\naccept his service.\\n\\nBAPTISTA:\\nA thousand thanks, Signior Gremio.\\nWelcome, good Cambio.\\nBut, gentle sir, methinks you walk like a stranger:\\nmay I be so bold to know the cause of your coming?\\n\\nTRANIO:\\nPardon me, sir, the boldness is mine own,\\nThat, being a stranger in this city here,\\nDo make myself a suitor to your daughter,\\nUnto Bianca, fair and virtuous.\\nNor is your firm resolve unknown to me,\\nIn the preferment of the eldest sister.\\nThis liberty is all that I request,\\nThat, upon knowledge of my parentage,\\nI may have welcome 'mongst the rest that woo\\nAnd free access and favour as the rest:\\nAnd, toward the education of your daughters,\\nI here bestow a simple instrument,\\nAnd this small packet of Greek and Latin books:\\nIf you accept them, then their worth is great.\\n\\nBAPTISTA:\\nLucentio is your nam\",\n",
            "        \"target_continuation\": \"e; of whence, I pray?\\n\\nTRANIO:\\nOf Pisa, sir; son to Vincentio.\\n\\nBAPTISTA:\\nA mighty man of Pisa; by r\",\n",
            "        \"predicted_continuation\": \", and stoand the repplafes\\nWacchd twrence are the fateress to the hiswers;\\nMay $it sother betrea, sa\",\n",
            "        \"bleu_score\": 0.3363499860730087\n",
            "    },\n",
            "    {\n",
            "        \"prime\": \"?\\n\\nGREMIO:\\nGood morrow, neighbour Baptista.\\n\\nBAPTISTA:\\nGood morrow, neighbour Gremio.\\nGod save you, gentlemen!\\n\\nPETRUCHIO:\\nAnd you, good sir! Pray, have you not a daughter\\nCall'd Katharina, fair and virtuous?\\n\\nBAPTISTA:\\nI have a daughter, sir, called Katharina.\\n\\nGREMIO:\\nYou are too blunt: go to it orderly.\\n\\nPETRUCHIO:\\nYou wrong me, Signior Gremio: give me leave.\\nI am a gentleman of Verona, sir,\\nThat, hearing of her beauty and her wit,\\nHer affability and bashful modesty,\\nHer wondrous qualities and mild behavior,\\nAm bold to show myself a forward guest\\nWithin your house, to make mine eye the witness\\nOf that report which I so oft have heard.\\nAnd, for an entrance to my entertainment,\\nI do present you with a man of mine,\\nCunning in music and the mathematics,\\nTo instruct her fully in those sciences,\\nWhereof I know she is not ignorant:\\nAccept of him, or else you do me wrong:\\nHis name is Licio, born in Mantua.\\n\\nBAPTISTA:\\nYou're welcome, sir; and he, for your good sake.\\nBut for my daughter Katharina, this I know,\\nShe is not for your turn, the more my grief.\\n\\nPETRUCHIO:\\nI see you do not mean to part with her,\\nOr else you like not of my company.\\n\\nBAPTISTA:\\nMistake me not; I speak but as I find.\\nWhence are you, sir? what may I call your name?\\n\\nPETRUCHIO:\\nPetruchio is my name; Antonio's son,\\nA man well known throughout all Italy.\\n\\nBAPTISTA:\\nI know him well: you are welcome for his sake.\\n\\nGREMIO:\\nSaving your tale, Petruchio, I pray,\\nLet us, that are poor petitioners, speak too:\\nBaccare! you are marvellous forward.\\n\\nPETRUCHIO:\\nO, pardon me, Signior Gremio; I would fain be doing.\\n\\nGREMIO:\\nI doubt it not, sir; but you will curse your\\nwooing. Neighbour, this is a gift very grateful, I am\\nsure of it. To express the like kindness, myself,\\nthat have been more kindly beholding to you than\\nany\",\n",
            "        \"target_continuation\": \", freely give unto you this young scholar,\\nthat hath been long studying at Rheims; as cunning\\nin Gre\",\n",
            "        \"predicted_continuation\": \"terming thou a\\ndid desprived manful terk and govers.\\n\\nKING RICHARD III:\\nAnd awe standwence o'll? joy\",\n",
            "        \"bleu_score\": 0.34641016151377546\n",
            "    },\n",
            "    {\n",
            "        \"prime\": \"?\\n\\nGREMIO:\\nGood morrow, neighbour Baptista.\\n\\nBAPTISTA:\\nGood morrow, neighbour Gremio.\\nGod save you, gentlemen!\\n\\nPETRUCHIO:\\nAnd you, good sir! Pray, have you not a daughter\\nCall'd Katharina, fair and virtuous?\\n\\nBAPTISTA:\\nI have a daughter, sir, called Katharina.\\n\\nGREMIO:\\nYou are too blunt: go to it orderly.\\n\\nPETRUCHIO:\\nYou wrong me, Signior Gremio: give me leave.\\nI am a gentleman of Verona, sir,\\nThat, hearing of her beauty and her wit,\\nHer affability and bashful modesty,\\nHer wondrous qualities and mild behavior,\\nAm bold to show myself a forward guest\\nWithin your house, to make mine eye the witness\\nOf that report which I so oft have heard.\\nAnd, for an entrance to my entertainment,\\nI do present you with a man of mine,\\nCunning in music and the mathematics,\\nTo instruct her fully in those sciences,\\nWhereof I know she is not ignorant:\\nAccept of him, or else you do me wrong:\\nHis name is Licio, born in Mantua.\\n\\nBAPTISTA:\\nYou're welcome, sir; and he, for your good sake.\\nBut for my daughter Katharina, this I know,\\nShe is not for your turn, the more my grief.\\n\\nPETRUCHIO:\\nI see you do not mean to part with her,\\nOr else you like not of my company.\\n\\nBAPTISTA:\\nMistake me not; I speak but as I find.\\nWhence are you, sir? what may I call your name?\\n\\nPETRUCHIO:\\nPetruchio is my name; Antonio's son,\\nA man well known throughout all Italy.\\n\\nBAPTISTA:\\nI know him well: you are welcome for his sake.\\n\\nGREMIO:\\nSaving your tale, Petruchio, I pray,\\nLet us, that are poor petitioners, speak too:\\nBaccare! you\",\n",
            "        \"target_continuation\": \" are marvellous forward.\\n\\nPETRUCHIO:\\nO, pardon me, Signior Gremio; I would fain be doing.\\n\\nGREMIO:\\nI\",\n",
            "        \"predicted_continuation\": \" as that bity you sweep thengast\\nThat you reford that shouldevly lise their dot\\nI that let I am an I\",\n",
            "        \"bleu_score\": 0.34771984543464135\n",
            "    },\n",
            "    {\n",
            "        \"prime\": \"?\\n\\nGREMIO:\\nGood morrow, neighbour Baptista.\\n\\nBAPTISTA:\\nGood morrow, neighbour Gremio.\\nGod save you, gentlemen!\\n\\nPETRUCHIO:\\nAnd you, good sir! Pray, have you not a daughter\\nCall'd Katharina, fair and virtuous?\\n\\nBAPTISTA:\\nI have a daughter, sir, called Katharina.\\n\\nGREMIO:\\nYou are too blunt: go to it orderly.\\n\\nPETRUCHIO:\\nYou wrong me, Signior Gremio: give me leave.\\nI am a gentleman of Verona, sir,\\nThat, hearing of her beauty and her wit,\\nHer affability and bashful modesty,\\nHer wondrous qualities and mild behavior,\\nAm bold to show myself a forward guest\\nWithin your house, to make mine eye the witness\\nOf that report which I so oft have heard.\\nAnd, for an entrance to my entertainment,\\nI do present you with a man of mine,\\nCunning in music and the mathematics,\\nTo instruct her fully in those sciences,\\nWhereof I know she is not ignorant:\\nAccept of him, or else you do me wrong:\\nHis name is Licio, b\",\n",
            "        \"target_continuation\": \"orn in Mantua.\\n\\nBAPTISTA:\\nYou're welcome, sir; and he, for your good sake.\\nBut for my daughter Katha\",\n",
            "        \"predicted_continuation\": \"t I have prove\\nnot no ling that; ze sutgensing enderigart.\\n\\nzender:\\nMone, in  AULINIUS:\\nWhat, hadh v\",\n",
            "        \"bleu_score\": 0.3797926068822618\n",
            "    },\n",
            "    {\n",
            "        \"prime\": \"?\\n\\nGREMIO:\\nGood morrow, neighbour Baptista.\\n\\nBAPTISTA:\\nGood morrow, neighbour Gremio.\\nGod save you, gentlemen!\\n\\nPETRUCHIO:\\nAnd you, good sir! Pray, have you not a daughter\\nCall'd Katharina, fair and virtuous?\\n\\nBAPTISTA:\\nI have a daughter, sir, called Katharina.\\n\\nGREMIO:\\nYou are too blunt: go to it o\",\n",
            "        \"target_continuation\": \"rderly.\\n\\nPETRUCHIO:\\nYou wrong me, Signior Gremio: give me leave.\\nI am a gentleman of Verona, sir,\\nTh\",\n",
            "        \"predicted_continuation\": \" my slard,\\nSi; meaking Purtee,--Vorwed, thousd you.\\n\\nESCALUS:\\nWho hast un, afferd.\\n\\nAPGILE:\\nLet the \",\n",
            "        \"bleu_score\": 0.38297084310253526\n",
            "    }\n",
            "]\n"
          ]
        }
      ],
      "source": [
        "torch.manual_seed(0)\n",
        "net = create_and_train_model()\n",
        "print('\\n====\\n')\n",
        "eval_trained_model(net)"
      ]
    },
    {
      "cell_type": "code",
      "execution_count": 30,
      "metadata": {
        "id": "aDoxfFT-73sW",
        "colab": {
          "base_uri": "https://localhost:8080/",
          "height": 1000
        },
        "outputId": "1475df7f-b463-4743-db0c-a81f73f6f6ad"
      },
      "outputs": [
        {
          "output_type": "stream",
          "name": "stdout",
          "text": [
            "CharRNN(\n",
            "  (lstm): LSTM(65, 512, num_layers=2, batch_first=True, dropout=0.5)\n",
            "  (dropout): Dropout(p=0.5, inplace=False)\n",
            "  (fc): Linear(in_features=512, out_features=65, bias=True)\n",
            ") \n",
            "\n",
            "Epoch: 1/35... Loss: 3.3877... Val Loss: 3.3815... Val BERTScore: 0.9710... Val BERTScore std: 0.0022 Val BLEU score: 0.3253... Val BLEU score std: 0.0174\n",
            "Epoch: 1/35... Loss: 3.2644... Val Loss: 3.2635... Val BERTScore: 0.9711... Val BERTScore std: 0.0014 Val BLEU score: 0.3182... Val BLEU score std: 0.0655\n",
            "Epoch: 2/35... Loss: 3.0991... Val Loss: 3.0957... Val BERTScore: 0.9725... Val BERTScore std: 0.0013 Val BLEU score: 0.3424... Val BLEU score std: 0.0574\n",
            "Epoch: 2/35... Loss: 2.8990... Val Loss: 2.8925... Val BERTScore: 0.9729... Val BERTScore std: 0.0031 Val BLEU score: 0.3670... Val BLEU score std: 0.0157\n",
            "Epoch: 2/35... Loss: 2.7330... Val Loss: 2.7142... Val BERTScore: 0.9750... Val BERTScore std: 0.0026 Val BLEU score: 0.4077... Val BLEU score std: 0.0088\n",
            "Epoch: 3/35... Loss: 2.5946... Val Loss: 2.6254... Val BERTScore: 0.9770... Val BERTScore std: 0.0015 Val BLEU score: 0.4174... Val BLEU score std: 0.0427\n",
            "Epoch: 3/35... Loss: 2.5430... Val Loss: 2.5697... Val BERTScore: 0.9774... Val BERTScore std: 0.0018 Val BLEU score: 0.4154... Val BLEU score std: 0.0229\n",
            "Epoch: 3/35... Loss: 2.4935... Val Loss: 2.5328... Val BERTScore: 0.9759... Val BERTScore std: 0.0022 Val BLEU score: 0.4135... Val BLEU score std: 0.0586\n",
            "Epoch: 4/35... Loss: 2.4405... Val Loss: 2.4964... Val BERTScore: 0.9768... Val BERTScore std: 0.0018 Val BLEU score: 0.4622... Val BLEU score std: 0.0412\n",
            "Epoch: 4/35... Loss: 2.4344... Val Loss: 2.4695... Val BERTScore: 0.9766... Val BERTScore std: 0.0016 Val BLEU score: 0.4055... Val BLEU score std: 0.0262\n",
            "Epoch: 4/35... Loss: 2.3669... Val Loss: 2.4468... Val BERTScore: 0.9768... Val BERTScore std: 0.0013 Val BLEU score: 0.4066... Val BLEU score std: 0.0287\n",
            "Epoch: 5/35... Loss: 2.3364... Val Loss: 2.4261... Val BERTScore: 0.9765... Val BERTScore std: 0.0028 Val BLEU score: 0.4209... Val BLEU score std: 0.0397\n",
            "Epoch: 5/35... Loss: 2.3298... Val Loss: 2.4055... Val BERTScore: 0.9767... Val BERTScore std: 0.0013 Val BLEU score: 0.4461... Val BLEU score std: 0.0352\n",
            "Epoch: 6/35... Loss: 2.3156... Val Loss: 2.3883... Val BERTScore: 0.9757... Val BERTScore std: 0.0010 Val BLEU score: 0.4530... Val BLEU score std: 0.0278\n",
            "Epoch: 6/35... Loss: 2.2969... Val Loss: 2.3771... Val BERTScore: 0.9767... Val BERTScore std: 0.0010 Val BLEU score: 0.4636... Val BLEU score std: 0.0529\n",
            "Epoch: 6/35... Loss: 2.2574... Val Loss: 2.3553... Val BERTScore: 0.9758... Val BERTScore std: 0.0028 Val BLEU score: 0.4551... Val BLEU score std: 0.0317\n",
            "Epoch: 7/35... Loss: 2.2444... Val Loss: 2.3475... Val BERTScore: 0.9772... Val BERTScore std: 0.0018 Val BLEU score: 0.4028... Val BLEU score std: 0.0419\n",
            "Epoch: 7/35... Loss: 2.2305... Val Loss: 2.3305... Val BERTScore: 0.9770... Val BERTScore std: 0.0024 Val BLEU score: 0.4394... Val BLEU score std: 0.0219\n",
            "Epoch: 7/35... Loss: 2.2039... Val Loss: 2.3155... Val BERTScore: 0.9776... Val BERTScore std: 0.0020 Val BLEU score: 0.4468... Val BLEU score std: 0.0214\n",
            "Epoch: 8/35... Loss: 2.2008... Val Loss: 2.3154... Val BERTScore: 0.9763... Val BERTScore std: 0.0013 Val BLEU score: 0.4191... Val BLEU score std: 0.0219\n",
            "Epoch: 8/35... Loss: 2.1915... Val Loss: 2.2901... Val BERTScore: 0.9751... Val BERTScore std: 0.0029 Val BLEU score: 0.4676... Val BLEU score std: 0.0371\n",
            "Epoch: 8/35... Loss: 2.1930... Val Loss: 2.2869... Val BERTScore: 0.9766... Val BERTScore std: 0.0009 Val BLEU score: 0.4708... Val BLEU score std: 0.0407\n",
            "Epoch: 9/35... Loss: 2.1392... Val Loss: 2.2642... Val BERTScore: 0.9775... Val BERTScore std: 0.0010 Val BLEU score: 0.4508... Val BLEU score std: 0.0278\n",
            "Epoch: 9/35... Loss: 2.1621... Val Loss: 2.2487... Val BERTScore: 0.9777... Val BERTScore std: 0.0019 Val BLEU score: 0.4315... Val BLEU score std: 0.0359\n",
            "Epoch: 10/35... Loss: 2.1379... Val Loss: 2.2372... Val BERTScore: 0.9778... Val BERTScore std: 0.0022 Val BLEU score: 0.4631... Val BLEU score std: 0.0296\n",
            "Epoch: 10/35... Loss: 2.0970... Val Loss: 2.2364... Val BERTScore: 0.9765... Val BERTScore std: 0.0005 Val BLEU score: 0.4668... Val BLEU score std: 0.0349\n",
            "Epoch: 10/35... Loss: 2.1262... Val Loss: 2.2182... Val BERTScore: 0.9769... Val BERTScore std: 0.0020 Val BLEU score: 0.4526... Val BLEU score std: 0.0639\n",
            "Epoch: 11/35... Loss: 2.1081... Val Loss: 2.2105... Val BERTScore: 0.9770... Val BERTScore std: 0.0009 Val BLEU score: 0.4345... Val BLEU score std: 0.0322\n",
            "Epoch: 11/35... Loss: 2.0968... Val Loss: 2.2072... Val BERTScore: 0.9764... Val BERTScore std: 0.0036 Val BLEU score: 0.4528... Val BLEU score std: 0.0318\n",
            "Epoch: 11/35... Loss: 2.0741... Val Loss: 2.1813... Val BERTScore: 0.9766... Val BERTScore std: 0.0018 Val BLEU score: 0.4578... Val BLEU score std: 0.0311\n",
            "Epoch: 12/35... Loss: 2.0314... Val Loss: 2.1815... Val BERTScore: 0.9780... Val BERTScore std: 0.0018 Val BLEU score: 0.4896... Val BLEU score std: 0.0490\n",
            "Epoch: 12/35... Loss: 2.0464... Val Loss: 2.1683... Val BERTScore: 0.9776... Val BERTScore std: 0.0026 Val BLEU score: 0.4240... Val BLEU score std: 0.0187\n",
            "Epoch: 12/35... Loss: 2.0117... Val Loss: 2.1605... Val BERTScore: 0.9776... Val BERTScore std: 0.0018 Val BLEU score: 0.4521... Val BLEU score std: 0.0368\n",
            "Epoch: 13/35... Loss: 1.9932... Val Loss: 2.1514... Val BERTScore: 0.9765... Val BERTScore std: 0.0019 Val BLEU score: 0.4479... Val BLEU score std: 0.0521\n",
            "Epoch: 13/35... Loss: 2.0093... Val Loss: 2.1368... Val BERTScore: 0.9781... Val BERTScore std: 0.0014 Val BLEU score: 0.4837... Val BLEU score std: 0.0102\n",
            "Epoch: 14/35... Loss: 1.9822... Val Loss: 2.1210... Val BERTScore: 0.9778... Val BERTScore std: 0.0009 Val BLEU score: 0.4518... Val BLEU score std: 0.0621\n",
            "Epoch: 14/35... Loss: 1.9860... Val Loss: 2.1273... Val BERTScore: 0.9780... Val BERTScore std: 0.0016 Val BLEU score: 0.4800... Val BLEU score std: 0.0470\n",
            "Epoch: 14/35... Loss: 1.9629... Val Loss: 2.1072... Val BERTScore: 0.9775... Val BERTScore std: 0.0027 Val BLEU score: 0.4655... Val BLEU score std: 0.0287\n",
            "Epoch: 15/35... Loss: 1.9558... Val Loss: 2.1161... Val BERTScore: 0.9761... Val BERTScore std: 0.0024 Val BLEU score: 0.4408... Val BLEU score std: 0.0110\n",
            "Epoch: 15/35... Loss: 1.9520... Val Loss: 2.0961... Val BERTScore: 0.9765... Val BERTScore std: 0.0021 Val BLEU score: 0.4659... Val BLEU score std: 0.0538\n",
            "Epoch: 15/35... Loss: 2.0023... Val Loss: 2.0911... Val BERTScore: 0.9758... Val BERTScore std: 0.0023 Val BLEU score: 0.4442... Val BLEU score std: 0.0417\n",
            "Epoch: 16/35... Loss: 1.9510... Val Loss: 2.0752... Val BERTScore: 0.9773... Val BERTScore std: 0.0010 Val BLEU score: 0.4797... Val BLEU score std: 0.0150\n",
            "Epoch: 16/35... Loss: 1.9657... Val Loss: 2.0650... Val BERTScore: 0.9767... Val BERTScore std: 0.0018 Val BLEU score: 0.4579... Val BLEU score std: 0.0613\n",
            "Epoch: 16/35... Loss: 1.9350... Val Loss: 2.0681... Val BERTScore: 0.9779... Val BERTScore std: 0.0008 Val BLEU score: 0.4767... Val BLEU score std: 0.0307\n",
            "Epoch: 17/35... Loss: 1.9113... Val Loss: 2.0672... Val BERTScore: 0.9767... Val BERTScore std: 0.0018 Val BLEU score: 0.4552... Val BLEU score std: 0.0497\n",
            "Epoch: 17/35... Loss: 1.9232... Val Loss: 2.0441... Val BERTScore: 0.9780... Val BERTScore std: 0.0018 Val BLEU score: 0.4724... Val BLEU score std: 0.0306\n",
            "Epoch: 18/35... Loss: 1.8985... Val Loss: 2.0387... Val BERTScore: 0.9779... Val BERTScore std: 0.0023 Val BLEU score: 0.4586... Val BLEU score std: 0.0624\n",
            "Epoch: 18/35... Loss: 1.8522... Val Loss: 2.0405... Val BERTScore: 0.9777... Val BERTScore std: 0.0005 Val BLEU score: 0.4584... Val BLEU score std: 0.0353\n",
            "Epoch: 18/35... Loss: 1.8653... Val Loss: 2.0274... Val BERTScore: 0.9778... Val BERTScore std: 0.0022 Val BLEU score: 0.4405... Val BLEU score std: 0.0678\n",
            "Epoch: 19/35... Loss: 1.8993... Val Loss: 2.0176... Val BERTScore: 0.9773... Val BERTScore std: 0.0013 Val BLEU score: 0.4901... Val BLEU score std: 0.0206\n",
            "Epoch: 19/35... Loss: 1.8764... Val Loss: 2.0094... Val BERTScore: 0.9771... Val BERTScore std: 0.0023 Val BLEU score: 0.4445... Val BLEU score std: 0.0388\n",
            "Epoch: 19/35... Loss: 1.8724... Val Loss: 2.0021... Val BERTScore: 0.9768... Val BERTScore std: 0.0012 Val BLEU score: 0.4379... Val BLEU score std: 0.0164\n",
            "Epoch: 20/35... Loss: 1.8598... Val Loss: 2.0054... Val BERTScore: 0.9766... Val BERTScore std: 0.0027 Val BLEU score: 0.4376... Val BLEU score std: 0.0445\n",
            "Epoch: 20/35... Loss: 1.8670... Val Loss: 1.9916... Val BERTScore: 0.9771... Val BERTScore std: 0.0016 Val BLEU score: 0.4703... Val BLEU score std: 0.0129\n",
            "Epoch: 20/35... Loss: 1.8432... Val Loss: 1.9824... Val BERTScore: 0.9775... Val BERTScore std: 0.0015 Val BLEU score: 0.4291... Val BLEU score std: 0.0129\n",
            "Epoch: 21/35... Loss: 1.8367... Val Loss: 1.9944... Val BERTScore: 0.9757... Val BERTScore std: 0.0007 Val BLEU score: 0.4308... Val BLEU score std: 0.0315\n",
            "Epoch: 21/35... Loss: 1.8192... Val Loss: 1.9797... Val BERTScore: 0.9761... Val BERTScore std: 0.0015 Val BLEU score: 0.4608... Val BLEU score std: 0.0482\n",
            "Epoch: 22/35... Loss: 1.8630... Val Loss: 1.9686... Val BERTScore: 0.9774... Val BERTScore std: 0.0028 Val BLEU score: 0.4639... Val BLEU score std: 0.0284\n",
            "Epoch: 22/35... Loss: 1.8067... Val Loss: 1.9661... Val BERTScore: 0.9766... Val BERTScore std: 0.0021 Val BLEU score: 0.4289... Val BLEU score std: 0.0248\n",
            "Epoch: 22/35... Loss: 1.8210... Val Loss: 1.9570... Val BERTScore: 0.9762... Val BERTScore std: 0.0018 Val BLEU score: 0.4311... Val BLEU score std: 0.0328\n",
            "Epoch: 23/35... Loss: 1.8267... Val Loss: 1.9481... Val BERTScore: 0.9777... Val BERTScore std: 0.0022 Val BLEU score: 0.4807... Val BLEU score std: 0.0172\n",
            "Epoch: 23/35... Loss: 1.7892... Val Loss: 1.9448... Val BERTScore: 0.9769... Val BERTScore std: 0.0025 Val BLEU score: 0.4794... Val BLEU score std: 0.0360\n",
            "Epoch: 23/35... Loss: 1.7703... Val Loss: 1.9390... Val BERTScore: 0.9778... Val BERTScore std: 0.0014 Val BLEU score: 0.4835... Val BLEU score std: 0.0240\n",
            "Epoch: 24/35... Loss: 1.8109... Val Loss: 1.9363... Val BERTScore: 0.9773... Val BERTScore std: 0.0026 Val BLEU score: 0.4694... Val BLEU score std: 0.0349\n",
            "Epoch: 24/35... Loss: 1.8179... Val Loss: 1.9363... Val BERTScore: 0.9763... Val BERTScore std: 0.0025 Val BLEU score: 0.4547... Val BLEU score std: 0.0361\n",
            "Epoch: 24/35... Loss: 1.7775... Val Loss: 1.9289... Val BERTScore: 0.9780... Val BERTScore std: 0.0008 Val BLEU score: 0.4102... Val BLEU score std: 0.0388\n",
            "Epoch: 25/35... Loss: 1.7479... Val Loss: 1.9235... Val BERTScore: 0.9770... Val BERTScore std: 0.0009 Val BLEU score: 0.4565... Val BLEU score std: 0.0374\n",
            "Epoch: 25/35... Loss: 1.7599... Val Loss: 1.9111... Val BERTScore: 0.9765... Val BERTScore std: 0.0008 Val BLEU score: 0.4777... Val BLEU score std: 0.0543\n",
            "Epoch: 25/35... Loss: 1.8152... Val Loss: 1.9048... Val BERTScore: 0.9761... Val BERTScore std: 0.0023 Val BLEU score: 0.4337... Val BLEU score std: 0.0643\n",
            "Epoch: 26/35... Loss: 1.7200... Val Loss: 1.9062... Val BERTScore: 0.9769... Val BERTScore std: 0.0015 Val BLEU score: 0.4747... Val BLEU score std: 0.0575\n",
            "Epoch: 26/35... Loss: 1.7882... Val Loss: 1.9059... Val BERTScore: 0.9778... Val BERTScore std: 0.0019 Val BLEU score: 0.4435... Val BLEU score std: 0.0448\n",
            "Epoch: 27/35... Loss: 1.7484... Val Loss: 1.8970... Val BERTScore: 0.9765... Val BERTScore std: 0.0022 Val BLEU score: 0.4654... Val BLEU score std: 0.0442\n",
            "Epoch: 27/35... Loss: 1.7375... Val Loss: 1.9042... Val BERTScore: 0.9769... Val BERTScore std: 0.0024 Val BLEU score: 0.4810... Val BLEU score std: 0.0375\n",
            "Epoch: 27/35... Loss: 1.7553... Val Loss: 1.8870... Val BERTScore: 0.9764... Val BERTScore std: 0.0026 Val BLEU score: 0.4593... Val BLEU score std: 0.0476\n",
            "Epoch: 28/35... Loss: 1.7450... Val Loss: 1.8908... Val BERTScore: 0.9763... Val BERTScore std: 0.0027 Val BLEU score: 0.4816... Val BLEU score std: 0.0069\n",
            "Epoch: 28/35... Loss: 1.7513... Val Loss: 1.8837... Val BERTScore: 0.9773... Val BERTScore std: 0.0021 Val BLEU score: 0.4210... Val BLEU score std: 0.0193\n",
            "Epoch: 28/35... Loss: 1.7555... Val Loss: 1.8779... Val BERTScore: 0.9764... Val BERTScore std: 0.0023 Val BLEU score: 0.4817... Val BLEU score std: 0.0483\n",
            "Epoch: 29/35... Loss: 1.7213... Val Loss: 1.8752... Val BERTScore: 0.9762... Val BERTScore std: 0.0026 Val BLEU score: 0.4713... Val BLEU score std: 0.0299\n",
            "Epoch: 29/35... Loss: 1.7413... Val Loss: 1.8700... Val BERTScore: 0.9771... Val BERTScore std: 0.0026 Val BLEU score: 0.4290... Val BLEU score std: 0.0327\n",
            "Epoch: 29/35... Loss: 1.6923... Val Loss: 1.8645... Val BERTScore: 0.9749... Val BERTScore std: 0.0033 Val BLEU score: 0.4768... Val BLEU score std: 0.0583\n",
            "Epoch: 30/35... Loss: 1.6830... Val Loss: 1.8639... Val BERTScore: 0.9787... Val BERTScore std: 0.0036 Val BLEU score: 0.4997... Val BLEU score std: 0.0433\n",
            "Epoch: 30/35... Loss: 1.7182... Val Loss: 1.8585... Val BERTScore: 0.9765... Val BERTScore std: 0.0025 Val BLEU score: 0.4620... Val BLEU score std: 0.0607\n",
            "Epoch: 31/35... Loss: 1.7263... Val Loss: 1.8599... Val BERTScore: 0.9768... Val BERTScore std: 0.0015 Val BLEU score: 0.4430... Val BLEU score std: 0.0230\n",
            "Epoch: 31/35... Loss: 1.6930... Val Loss: 1.8704... Val BERTScore: 0.9770... Val BERTScore std: 0.0018 Val BLEU score: 0.4280... Val BLEU score std: 0.0174\n",
            "Epoch: 31/35... Loss: 1.6945... Val Loss: 1.8520... Val BERTScore: 0.9769... Val BERTScore std: 0.0017 Val BLEU score: 0.4914... Val BLEU score std: 0.0289\n",
            "Epoch: 32/35... Loss: 1.6667... Val Loss: 1.8489... Val BERTScore: 0.9756... Val BERTScore std: 0.0010 Val BLEU score: 0.4357... Val BLEU score std: 0.0423\n",
            "Epoch: 32/35... Loss: 1.6808... Val Loss: 1.8466... Val BERTScore: 0.9769... Val BERTScore std: 0.0030 Val BLEU score: 0.4245... Val BLEU score std: 0.0153\n",
            "Epoch: 32/35... Loss: 1.6624... Val Loss: 1.8483... Val BERTScore: 0.9753... Val BERTScore std: 0.0038 Val BLEU score: 0.4856... Val BLEU score std: 0.0631\n",
            "Epoch: 33/35... Loss: 1.6869... Val Loss: 1.8418... Val BERTScore: 0.9752... Val BERTScore std: 0.0016 Val BLEU score: 0.4664... Val BLEU score std: 0.0432\n",
            "Epoch: 33/35... Loss: 1.6835... Val Loss: 1.8407... Val BERTScore: 0.9763... Val BERTScore std: 0.0018 Val BLEU score: 0.4500... Val BLEU score std: 0.0403\n",
            "Epoch: 33/35... Loss: 1.6626... Val Loss: 1.8278... Val BERTScore: 0.9780... Val BERTScore std: 0.0013 Val BLEU score: 0.4630... Val BLEU score std: 0.0174\n",
            "Epoch: 34/35... Loss: 1.6406... Val Loss: 1.8340... Val BERTScore: 0.9757... Val BERTScore std: 0.0037 Val BLEU score: 0.4850... Val BLEU score std: 0.0185\n",
            "Epoch: 34/35... Loss: 1.6647... Val Loss: 1.8218... Val BERTScore: 0.9782... Val BERTScore std: 0.0016 Val BLEU score: 0.4759... Val BLEU score std: 0.0365\n",
            "Epoch: 35/35... Loss: 1.6661... Val Loss: 1.8238... Val BERTScore: 0.9761... Val BERTScore std: 0.0013 Val BLEU score: 0.4551... Val BLEU score std: 0.0530\n",
            "Epoch: 35/35... Loss: 1.6302... Val Loss: 1.8286... Val BERTScore: 0.9771... Val BERTScore std: 0.0028 Val BLEU score: 0.4577... Val BLEU score std: 0.0280\n",
            "Epoch: 35/35... Loss: 1.6561... Val Loss: 1.8199... Val BERTScore: 0.9763... Val BERTScore std: 0.0016 Val BLEU score: 0.4702... Val BLEU score std: 0.0543\n",
            "\n"
          ]
        },
        {
          "output_type": "display_data",
          "data": {
            "text/plain": [
              "<Figure size 432x288 with 1 Axes>"
            ],
            "image/png": "[encoded data removed]"
          },
          "metadata": {
            "needs_background": "light"
          }
        },
        {
          "output_type": "display_data",
          "data": {
            "text/plain": [
              "<Figure size 432x288 with 1 Axes>"
            ],
            "image/png": "[encoded data removed]"
          },
          "metadata": {
            "needs_background": "light"
          }
        },
        {
          "output_type": "display_data",
          "data": {
            "text/plain": [
              "<Figure size 432x288 with 1 Axes>"
            ],
            "image/png": "[encoded data removed]"
          },
          "metadata": {
            "needs_background": "light"
          }
        },
        {
          "output_type": "stream",
          "name": "stdout",
          "text": [
            "\n",
            "====\n",
            "\n",
            "\n",
            "Test Loss: 1.8926\n",
            "\n",
            "Good results:\n",
            "[\n",
            "    {\n",
            "        \"prime\": \"?\\n\\nGREMIO:\\nGood morrow, neighbour Baptista.\\n\\nBAPTISTA:\\nGood morrow, neighbour Gremio.\\nGod save you, gentlemen!\\n\\nPETRUCHIO:\\nAnd you, good sir! Pray, have you not a daughter\\nCall'd Katharina, fair and virtuous?\\n\\nBAPTISTA:\\nI have a daughter, sir, called Katharina.\\n\\nGREMIO:\\nYou are too blunt: go to it orderly.\\n\\nPETRUCHIO:\\nYou wrong me, Signior Gremio: give me leave.\\nI am a gentleman of Verona, sir,\\nThat, hearing of her beauty and her wit,\\nHer affability and bashful modesty,\\nHer wondrous qualities and mild behavior,\\nAm bold to show myself a forward guest\\nWithin your house, to make mine eye the witness\\nOf that report which I so oft have heard.\\nAnd, for an entrance to my entertainment,\\nI do present you with a man of mine,\\nCunning in music and the mathematics,\\nTo instruct her fully in those sciences,\\nWhereof I know she is not ignorant:\\nAccept of him, or else you do me wrong:\\nHis name is Licio, born in Mantua.\\n\\nBAPTISTA:\\nYou're welcome, sir; and he, for your good sake.\\nBut for my daughter Katharina, this I know,\\nShe is not for your turn, the more my grief.\\n\\nPETRUCHIO:\\nI see you do not mean to part with her,\\nOr else you like not of my company.\\n\\nBAPTISTA:\\nMistake me not; I speak but as I find.\\nWhence are you, sir? what may I call your name?\\n\\nPETRUCHIO:\\nPetruchio is my name; Antonio's son,\\nA man well known throughout all Italy.\\n\\nBAPTISTA:\\nI know him well: you are welcome for his sake.\\n\\nGREMIO:\\nSaving your tale, Petruchio, I pray,\\nLet us, that are poor petitioners, speak too:\\nBaccare! you are marvellous forward.\\n\\nPETRUCHIO:\\nO, pardon me, Signior Gremio; I would fain be doing.\\n\\nGREMIO:\\nI doubt it not, sir; but you will curse your\\nwooing. Neighbour, this is a gift very grateful, I am\\nsure of it. To express the like kindness, myself,\\nthat have been more kindly beholding to you than\\nany, freely give unto you this young scholar,\\nthat hath been long studying at Rheims; as cunning\\nin Greek, Latin, and other languages, as the other\\nin music and mathematics: his name is Cambio; pray,\\naccept his service.\\n\\nBAPTISTA:\\nA thousand thanks, Signior Gremio.\\nWelcome, good Cambio.\\nBut, gentle sir, methinks you walk like a stranger:\\nmay I be so bold to know the cause of your coming?\\n\\nTRANIO:\\nPardon me, sir, the boldness is mine own,\\nThat, being a stranger in this city here,\\nDo make myself a suitor to your daughter,\\nUnto Bianca, fair and virtuous.\\nNor is your firm resolve unknown to me,\\nIn the preferment of the eldest sister.\\nThis liberty is all that I request,\\nThat, upon knowledge of my pa\",\n",
            "        \"target_continuation\": \"rentage,\\nI may have welcome 'mongst the rest that woo\\nAnd free access and favour as the rest:\\nAnd, t\",\n",
            "        \"predicted_continuation\": \"illant's un.\\n\\nYORK:\\nI have mowe fate to me boot laws;\\nAnd then casing to mate--\\nGives me the voice a\",\n",
            "        \"bleu_score\": 0.5992419453700726\n",
            "    },\n",
            "    {\n",
            "        \"prime\": \"?\\n\\nGREMIO:\\nGood morrow, neighbour Baptista.\\n\\nBAPTISTA:\\nGood morrow, neighbour Gremio.\\nGod save you, gentlemen!\\n\\nPETRUCHIO:\\nAnd you, good sir! Pray, have you not a daughter\\nCall'd Katharina, fair and virtuous?\\n\\nBAPTISTA:\\nI have a daughter, sir, called Katharina.\\n\\nGREMIO:\\nYou are too blunt: go to it orderly.\\n\\nPETRUCHIO:\\nYou wrong me, Signior Gremio: give me leave.\\nI am a gentleman of Verona, sir,\\nThat, hearing of her beauty and her wit,\\nHer affability and bashful modesty,\\nHer wondrous qualities and mild behavior,\\nAm bold to show myself a forward guest\\nWithin your house, to make mine eye the witness\\nOf that report which I so oft have heard.\\nAnd, for an entrance to my entertainment,\\nI do present you with a man of mine,\\nCunning in music and the mathematics,\\nTo instruct her fully in those sciences,\\nWhereof I know she is not ignorant:\\nAccept of him, or else you do me wrong:\\nHis name is Licio, born in Mantua.\\n\\nBAPTISTA:\\nYou're welcome, sir; and he, for your good sake.\\nBut for my daughter Katharina, this I know,\\nShe is not for your turn, the more my grief.\\n\\nPETRUCHIO:\\nI see you do not mean to part with her,\\nOr else you like not of my company.\\n\\nBAPTISTA:\\nMistake me not; I speak but as I find.\\nWhence are you, sir? what may I call your name?\\n\\nPETRUCHIO:\\nPetruchio is my name; Antonio's son,\\nA man well known throughout all Italy.\\n\\nBAPTISTA:\\nI know him well: you are welcome for his sake.\\n\\nGREMIO:\\nSaving your tale, Petruchio, I pray,\\nLet us, that are poor petitioners, speak too:\\nBaccare! you are marvellous forward.\\n\\nPETRUCHIO:\\nO, pardon me, Signior Gremio; I would fain be doing.\\n\\nGREMIO:\\nI doubt it not, sir; but you will curse your\\nwooing. Neighbour, this is a gift very grateful, I am\\nsure of it. To express the like kindness, myself,\\nthat have been more kindly beholding to you than\\nany, freely give unto you this young scholar,\\nthat hath been long studying at Rheims; as cunning\\nin Greek, Latin, and other languages, as the other\\nin music and mathematics: his name is Cambio; pray,\\naccept his service.\\n\\nBAPTISTA:\\nA thousand thanks, Signior Gremio.\\nWelcome, good Cambio.\\nBut, gentle sir, methinks you walk like a stranger:\\nmay I be so bold to know the cause of your coming?\\n\\nTRANIO:\\nPardon me, sir, the boldness is mine own,\\nThat, being a stranger in this city here,\\nDo make myself a suitor to your daughter,\\nUnto Bianca, fair and virtuous.\\nNor is your firm resolve unknown to me,\\nIn the preferment of the eldest sister.\\nThis liberty is all that I request,\\nThat, upon knowledge of my parentage,\\nI may have welcome 'mongst the rest that woo\\nAnd free access and favour as the rest:\\nAnd, toward the education of your daughters,\\nI here bestow a simple instrument,\\nAnd this small packet of Greek and Latin books:\\nIf you accept them, then their worth is great.\\n\\nBAPTISTA:\\nLucentio is your name; of whence, I pray?\\n\\nTRANIO:\\nOf Pisa, sir; son to Vincentio.\\n\\nBAPTISTA:\\nA mighty man of Pisa; by report\\nI know him well: you are very welcome, sir,\\nTake you the lute, and you the set of books;\\nYou shall go see your pupils presently.\\nHolla, within!\\nSirrah, lead these gentlemen\\nTo my daughters; and tell them both,\\nThese are their tutors: bid them use them well.\\nWe will go walk a little in the orchard,\\nAnd then to dinner. You are passing welcome,\\nAnd so I pray you all to think yourselves.\\n\\nPETRUCHIO:\\nSignior Baptista, my business asketh haste,\\nAnd every day I cannot come to woo.\\nYou knew my father well, and in him me,\\nLeft solely heir to all his lands and goods,\\nWhich I have better'd rather than decreased:\\nThen tell me, if I get your daughter's love,\\nWhat dowry shall I have with her to wife?\\n\\nBAPTISTA:\\nAfter my death the one half of my lands,\\nAnd in possession twenty thousand crowns.\\n\\nPET\",\n",
            "        \"target_continuation\": \"RUCHIO:\\nAnd, for that dowry, I'll assure her of\\nHer widowhood, be it that she survive me,\\nIn all my \",\n",
            "        \"predicted_continuation\": \"R:\\nNow gives him tyat, we spays we that had move\\nthomick honeer my shall spurelly for thee and spers\",\n",
            "        \"bleu_score\": 0.5820548760966433\n",
            "    },\n",
            "    {\n",
            "        \"prime\": \"?\\n\\nGREMIO:\\nGood morrow, neighbour Baptista.\\n\\nBAPTISTA:\\nGood morrow, neighbour Gremio.\\nGod save you, gentlemen!\\n\\nPETRUCHIO:\\nAnd you, good sir! Pray, have you not a daughter\\nCall'd Katharina, fair and virtuous?\\n\\nBAPTISTA:\\nI have a daughter, sir, called Katharina.\\n\\nGREMIO:\\nYou are too blunt: go to it orderly.\\n\\nPETRUCHIO:\\nYou wrong me, Signior Gremio: give me leave.\\nI am a gentleman of Verona, sir,\\nThat, hearing of her beauty and her wit,\\nHer affability and bashful modesty,\\nHer wondrous qualities and mild behavior,\\nAm bold to show myself a forward guest\\nWithin your house, to make mine eye the witness\\nOf that report which I so oft have heard.\\nAnd, for an entrance to my entertainment,\\nI do present you with a man of mine,\\nCunning in music and the mathematics,\\nTo instruct her fully in those sciences,\\nWhereof I know she is not ignorant:\\nAccept of him, or else you do me wrong:\\nHis name is Licio, born in Mantua.\\n\\nBAPTISTA:\\nYou're welcome, sir; and he, for your good sake.\\nBut for my daughter Katharina, this I know,\\nShe is not for your turn, the more my grief.\\n\\nPETRUCHIO:\\nI see you do not mean to part with her,\\nOr else you like not of my company.\\n\\nBAPTISTA:\\nMistake me not; I speak but as I find.\\nWhence are you, sir? what may I call your name?\\n\\nPETRUCHIO:\\nPetruchio is my name; Antonio's son,\\nA man well known throughout all Italy.\\n\\nBAPTISTA:\\nI know him well: you are welcome for his sake.\\n\\nGREMIO:\\nSaving your tale, Petruchio, I pray,\\nLet us, that are poor petitioners, speak too:\\nBaccare! you are marvellous forward.\\n\\nPETRUCHIO:\\nO, pardon me, Signior Gremio; I would fain be doing.\\n\\nGREMIO:\\nI doubt it not, sir; but you will curse your\\nwooing. Neighbour, this is a gift very grateful, I am\\nsure of it. To express the like kindness, myself,\\nthat have been more kindly beholding to you than\\nany, freely give unto you this young scholar,\\nthat hath been long studying at Rheims; as cunning\\nin Greek, Latin, and other languages, as the other\\nin music and mathematics: his name is Cambio; pray,\\naccept his service.\\n\\nBAPTISTA:\\nA thousand thanks, Signior Gremio.\\nWelcome, good Cambio.\\nBut, gentle sir, methinks you walk like a stranger:\\nmay I be so bold to know the cause of your coming?\\n\\nTRANIO:\\nPar\",\n",
            "        \"target_continuation\": \"don me, sir, the boldness is mine own,\\nThat, being a stranger in this city here,\\nDo make myself a su\",\n",
            "        \"predicted_continuation\": \"is call a nering that you our reisbering\\nStine your benerence, thou destxites sortan, say provest?\\n\\n\",\n",
            "        \"bleu_score\": 0.5719892631612216\n",
            "    },\n",
            "    {\n",
            "        \"prime\": \"?\\n\\nGREMIO:\\nGood morrow, neighbour Baptista.\\n\\nBAPTISTA:\\nGood morrow, neighbour Gremio.\\nGod save you, gentlemen!\\n\\nPETRUCHIO:\\nAnd you, good sir! Pray, have you not a daughter\\nCall'd Katharina, fair and virtuous?\\n\\nBAPTISTA:\\nI have a daughter, sir, called Katharina.\\n\\nGREMIO:\\nYou are too blunt: go to it orderly.\\n\\nPETRUCHIO:\\nYou wrong me, Signior Gremio: give me leave.\\nI am a gentleman of Verona, sir,\\nThat, hearing of her beauty and her wit,\\nHer affability and bashful modesty,\\nHer wondrous qualities and mild behavior,\\nAm bold to show myself a forward guest\\nWithin your house, to make mine eye the witness\\nOf that report which I so oft have heard.\\nAnd, for an entrance to my entertainment,\\nI do present you with a man of mine,\\nCunning in music and the mathematics,\\nTo instruct her fully in those sciences,\\nWhereof I know she is not ignorant:\\nAccept of him, or else you do me wrong:\\nHis name is Licio, born in Mantua.\\n\\nBAPTISTA:\\nYou're welcome, sir; and he, for your good sake.\\nBut for my daughter Katharina, this I know,\\nShe is not for your turn, the more my grief.\\n\\nPETRUCHIO:\\nI see you do not mean to part with her,\\nOr else you like not of my company.\\n\\nBAPTISTA:\\nMistake me not; I speak but as I find.\\nWhence are you, sir? what may I call your name?\\n\\nPETRUCHIO:\\nPetruchio is my name; Antonio's son,\\nA man well known throughout all Italy.\\n\\nBAPTISTA:\\nI know him well: you are welcome for his sake.\\n\\nGREMIO:\\nSaving your tale, Petruchio, I pray,\\nLet us, that are poor petitioners, speak too:\\nBaccare! you are marvellous forward.\\n\\nPETRUCHIO:\\nO, pardon me, Signior Gremio; I would fain be doing.\\n\\nGREMIO:\\nI doubt it not, sir; but you will curse your\\nwooing. Neighbour, this is a gift very grateful, I am\\nsure of it. To express the like kindness, myself,\\nthat have been more kindly beholding to you than\\nany, freely give unto you this young scholar,\\nthat hath been long studying at Rheims; as cunning\\nin Greek, Latin, and other languages, as the other\\nin music and mathematics: his name is Cambio; pray,\\naccept his service.\\n\\nBAPTISTA:\\nA thousand thanks, Signior Gremio.\\nWelcome, good Cambio.\\nBut, gentle sir\",\n",
            "        \"target_continuation\": \", methinks you walk like a stranger:\\nmay I be so bold to know the cause of your coming?\\n\\nTRANIO:\\nPar\",\n",
            "        \"predicted_continuation\": \" -o\\nJutier, I sur your grave and my feal:\\nknever to knew thy soor Zorcet is cities,\\nBut to the grown\",\n",
            "        \"bleu_score\": 0.5433714431698866\n",
            "    },\n",
            "    {\n",
            "        \"prime\": \"?\\n\\nGREMIO:\\nGood morrow, neighbour Baptista.\\n\\nBAPTISTA:\\nGood morrow, neighbour Gremio.\\nGod save you, gentlemen!\\n\\nPETRUCHIO:\\nAnd you, good sir! Pray, have you not a daughter\\nCall'd Katharina, fair and virtuous?\\n\\nBAPTISTA:\\nI have a daughter, sir, called Katharina.\\n\\nGREMIO:\\nYou are too blunt: go to it orderly.\\n\\nPETRUCHIO:\\nYou wrong me, Signior Gremio: give me leave.\\nI am a gentleman of Verona, sir,\\nThat, hearing of her beauty and her wit,\\nHer affability and bashful modesty,\\nHer wondrous qualities and mild behavior,\\nAm bold to show myself a forward guest\\nWithin your house, to make mine eye the witness\\nOf that report which I so oft have heard.\\nAnd, for an entrance to my entertainment,\\nI do present\",\n",
            "        \"target_continuation\": \" you with a man of mine,\\nCunning in music and the mathematics,\\nTo instruct her fully in those scienc\",\n",
            "        \"predicted_continuation\": \"to man: and the kingle acare atlaw;\\nPout and intorere, friendsn to O medsice is,\\nIt mean his grantan\",\n",
            "        \"bleu_score\": 0.5399214308722626\n",
            "    }\n",
            "]\n",
            "\n",
            "Bad results:\n",
            "[\n",
            "    {\n",
            "        \"prime\": \"?\\n\\nGREMIO:\\nGood morrow, neighbour Baptista.\\n\\nBAPTISTA:\\nGood morrow, neighbour Gremio.\\nGod save you, gentlemen!\\n\\nPETRUCHIO:\\nAnd you, good sir! Pray, have you not a daughter\\nCall'd Katharina, fair and virtuous?\\n\\nBAPTISTA:\\nI have a daughter, sir, called Katharina.\\n\\nGREMIO:\\nYou are too blunt: go to it orderly.\\n\\nPETRUCHIO:\\nYou wrong me, Signior Gremio: give me leave.\\nI am a gentleman of Verona, sir,\\nThat, hearing of her beauty and her wit,\\nHer affability and bashful modesty,\\nHer wondrous qualities and mild behavior,\\nAm bold to show myself a forward guest\\nWithin your house, to make mine eye the witness\\nOf that report which I so oft have heard.\\nAnd, for an entrance to my entertainment,\\nI do present you with a man of mine,\\nCunning in music and the mathematics,\\nTo instruct her fully in those scienc\",\n",
            "        \"target_continuation\": \"es,\\nWhereof I know she is not ignorant:\\nAccept of him, or else you do me wrong:\\nHis name is Licio, b\",\n",
            "        \"predicted_continuation\": \".\\n\\nAUFIDIUS:\\nMy lord, Erdad, say, what youth leave you, and pat-afilimen,\\nThriagh and breash tuch an\",\n",
            "        \"bleu_score\": 0.3421559689245638\n",
            "    },\n",
            "    {\n",
            "        \"prime\": \"?\\n\\nGREMIO:\\nGood morrow, neighbour Baptista.\\n\\nBAPTISTA:\\nGood morrow, neighbour Gremio.\\nGod save you, gentlemen!\\n\\nPETRUCHIO:\\nAnd you, good sir! Pray, have you not a daughter\\nCall'd Katharina, fair and virtuous?\\n\\nBAPTISTA:\\nI have a daughter, sir, called Katharina.\\n\\nGREMIO:\\nYou are too blunt: go to it orderly.\\n\\nPETRUCHIO:\\nYou wrong me, Signior Gremio: give me leave.\\nI am a gentleman of Verona, sir,\\nThat, hearing of her beauty and her wit,\\nHer affability and bashful modesty,\\nHer wondrous qualities and mild behavior,\\nAm bold to show myself a forward guest\\nWithin your house, to make mine eye the witness\\nOf that report which I so oft have heard.\\nAnd, for an entrance to my entertainment,\\nI do present you with a man of mine,\\nCunning in music and the mathematics,\\nTo instruct her fully in those sciences,\\nWhereof I know she is not ignorant:\\nAccept of him, or else you do me wrong:\\nHis name is Licio, born in Mantua.\\n\\nBAPTISTA:\\nYou're welcome, sir; and he, for your good sake.\\nBut for my daughter Katharina, this I know,\\nShe is not for your turn, the more my grief.\\n\\nPETRUCHIO:\\nI see you do not mean to part with her,\\nOr else you like not of my company.\\n\\nBAPTISTA:\\nMistake me not; I speak but as I find.\\nWhence are you, sir? what may I call your name?\\n\\nPETRUCHIO:\\nPetruchio is my name; Antonio's son,\\nA man well known throughout all Italy.\\n\\nBAPTISTA:\\nI know him well: you are welcome for his sake.\\n\\nGREMIO:\\nSaving your tale, Petruchio, I pray,\\nLet us, that are poor petitioners, speak too:\\nBaccare! you are marvellous forward.\\n\\nPETRUCHIO:\\nO, pardon me, Signior Gremio; I would fain be doing.\\n\\nGREMIO:\\nI doubt it not, sir; but you will curse your\\nwooing. Neighbour, this is a gift very grateful, I am\\nsure of it. To express the like kindness, myself,\\nthat have been more kindly beholding to you than\\nany, freely give unto you this young scholar,\\nthat hath been long studying at Rheims; as cunning\\nin Greek, Latin, and other languages, as the other\\nin music and mathematics: his name is Cambio; pray,\\naccept his service.\\n\\nBAPTISTA:\\nA thousand thanks, Signior Gremio.\\nWelcome, good Cambio.\\nBut, gentle sir, methinks you walk like a stranger:\\nmay I be so bold to know the cause of your coming?\\n\\nTRANIO:\\nPardon me, sir, the boldness is mine own,\\nThat, being a stranger in this city here,\\nDo make myself a suitor to your daughter,\\nUnto Bianca, fair and virtuous.\\nNor is your firm resolve unknown to me,\\nIn the preferment of the eldest sister.\\nThis liberty is all that I request,\\nThat, upon knowledge of my parentage,\\nI may have welcome 'mongst the rest that woo\\nAnd free access and favour as the rest:\\nAnd, toward the education of your daughters,\\nI here bestow a simple instrument,\\nAnd this small packet of Greek and Latin books:\\nIf you accept them, then their worth is great.\\n\\nBAPTISTA:\\nLucentio is your name; of whence, I pray?\\n\\nTRANIO:\\nOf Pisa, sir; son to Vincentio.\\n\\nBAPTISTA:\\nA mighty man of Pisa; by report\\nI know him well: you are very welcome, sir,\\nTake you the lute, and you the set of books;\\nYou shall go see your pupils presently.\\nHolla, within!\\nSirrah, lead these gentlemen\\nTo my daughters; and \",\n",
            "        \"target_continuation\": \"tell them both,\\nThese are their tutors: bid them use them well.\\nWe will go walk a little in the orch\",\n",
            "        \"predicted_continuation\": \"as bust weepTer.\\n\\nKING RICHARD III:\\nThougard you low'd the Veronn's gossous heart,\\nLet wenI mad last\",\n",
            "        \"bleu_score\": 0.3421559689245638\n",
            "    },\n",
            "    {\n",
            "        \"prime\": \"?\\n\\nGREMIO:\\nGood morrow, neighbour Baptista.\\n\\nBAPTISTA:\\nGood morrow, neighbour Gremio.\\nGod save you, \",\n",
            "        \"target_continuation\": \"gentlemen!\\n\\nPETRUCHIO:\\nAnd you, good sir! Pray, have you not a daughter\\nCall'd Katharina, fair and v\",\n",
            "        \"predicted_continuation\": \"om thee which papperany bearle?\\nThat surs of the cruss\\ngeently be jost lultge, thos me.\\nThe sand in \",\n",
            "        \"bleu_score\": 0.35675303400633784\n",
            "    },\n",
            "    {\n",
            "        \"prime\": \"?\\n\\nGREMIO:\\nGood morrow, neighbour Baptista.\\n\\nBAPTISTA:\\nGood morrow, neighbour Gremio.\\nGod save you, gentlemen!\\n\\nPETRUCHIO:\\nAnd you, good sir! Pray, have you not a daughter\\nCall'd Katharina, fair and virtuous?\\n\\nBAPTISTA:\\nI have a daughter, sir, called Katharina.\\n\\nGREMIO:\\nYou are too blunt: go to it orderly.\\n\\nPETRUCHIO:\\nYou wrong me, Signior Gremio: give me leave.\\nI am a gentleman of Verona, sir,\\nThat, hearing of her beauty and her wit,\\nHer affability and bashful modesty,\\nHer wondrous qualities and mild behavior,\\nAm bold to show myself a forward guest\\nWithin your house, to make mine eye the witness\\nOf that report which I so oft have heard.\\nAnd, for an entrance to my entertainment,\\nI do present you with a man of mine,\\nCunning in music and the mathematics,\\nTo instruct her fully in those sciences,\\nWhereof I know she is not ignorant:\\nAccept of him, or else you do me wrong:\\nHis name is Licio, born in Mantua.\\n\\nBAPTISTA:\\nYou're welcome, sir; and he, for your good sake.\\nBut for my daughter Katharina, this I know,\\nShe is not for your turn, the more my grief.\\n\\nPETRUCHIO:\\nI see you do not mean to part with her,\\nOr else you like not of my company.\\n\\nBAPTISTA:\\nMistake me not; I speak but as I find.\\nWhence are you, sir? what may I call your name?\\n\\nPETRUCHIO:\\nPetruchio is my name; Antonio's son,\\nA man well known throughout all Italy.\\n\\nBAPTISTA:\\nI know him well: you are welcome for his sake.\\n\\nGREMIO:\\nSaving your tale, Petruchio, I pray,\\nLet us, that are poor petitioners, speak too:\\nBaccare! you are marvellous forward.\\n\\nPETRUCHIO:\\nO, pardon me, Signior Gremio; I would fain be doing.\\n\\nGREMIO:\\nI doubt it not, sir; but you will curse your\\nwooing. Neighbour, this is a gift very grateful, I am\\nsure of it. To express the like kindness, myself,\\nthat have been more kindly beholding to you than\\nany, freely give unto you this young scholar,\\nthat hath been long studying at Rheims; as cunning\\nin Greek, Latin, and other languages, as the other\\nin music and mathematics: his name is Cambio; pray,\\naccept his service.\\n\\nBAPTISTA:\\nA thousand thanks, Signior Gremio.\\nWelcome, good Cambio.\\nBut, gentle sir, methinks you walk like a stranger:\\nmay I be so bold to know the cause of your coming?\\n\\nTRANIO:\\nPardon me, sir, the boldness is mine own,\\nThat, being a stranger in this city here,\\nDo make myself a suitor to your daughter,\\nUnto Bianca, fair and virtuous.\\nNor is your firm resolve unknown to me,\\nIn the preferment of the eldest sister.\\nThis liberty is all that I request,\\nThat, upon knowledge of my parentage,\\nI may have welcome 'mongst the rest that woo\\nAnd free access and favour as the rest:\\nAnd, toward the education of your daughters,\\nI here bestow a simple instrument,\\nAnd this small packet of Greek and Latin books:\\nIf you accept them, then their worth is great.\\n\\nBAPTISTA:\\nLucentio is your nam\",\n",
            "        \"target_continuation\": \"e; of whence, I pray?\\n\\nTRANIO:\\nOf Pisa, sir; son to Vincentio.\\n\\nBAPTISTA:\\nA mighty man of Pisa; by r\",\n",
            "        \"predicted_continuation\": \"s, For when is not would\\nRecance the  cownralt Sen lore to-shate\\nThe viltomed that brother may the s\",\n",
            "        \"bleu_score\": 0.36514837167011066\n",
            "    },\n",
            "    {\n",
            "        \"prime\": \"?\\n\\nGREMIO:\\nGood morrow, neighbour Baptista.\\n\\nBAPTISTA:\\nGood morrow, neighbour Gremio.\\nGod save you, gentlemen!\\n\\nPETRUCHIO:\\nAnd you, good sir! Pray, have you not a daughter\\nCall'd Katharina, fair and v\",\n",
            "        \"target_continuation\": \"irtuous?\\n\\nBAPTISTA:\\nI have a daughter, sir, called Katharina.\\n\\nGREMIO:\\nYou are too blunt: go to it o\",\n",
            "        \"predicted_continuation\": \"llayiBngaces\\nHer by mine cate and giver? vidy a procerect.\\n\\nKING EDWARD IV:\\nAnd well, I play a in my\",\n",
            "        \"bleu_score\": 0.39157800414902433\n",
            "    }\n",
            "]\n"
          ]
        }
      ],
      "source": [
        "torch.manual_seed(42)\n",
        "net = create_and_train_model()\n",
        "print('\\n====\\n')\n",
        "eval_trained_model(net)"
      ]
    },
    {
      "cell_type": "code",
      "execution_count": 26,
      "metadata": {
        "colab": {
          "base_uri": "https://localhost:8080/",
          "height": 1000
        },
        "id": "VwHINCCK74oJ",
        "outputId": "ed6b4f77-1bfc-4525-a5f9-cab7dbe6a9cd"
      },
      "outputs": [
        {
          "output_type": "stream",
          "name": "stdout",
          "text": [
            "CharRNN(\n",
            "  (lstm): LSTM(65, 512, num_layers=2, batch_first=True, dropout=0.5)\n",
            "  (dropout): Dropout(p=0.5, inplace=False)\n",
            "  (fc): Linear(in_features=512, out_features=65, bias=True)\n",
            ") \n",
            "\n",
            "Epoch: 1/35... Loss: 3.3898... Val Loss: 3.3860... Val BERTScore: 0.9695... Val BERTScore std: 0.0015 Val BLEU score: 0.3372... Val BLEU score std: 0.0373\n",
            "Epoch: 1/35... Loss: 3.2658... Val Loss: 3.2664... Val BERTScore: 0.9727... Val BERTScore std: 0.0017 Val BLEU score: 0.3317... Val BLEU score std: 0.0264\n",
            "Epoch: 2/35... Loss: 3.1056... Val Loss: 3.1043... Val BERTScore: 0.9718... Val BERTScore std: 0.0010 Val BLEU score: 0.3724... Val BLEU score std: 0.0375\n",
            "Epoch: 2/35... Loss: 2.9043... Val Loss: 2.8968... Val BERTScore: 0.9736... Val BERTScore std: 0.0015 Val BLEU score: 0.3443... Val BLEU score std: 0.0170\n",
            "Epoch: 2/35... Loss: 2.7319... Val Loss: 2.7179... Val BERTScore: 0.9747... Val BERTScore std: 0.0017 Val BLEU score: 0.3885... Val BLEU score std: 0.0213\n",
            "Epoch: 3/35... Loss: 2.5903... Val Loss: 2.6311... Val BERTScore: 0.9754... Val BERTScore std: 0.0023 Val BLEU score: 0.4461... Val BLEU score std: 0.0380\n",
            "Epoch: 3/35... Loss: 2.5352... Val Loss: 2.5731... Val BERTScore: 0.9761... Val BERTScore std: 0.0005 Val BLEU score: 0.4451... Val BLEU score std: 0.0384\n",
            "Epoch: 3/35... Loss: 2.4904... Val Loss: 2.5308... Val BERTScore: 0.9753... Val BERTScore std: 0.0029 Val BLEU score: 0.3936... Val BLEU score std: 0.0694\n",
            "Epoch: 4/35... Loss: 2.4517... Val Loss: 2.4958... Val BERTScore: 0.9770... Val BERTScore std: 0.0014 Val BLEU score: 0.4647... Val BLEU score std: 0.0345\n",
            "Epoch: 4/35... Loss: 2.4340... Val Loss: 2.4755... Val BERTScore: 0.9750... Val BERTScore std: 0.0012 Val BLEU score: 0.4334... Val BLEU score std: 0.0127\n",
            "Epoch: 4/35... Loss: 2.3651... Val Loss: 2.4490... Val BERTScore: 0.9773... Val BERTScore std: 0.0030 Val BLEU score: 0.4214... Val BLEU score std: 0.0501\n",
            "Epoch: 5/35... Loss: 2.3434... Val Loss: 2.4309... Val BERTScore: 0.9761... Val BERTScore std: 0.0015 Val BLEU score: 0.4281... Val BLEU score std: 0.0354\n",
            "Epoch: 5/35... Loss: 2.3425... Val Loss: 2.4083... Val BERTScore: 0.9755... Val BERTScore std: 0.0022 Val BLEU score: 0.4311... Val BLEU score std: 0.0244\n",
            "Epoch: 6/35... Loss: 2.3190... Val Loss: 2.3933... Val BERTScore: 0.9769... Val BERTScore std: 0.0030 Val BLEU score: 0.4494... Val BLEU score std: 0.0355\n",
            "Epoch: 6/35... Loss: 2.2964... Val Loss: 2.3796... Val BERTScore: 0.9767... Val BERTScore std: 0.0027 Val BLEU score: 0.4318... Val BLEU score std: 0.0151\n",
            "Epoch: 6/35... Loss: 2.2527... Val Loss: 2.3554... Val BERTScore: 0.9760... Val BERTScore std: 0.0022 Val BLEU score: 0.4718... Val BLEU score std: 0.0259\n",
            "Epoch: 7/35... Loss: 2.2458... Val Loss: 2.3440... Val BERTScore: 0.9780... Val BERTScore std: 0.0020 Val BLEU score: 0.4368... Val BLEU score std: 0.0278\n",
            "Epoch: 7/35... Loss: 2.2291... Val Loss: 2.3341... Val BERTScore: 0.9772... Val BERTScore std: 0.0024 Val BLEU score: 0.4590... Val BLEU score std: 0.0459\n",
            "Epoch: 7/35... Loss: 2.1913... Val Loss: 2.3112... Val BERTScore: 0.9773... Val BERTScore std: 0.0020 Val BLEU score: 0.4366... Val BLEU score std: 0.0575\n",
            "Epoch: 8/35... Loss: 2.1915... Val Loss: 2.3026... Val BERTScore: 0.9781... Val BERTScore std: 0.0012 Val BLEU score: 0.4584... Val BLEU score std: 0.0299\n",
            "Epoch: 8/35... Loss: 2.1868... Val Loss: 2.2851... Val BERTScore: 0.9758... Val BERTScore std: 0.0013 Val BLEU score: 0.3912... Val BLEU score std: 0.0475\n",
            "Epoch: 8/35... Loss: 2.1860... Val Loss: 2.3092... Val BERTScore: 0.9749... Val BERTScore std: 0.0033 Val BLEU score: 0.4384... Val BLEU score std: 0.0578\n",
            "Epoch: 9/35... Loss: 2.1443... Val Loss: 2.2641... Val BERTScore: 0.9775... Val BERTScore std: 0.0008 Val BLEU score: 0.4512... Val BLEU score std: 0.0419\n",
            "Epoch: 9/35... Loss: 2.1631... Val Loss: 2.2497... Val BERTScore: 0.9775... Val BERTScore std: 0.0015 Val BLEU score: 0.4727... Val BLEU score std: 0.0455\n",
            "Epoch: 10/35... Loss: 2.1328... Val Loss: 2.2357... Val BERTScore: 0.9780... Val BERTScore std: 0.0010 Val BLEU score: 0.4704... Val BLEU score std: 0.0485\n",
            "Epoch: 10/35... Loss: 2.0919... Val Loss: 2.2361... Val BERTScore: 0.9758... Val BERTScore std: 0.0022 Val BLEU score: 0.4587... Val BLEU score std: 0.0224\n",
            "Epoch: 10/35... Loss: 2.1215... Val Loss: 2.2133... Val BERTScore: 0.9767... Val BERTScore std: 0.0005 Val BLEU score: 0.4494... Val BLEU score std: 0.0771\n",
            "Epoch: 11/35... Loss: 2.1068... Val Loss: 2.2078... Val BERTScore: 0.9763... Val BERTScore std: 0.0014 Val BLEU score: 0.4559... Val BLEU score std: 0.0258\n",
            "Epoch: 11/35... Loss: 2.0918... Val Loss: 2.1894... Val BERTScore: 0.9747... Val BERTScore std: 0.0026 Val BLEU score: 0.4375... Val BLEU score std: 0.0200\n",
            "Epoch: 11/35... Loss: 2.0723... Val Loss: 2.1797... Val BERTScore: 0.9775... Val BERTScore std: 0.0011 Val BLEU score: 0.4519... Val BLEU score std: 0.0259\n",
            "Epoch: 12/35... Loss: 2.0372... Val Loss: 2.1696... Val BERTScore: 0.9756... Val BERTScore std: 0.0024 Val BLEU score: 0.4493... Val BLEU score std: 0.0478\n",
            "Epoch: 12/35... Loss: 2.0462... Val Loss: 2.1635... Val BERTScore: 0.9773... Val BERTScore std: 0.0016 Val BLEU score: 0.4283... Val BLEU score std: 0.0286\n",
            "Epoch: 12/35... Loss: 2.0069... Val Loss: 2.1465... Val BERTScore: 0.9771... Val BERTScore std: 0.0019 Val BLEU score: 0.4760... Val BLEU score std: 0.0093\n",
            "Epoch: 13/35... Loss: 1.9946... Val Loss: 2.1389... Val BERTScore: 0.9785... Val BERTScore std: 0.0024 Val BLEU score: 0.4674... Val BLEU score std: 0.0319\n",
            "Epoch: 13/35... Loss: 2.0071... Val Loss: 2.1281... Val BERTScore: 0.9773... Val BERTScore std: 0.0017 Val BLEU score: 0.4793... Val BLEU score std: 0.0129\n",
            "Epoch: 14/35... Loss: 1.9864... Val Loss: 2.1181... Val BERTScore: 0.9767... Val BERTScore std: 0.0021 Val BLEU score: 0.4521... Val BLEU score std: 0.0493\n",
            "Epoch: 14/35... Loss: 1.9845... Val Loss: 2.1139... Val BERTScore: 0.9752... Val BERTScore std: 0.0018 Val BLEU score: 0.4351... Val BLEU score std: 0.0435\n",
            "Epoch: 14/35... Loss: 1.9592... Val Loss: 2.1003... Val BERTScore: 0.9774... Val BERTScore std: 0.0012 Val BLEU score: 0.4706... Val BLEU score std: 0.0334\n",
            "Epoch: 15/35... Loss: 1.9306... Val Loss: 2.0892... Val BERTScore: 0.9793... Val BERTScore std: 0.0015 Val BLEU score: 0.4758... Val BLEU score std: 0.0242\n",
            "Epoch: 15/35... Loss: 1.9447... Val Loss: 2.0932... Val BERTScore: 0.9773... Val BERTScore std: 0.0027 Val BLEU score: 0.4682... Val BLEU score std: 0.0386\n",
            "Epoch: 15/35... Loss: 1.9972... Val Loss: 2.0683... Val BERTScore: 0.9787... Val BERTScore std: 0.0017 Val BLEU score: 0.4563... Val BLEU score std: 0.0242\n",
            "Epoch: 16/35... Loss: 1.9488... Val Loss: 2.0674... Val BERTScore: 0.9765... Val BERTScore std: 0.0020 Val BLEU score: 0.4618... Val BLEU score std: 0.0668\n",
            "Epoch: 16/35... Loss: 1.9546... Val Loss: 2.0541... Val BERTScore: 0.9776... Val BERTScore std: 0.0013 Val BLEU score: 0.4415... Val BLEU score std: 0.0384\n",
            "Epoch: 16/35... Loss: 1.9234... Val Loss: 2.0449... Val BERTScore: 0.9770... Val BERTScore std: 0.0024 Val BLEU score: 0.4747... Val BLEU score std: 0.0117\n",
            "Epoch: 17/35... Loss: 1.9006... Val Loss: 2.0405... Val BERTScore: 0.9780... Val BERTScore std: 0.0023 Val BLEU score: 0.4411... Val BLEU score std: 0.0348\n",
            "Epoch: 17/35... Loss: 1.9173... Val Loss: 2.0335... Val BERTScore: 0.9773... Val BERTScore std: 0.0034 Val BLEU score: 0.4166... Val BLEU score std: 0.0458\n",
            "Epoch: 18/35... Loss: 1.8956... Val Loss: 2.0261... Val BERTScore: 0.9776... Val BERTScore std: 0.0011 Val BLEU score: 0.4616... Val BLEU score std: 0.0322\n",
            "Epoch: 18/35... Loss: 1.8526... Val Loss: 2.0172... Val BERTScore: 0.9762... Val BERTScore std: 0.0023 Val BLEU score: 0.4246... Val BLEU score std: 0.0560\n",
            "Epoch: 18/35... Loss: 1.8542... Val Loss: 2.0128... Val BERTScore: 0.9776... Val BERTScore std: 0.0019 Val BLEU score: 0.4287... Val BLEU score std: 0.0442\n",
            "Epoch: 19/35... Loss: 1.8901... Val Loss: 2.0108... Val BERTScore: 0.9777... Val BERTScore std: 0.0020 Val BLEU score: 0.4744... Val BLEU score std: 0.0231\n",
            "Epoch: 19/35... Loss: 1.8781... Val Loss: 1.9983... Val BERTScore: 0.9785... Val BERTScore std: 0.0022 Val BLEU score: 0.4516... Val BLEU score std: 0.0412\n",
            "Epoch: 19/35... Loss: 1.8678... Val Loss: 1.9914... Val BERTScore: 0.9762... Val BERTScore std: 0.0021 Val BLEU score: 0.4185... Val BLEU score std: 0.0217\n",
            "Epoch: 20/35... Loss: 1.8563... Val Loss: 1.9878... Val BERTScore: 0.9760... Val BERTScore std: 0.0017 Val BLEU score: 0.4408... Val BLEU score std: 0.0245\n",
            "Epoch: 20/35... Loss: 1.8554... Val Loss: 1.9781... Val BERTScore: 0.9766... Val BERTScore std: 0.0025 Val BLEU score: 0.4665... Val BLEU score std: 0.0436\n",
            "Epoch: 20/35... Loss: 1.8226... Val Loss: 1.9777... Val BERTScore: 0.9766... Val BERTScore std: 0.0038 Val BLEU score: 0.4423... Val BLEU score std: 0.0440\n",
            "Epoch: 21/35... Loss: 1.8219... Val Loss: 1.9730... Val BERTScore: 0.9765... Val BERTScore std: 0.0020 Val BLEU score: 0.4192... Val BLEU score std: 0.0437\n",
            "Epoch: 21/35... Loss: 1.8186... Val Loss: 1.9623... Val BERTScore: 0.9770... Val BERTScore std: 0.0023 Val BLEU score: 0.4343... Val BLEU score std: 0.0296\n",
            "Epoch: 22/35... Loss: 1.8438... Val Loss: 1.9509... Val BERTScore: 0.9763... Val BERTScore std: 0.0028 Val BLEU score: 0.4189... Val BLEU score std: 0.0435\n",
            "Epoch: 22/35... Loss: 1.8033... Val Loss: 1.9540... Val BERTScore: 0.9777... Val BERTScore std: 0.0027 Val BLEU score: 0.4396... Val BLEU score std: 0.0391\n",
            "Epoch: 22/35... Loss: 1.8198... Val Loss: 1.9415... Val BERTScore: 0.9774... Val BERTScore std: 0.0020 Val BLEU score: 0.4450... Val BLEU score std: 0.0404\n",
            "Epoch: 23/35... Loss: 1.8363... Val Loss: 1.9410... Val BERTScore: 0.9769... Val BERTScore std: 0.0016 Val BLEU score: 0.4424... Val BLEU score std: 0.0193\n",
            "Epoch: 23/35... Loss: 1.7713... Val Loss: 1.9387... Val BERTScore: 0.9779... Val BERTScore std: 0.0014 Val BLEU score: 0.4642... Val BLEU score std: 0.0280\n",
            "Epoch: 23/35... Loss: 1.7804... Val Loss: 1.9313... Val BERTScore: 0.9765... Val BERTScore std: 0.0024 Val BLEU score: 0.4428... Val BLEU score std: 0.0507\n",
            "Epoch: 24/35... Loss: 1.7999... Val Loss: 1.9282... Val BERTScore: 0.9773... Val BERTScore std: 0.0023 Val BLEU score: 0.4490... Val BLEU score std: 0.0230\n",
            "Epoch: 24/35... Loss: 1.8145... Val Loss: 1.9215... Val BERTScore: 0.9786... Val BERTScore std: 0.0029 Val BLEU score: 0.4649... Val BLEU score std: 0.0374\n",
            "Epoch: 24/35... Loss: 1.7663... Val Loss: 1.9184... Val BERTScore: 0.9767... Val BERTScore std: 0.0020 Val BLEU score: 0.4031... Val BLEU score std: 0.0326\n",
            "Epoch: 25/35... Loss: 1.7282... Val Loss: 1.9151... Val BERTScore: 0.9751... Val BERTScore std: 0.0028 Val BLEU score: 0.4302... Val BLEU score std: 0.0334\n",
            "Epoch: 25/35... Loss: 1.7506... Val Loss: 1.9106... Val BERTScore: 0.9774... Val BERTScore std: 0.0024 Val BLEU score: 0.4682... Val BLEU score std: 0.0209\n",
            "Epoch: 25/35... Loss: 1.8163... Val Loss: 1.9026... Val BERTScore: 0.9758... Val BERTScore std: 0.0005 Val BLEU score: 0.4517... Val BLEU score std: 0.0479\n",
            "Epoch: 26/35... Loss: 1.7122... Val Loss: 1.9014... Val BERTScore: 0.9771... Val BERTScore std: 0.0013 Val BLEU score: 0.4567... Val BLEU score std: 0.0420\n",
            "Epoch: 26/35... Loss: 1.7831... Val Loss: 1.8925... Val BERTScore: 0.9751... Val BERTScore std: 0.0014 Val BLEU score: 0.4563... Val BLEU score std: 0.0211\n",
            "Epoch: 27/35... Loss: 1.7421... Val Loss: 1.8825... Val BERTScore: 0.9782... Val BERTScore std: 0.0008 Val BLEU score: 0.4648... Val BLEU score std: 0.0349\n",
            "Epoch: 27/35... Loss: 1.7285... Val Loss: 1.8868... Val BERTScore: 0.9756... Val BERTScore std: 0.0020 Val BLEU score: 0.4485... Val BLEU score std: 0.0242\n",
            "Epoch: 27/35... Loss: 1.7547... Val Loss: 1.8847... Val BERTScore: 0.9758... Val BERTScore std: 0.0037 Val BLEU score: 0.4952... Val BLEU score std: 0.0337\n",
            "Epoch: 28/35... Loss: 1.7416... Val Loss: 1.8781... Val BERTScore: 0.9772... Val BERTScore std: 0.0025 Val BLEU score: 0.4738... Val BLEU score std: 0.0337\n",
            "Epoch: 28/35... Loss: 1.7435... Val Loss: 1.8807... Val BERTScore: 0.9763... Val BERTScore std: 0.0016 Val BLEU score: 0.4662... Val BLEU score std: 0.0437\n",
            "Epoch: 28/35... Loss: 1.7349... Val Loss: 1.8796... Val BERTScore: 0.9754... Val BERTScore std: 0.0029 Val BLEU score: 0.4423... Val BLEU score std: 0.0519\n",
            "Epoch: 29/35... Loss: 1.7117... Val Loss: 1.8666... Val BERTScore: 0.9787... Val BERTScore std: 0.0034 Val BLEU score: 0.4702... Val BLEU score std: 0.0225\n",
            "Epoch: 29/35... Loss: 1.7520... Val Loss: 1.8659... Val BERTScore: 0.9775... Val BERTScore std: 0.0017 Val BLEU score: 0.4721... Val BLEU score std: 0.0284\n",
            "Epoch: 29/35... Loss: 1.6994... Val Loss: 1.8597... Val BERTScore: 0.9737... Val BERTScore std: 0.0013 Val BLEU score: 0.4594... Val BLEU score std: 0.0582\n",
            "Epoch: 30/35... Loss: 1.6735... Val Loss: 1.8567... Val BERTScore: 0.9754... Val BERTScore std: 0.0032 Val BLEU score: 0.4946... Val BLEU score std: 0.0086\n",
            "Epoch: 30/35... Loss: 1.7219... Val Loss: 1.8496... Val BERTScore: 0.9764... Val BERTScore std: 0.0014 Val BLEU score: 0.4632... Val BLEU score std: 0.0335\n",
            "Epoch: 31/35... Loss: 1.7078... Val Loss: 1.8547... Val BERTScore: 0.9763... Val BERTScore std: 0.0021 Val BLEU score: 0.4611... Val BLEU score std: 0.0173\n",
            "Epoch: 31/35... Loss: 1.6900... Val Loss: 1.8512... Val BERTScore: 0.9760... Val BERTScore std: 0.0028 Val BLEU score: 0.4764... Val BLEU score std: 0.0259\n",
            "Epoch: 31/35... Loss: 1.6910... Val Loss: 1.8418... Val BERTScore: 0.9781... Val BERTScore std: 0.0016 Val BLEU score: 0.4349... Val BLEU score std: 0.0831\n",
            "Epoch: 32/35... Loss: 1.6757... Val Loss: 1.8416... Val BERTScore: 0.9765... Val BERTScore std: 0.0022 Val BLEU score: 0.4296... Val BLEU score std: 0.0317\n",
            "Epoch: 32/35... Loss: 1.6675... Val Loss: 1.8403... Val BERTScore: 0.9771... Val BERTScore std: 0.0023 Val BLEU score: 0.4570... Val BLEU score std: 0.0365\n",
            "Epoch: 32/35... Loss: 1.6680... Val Loss: 1.8299... Val BERTScore: 0.9770... Val BERTScore std: 0.0022 Val BLEU score: 0.4604... Val BLEU score std: 0.0243\n",
            "Epoch: 33/35... Loss: 1.6896... Val Loss: 1.8371... Val BERTScore: 0.9764... Val BERTScore std: 0.0026 Val BLEU score: 0.4755... Val BLEU score std: 0.0412\n",
            "Epoch: 33/35... Loss: 1.6740... Val Loss: 1.8261... Val BERTScore: 0.9768... Val BERTScore std: 0.0009 Val BLEU score: 0.4438... Val BLEU score std: 0.0245\n",
            "Epoch: 33/35... Loss: 1.6589... Val Loss: 1.8276... Val BERTScore: 0.9762... Val BERTScore std: 0.0022 Val BLEU score: 0.4437... Val BLEU score std: 0.0287\n",
            "Epoch: 34/35... Loss: 1.6211... Val Loss: 1.8207... Val BERTScore: 0.9752... Val BERTScore std: 0.0017 Val BLEU score: 0.4402... Val BLEU score std: 0.0212\n",
            "Epoch: 34/35... Loss: 1.6608... Val Loss: 1.8191... Val BERTScore: 0.9769... Val BERTScore std: 0.0023 Val BLEU score: 0.4701... Val BLEU score std: 0.0340\n",
            "Epoch: 35/35... Loss: 1.6668... Val Loss: 1.8152... Val BERTScore: 0.9762... Val BERTScore std: 0.0028 Val BLEU score: 0.4511... Val BLEU score std: 0.0612\n",
            "Epoch: 35/35... Loss: 1.6198... Val Loss: 1.8164... Val BERTScore: 0.9777... Val BERTScore std: 0.0020 Val BLEU score: 0.4761... Val BLEU score std: 0.0809\n",
            "Epoch: 35/35... Loss: 1.6483... Val Loss: 1.8093... Val BERTScore: 0.9773... Val BERTScore std: 0.0013 Val BLEU score: 0.4616... Val BLEU score std: 0.0307\n",
            "\n"
          ]
        },
        {
          "output_type": "display_data",
          "data": {
            "text/plain": [
              "<Figure size 432x288 with 1 Axes>"
            ],
            "image/png": "[encoded data removed]"
          },
          "metadata": {
            "needs_background": "light"
          }
        },
        {
          "output_type": "display_data",
          "data": {
            "text/plain": [
              "<Figure size 432x288 with 1 Axes>"
            ],
            "image/png": "[encoded data removed]"
          },
          "metadata": {
            "needs_background": "light"
          }
        },
        {
          "output_type": "display_data",
          "data": {
            "text/plain": [
              "<Figure size 432x288 with 1 Axes>"
            ],
            "image/png": "[encoded data removed]"
          },
          "metadata": {
            "needs_background": "light"
          }
        },
        {
          "output_type": "stream",
          "name": "stdout",
          "text": [
            "\n",
            "====\n",
            "\n",
            "\n",
            "Test Loss: 1.8919\n",
            "\n",
            "Good results:\n",
            "[\n",
            "    {\n",
            "        \"prime\": \"?\\n\\nGREMIO:\\nGood morrow, neighbour Baptista.\\n\\nBAPTISTA:\\nGood morrow, neighbour Gremio.\\nGod save you, gentlemen!\\n\\nPETRUCHIO:\\nAnd you, good sir! Pray, have you not a daughter\\nCall'd Katharina, fair and virtuous?\\n\\nBAPTISTA:\\nI have a daughter, sir, called Katharina.\\n\\nGREMIO:\\nYou are too blunt: go to it orderly.\\n\\nPETRUCHIO:\\nYou wrong me, Signior Gremio: give me leave.\\nI am a gentleman of Verona, sir,\\nThat, hearing of her beauty and her wit,\\nHer affability and bashful modesty,\\nHer wondrous qualities and mild behavior,\\nAm bold to show myself a forward guest\\nWithin your house, to make mine eye the witness\\nOf that report which I so oft have heard.\\nAnd, for an entrance to my entertainment,\\nI do present you with a man of mine,\\nCunning in music and the mathematics,\\nTo instruct her fully in those sciences,\\nWhereof I know she is not ignorant:\\nAccept of him, or else you do me wrong:\\nHis name is Licio, born in Mantua.\\n\\nBAPTISTA:\\nYou're welcome, sir; and he, for your good sake.\\nBut for my daughter Katharina, this I know,\\nShe is not for your turn, the more my grief.\\n\\nPETRUCHIO:\\nI see you do not mean to part with her,\\nOr else you like not of my company.\\n\\nBAPTISTA:\\nMistake me not; I speak but as I find.\\nWhence are you, sir? what may I call your name?\\n\\nPETRUCHIO:\\nPetruchio is my name; Antonio's son,\\nA man well known throughout all Italy.\\n\\nBAPTISTA:\\nI know him well: you are welcome for his sake.\\n\\nGREMIO:\\nSaving your tale, Petruchio, I pray,\\nLet us, that are poor petitioners, speak too:\\nBaccare! you are marvellous forward.\\n\\nPETRUCHIO:\\nO, pardon me, Signior Gremio; I would fain be doing.\\n\\nGREMIO:\\nI doubt it not, sir; but you will curse your\\nwooing. Neighbour, this is a gift very grateful, I am\\nsu\",\n",
            "        \"target_continuation\": \"re of it. To express the like kindness, myself,\\nthat have been more kindly beholding to you than\\nany\",\n",
            "        \"predicted_continuation\": \"reysitive,\\nSo hill but to make that I spotter to undeen;\\nThe owery life bewind the seade beseeved\\nAn\",\n",
            "        \"bleu_score\": 0.5720775535473553\n",
            "    },\n",
            "    {\n",
            "        \"prime\": \"?\\n\\nGREMIO:\\nGood morrow, neighbour Baptista.\\n\\nBAPTISTA:\\nGood morrow, neighbour Gremio.\\nGod save you, gentlemen!\\n\\nPETRUCHIO:\\nAnd you, good sir! Pray, have you not a daughter\\nCall'd Katharina, fair and virtuous?\\n\\nBAPTISTA:\\nI have a daughter, sir, called Katharina.\\n\\nGREMIO:\\nYou are too blunt: go to it orderly.\\n\\nPETRUCHIO:\\nYou wrong me, Signior Gremio: give me leave.\\nI am a gentleman of Verona, sir,\\nTh\",\n",
            "        \"target_continuation\": \"at, hearing of her beauty and her wit,\\nHer affability and bashful modesty,\\nHer wondrous qualities an\",\n",
            "        \"predicted_continuation\": \"t shall the king of undor deporraled us;\\nAnd, and thou batter with than your gods,\\nWhich hand so was\",\n",
            "        \"bleu_score\": 0.5436502143433363\n",
            "    },\n",
            "    {\n",
            "        \"prime\": \"?\\n\\nGREMIO:\\nGood morrow, neighbour Baptista.\\n\\nBAPTISTA:\\nGood morrow, neighbour Gremio.\\nGod save you, gentlemen!\\n\\nPETRUCHIO:\\nAnd you, good sir! Pray, have you not a daughter\\nCall'd Katharina, fair and virtuous?\\n\\nBAPTISTA:\\nI have a daughter, sir, called Katharina.\\n\\nGREMIO:\\nYou are too blunt: go to it orderly.\\n\\nPETRUCHIO:\\nYou wrong me, Signior Gremio: give me leave.\\nI am a gentleman of Verona, sir,\\nThat, hearing of her beauty and her wit,\\nHer affability and bashful modesty,\\nHer wondrous qualities and mild behavior,\\nAm bold to show myself a forward guest\\nWithin your house, to make mine eye the witness\\nOf that report which I so oft have heard.\\nAnd, for an entrance to my entertainment,\\nI do present you with a man of mine,\\nCunning in music and the mathematics,\\nTo instruct her fully in those sciences,\\nWhereof I know she is not ignorant:\\nAccept of him, or else you do me wrong:\\nHis name is Licio, born in Mantua.\\n\\nBAPTISTA:\\nYou're welcome, sir; and he, for your good sake.\\nBut for my daughter Katharina, this I know,\\nShe is not for your turn, the more my grief.\\n\\nPETRUCHIO:\\nI see you do not mean to part with her,\\nOr else you like not of my company.\\n\\nBAPTISTA:\\nMistake me not; I speak but as I find.\\nWhence are you, sir? what may I call your name?\\n\\nPETRUCHIO:\\nPetruchio is my name; Antonio's son,\\nA man well known throughout all Italy.\\n\\nBAPTISTA:\\nI know him well: you are welcome for his sake.\\n\\nGREMIO:\\nSaving your tale, Petruchio, I pray,\\nLet us, that are poor petitioners, speak too:\\nBaccare! you are marvellous forward.\\n\\nPETRUCHIO:\\nO, pardon me, Signior Gremio; I would fain be doing.\\n\\nGREMIO:\\nI doubt it not, sir; but you will curse your\\nwooing. Neighbour, this is a gift very grateful, I am\\nsure of it. To express the like kindness, myself,\\nthat have been more kindly beholding to you than\\nany, freely give unto you this young scholar,\\nthat hath been long studying at Rheims; as cunning\\nin Greek, Latin, and other languages, as the other\\nin music and mathematics: his name is Cambio; pray,\\naccept his service.\\n\\nBAPTISTA:\\nA thousand thanks, Signior Gremio.\\nWelcome, good Cambio.\\nBut, gentle sir, methinks you walk like a stranger:\\nmay I be so bold to know the cause of your coming?\\n\\nTRANIO:\\nPardon me, sir, the boldness is mine own,\\nThat, being a stranger in this city here,\\nDo make myself a suitor to your daughter,\\nUnto Bianca, fair and virtuous.\\nNor is your firm resolve unknown to me,\\nIn the preferment of the eldest sister.\\nThis liberty is all that I request,\\nThat, upon knowledge of my parentage,\\nI may have welcome 'mongst the rest that woo\\nAnd free access and favour as the rest:\\nAnd, toward the education of your daughters,\\nI here bestow a simple instrument,\\nAnd this small packet of Greek and Latin books:\\nIf you accept them, then their worth is great.\\n\\nBAPTISTA:\\nLucentio is your name; of whence, I pray?\\n\\nTRANIO:\\nOf Pisa, sir; son to Vincentio.\\n\\nBAPTISTA:\\nA mighty man of Pisa; by report\\nI know him well: you are very welcome, sir,\\nTake you the lute, and you the set of books;\\nYou shall go see your pupils presently.\\nHolla, within!\\nSirrah, lead these gentlemen\\nTo my daughters; and tell them both,\\nThese are their tutors: bid them use them well.\\nWe will go walk a little in the orchard,\\nAnd then to dinner. You are passing welcome,\\nAnd so I pray you all to think yourselves.\\n\\nPETRUCHIO:\\nSignior Baptista, my business asketh haste,\\nAnd every day I cannot come to woo.\\nYou knew my father well, and in him me,\\nLeft solely heir to all his lands and goods,\\nWhich I have better'd rather than decreased:\\nThen tell me, if I get your daughter's love,\\nWhat dowry shall I have with her to wife?\\n\\nBAPTISTA:\\nAfter my death the one half of my lands,\\nAnd in possession twenty thousand crowns.\\n\\nPET\",\n",
            "        \"target_continuation\": \"RUCHIO:\\nAnd, for that dowry, I'll assure her of\\nHer widowhood, be it that she survive me,\\nIn all my \",\n",
            "        \"predicted_continuation\": \"Y:\\nI am. Wanding be underved like tome alle.\\nNow you he such of the moother friend to and ever\\nAnd t\",\n",
            "        \"bleu_score\": 0.5291502622129182\n",
            "    },\n",
            "    {\n",
            "        \"prime\": \"?\\n\\nGREMIO:\\nGood morrow, neighbour Baptista.\\n\\nBAPTISTA:\\nGood morrow, neighbour Gremio.\\nGod save you, gentlemen!\\n\\nPETRUCHIO:\\nAnd you, good sir! Pray, have you not a daughter\\nCall'd Katharina, fair and virtuous?\\n\\nBAPTISTA:\\nI have a daughter, sir, called Katharina.\\n\\nGREMIO:\\nYou are too blunt: go to it orderly.\\n\\nPETRUCHIO:\\nYou wrong me, Signior Gremio: give me leave.\\nI am a gentleman of Verona, sir,\\nThat, hearing of her beauty and her wit,\\nHer affability and bashful modesty,\\nHer wondrous qualities and mild behavior,\\nAm bold to show myself a forward guest\\nWithin your house, to make mine eye the witness\\nOf that report which I so oft have heard.\\nAnd, for an entrance to my entertainment,\\nI do present you with a man of mine,\\nCunning in music and the mathematics,\\nTo instruct her fully in those sciences,\\nWhereof I know she is not ignorant:\\nAccept of him, or else you do me wrong:\\nHis name is Licio, born in Mantua.\\n\\nBAPTISTA:\\nYou're welcome, sir; and he, for your good sake.\\nBut for my daughter Katharina, this I know,\\nShe is not for your turn, the more my grief.\\n\\nPETRUCHIO:\\nI see you do not mean to part with her,\\nOr else you like not of my company.\\n\\nBAPTISTA:\\nMistake me not; I speak but as I find.\\nWhence are you, sir? what may I call your name?\\n\\nPETRUCHIO:\\nPetruchio is my name; Antonio's son,\\nA man well known throughout all Italy.\\n\\nBAPTISTA:\\nI know him well: you are welcome for his sake.\\n\\nGREMIO:\\nSaving your tale, Petruchio, I pray,\\nLet us, that are poor petitioners, speak too:\\nBaccare! you are marvellous forward.\\n\\nPETRUCHIO:\\nO, pardon me, Signior Gremio; I would fain be doing.\\n\\nGREMIO:\\nI doubt it not, sir; but you will curse your\\nwooing. Neighbour, this is a gift very grateful, I am\\nsure of it. To express the like kindness, myself,\\nthat have been more kindly beholding to you than\\nany, freely give unto you this young scholar,\\nthat hath been long studying at Rheims; as cunning\\nin Greek, Latin, and other languages, as the other\\nin music and mathematics: his name is Cambio; pray,\\naccept his service.\\n\\nBAPTISTA:\\nA thousand thanks, Signior Gremio.\\nWelcome, good Cambio.\\nBut, gentle sir, methinks you walk like a stranger:\\nmay I be so bold to know the cause of your coming?\\n\\nTRANIO:\\nPar\",\n",
            "        \"target_continuation\": \"don me, sir, the boldness is mine own,\\nThat, being a stranger in this city here,\\nDo make myself a su\",\n",
            "        \"predicted_continuation\": \"ight out distlatuse sto feess.\\n\\nClown:\\nThe womm, my dear the pate waind condamand\\nThe drayner to she\",\n",
            "        \"bleu_score\": 0.525126247446817\n",
            "    },\n",
            "    {\n",
            "        \"prime\": \"?\\n\\nGREMIO:\\nGood morrow, neighbour Baptista.\\n\\nBAPTISTA:\\nGood morrow, neighbour Gremio.\\nGod save you, gentlemen!\\n\\nPETRUCHIO:\\nAnd you, good sir! Pray, have you not a daughter\\nCall'd Katharina, fair and virtuous?\\n\\nBAPTISTA:\\nI have a daughter, sir, called Katharina.\\n\\nGREMIO:\\nYou are too blunt: go to it orderly.\\n\\nPETRUCHIO:\\nYou wrong me, Signior Gremio: give me leave.\\nI am a gentleman of Verona, sir,\\nThat, hearing of her beauty and her wit,\\nHer affability and bashful modesty,\\nHer wondrous qualities and mild behavior,\\nAm bold to show myself a forward guest\\nWithin your house, to make mine eye the witness\\nOf that report which I so oft have heard.\\nAnd, for an entrance to my entertainment,\\nI do present you with a man of mine,\\nCunning in music and the mathematics,\\nTo instruct her fully in those sciences,\\nWhereof I know she is not ignorant:\\nAccept of him, or else you do me wrong:\\nHis name is Licio, born in Mantua.\\n\\nBAPTISTA:\\nYou're welcome, sir; and he, for your good sake.\\nBut for my daughter Katharina, this I know,\\nShe is not for your turn, the more my grief.\\n\\nPETRUCHIO:\\nI see you do not mean to part with her,\\nOr else you like not of my company.\\n\\nBAPTISTA:\\nMistake me not; I speak but as I find.\\nWhence are you, sir? what may I call your name?\\n\\nPETRUCHIO:\\nPetruchio is my name; Antonio's son,\\nA man well known throughout all Italy.\\n\\nBAPTISTA:\\nI know him well: you are welcome for his sake.\\n\\nGREMIO:\\nSaving your tale, Petruchio, I pray,\\nLet us, that are poor petitioners, speak too:\\nBaccare! you are marvellous forward.\\n\\nPETRUCHIO:\\nO, pardon me, Signior Gremio; I would fain be doing.\\n\\nGREMIO:\\nI doubt it not, sir; but you will curse your\\nwooing. Neighbour, this is a gift very grateful, I am\\nsure of it. To express the like kindness, myself,\\nthat have been more kindly beholding to you than\\nany, freely give unto you this young scholar,\\nthat hath been long studying at Rheims; as cunning\\nin Greek, Latin, and other languages, as the other\\nin music and mathematics: his name is Cambio; pray,\\naccept his service.\\n\\nBAPTISTA:\\nA thousand thanks, Signior Gremio.\\nWelcome, good Cambio.\\nBut, gentle sir, methinks you walk like a stranger:\\nmay I be so bold to know the cause of your coming?\\n\\nTRANIO:\\nPardon me, sir, the boldness is mine own,\\nThat, being a stranger in this city here,\\nDo make myself a suitor to your daughter,\\nUnto Bianca, fair and virtuous.\\nNor is your firm resolve unknown to me,\\nIn the preferment of the eldest sister.\\nThis liberty is all that I request,\\nThat, upon knowledge of my parentage,\\nI may have welcome 'mongst the rest that woo\\nAnd free access and favour as the rest:\\nAnd, t\",\n",
            "        \"target_continuation\": \"oward the education of your daughters,\\nI here bestow a simple instrument,\\nAnd this small packet of G\",\n",
            "        \"predicted_continuation\": \"e rais youth frow hother to me that but\\n\\nKING RICHARD II:\\nMy lord; look surm, and deadous him slever\",\n",
            "        \"bleu_score\": 0.5175700801618925\n",
            "    }\n",
            "]\n",
            "\n",
            "Bad results:\n",
            "[\n",
            "    {\n",
            "        \"prime\": \"?\\n\\nGREMIO:\\nGood morrow, neighbour Baptista.\\n\\nBAPTISTA:\\nGood morrow, neighbour Gremio.\\nGod save you, gentlemen!\\n\\nPETRUCHIO:\\nAnd you, good sir! Pray, have you not a daughter\\nCall'd Katharina, fair and virtuous?\\n\\nBAPTISTA:\\nI have a daughter, sir, called Katharina.\\n\\nGREMIO:\\nYou are too blunt: go to it orderly.\\n\\nPETRUCHIO:\\nYou wrong me, Signior Gremio: give me leave.\\nI am a gentleman of Verona, sir,\\nThat, hearing of her beauty and her wit,\\nHer affability and bashful modesty,\\nHer wondrous qualities and mild behavior,\\nAm bold to show myself a forward guest\\nWithin your house, to make mine eye the witness\\nOf that report which I so oft have heard.\\nAnd, for an entrance to my entertainment,\\nI do present you with a man of mine,\\nCunning in music and the mathematics,\\nTo instruct her fully in those sciences,\\nWhereof I know she is not ignorant:\\nAccept of him, or else you do me wrong:\\nHis name is Licio, born in Mantua.\\n\\nBAPTISTA:\\nYou're welcome, sir; and he, for your good sake.\\nBut for my daughter Katharina, this I know,\\nShe is not for your turn, the more my grief.\\n\\nPETRUCHIO:\\nI see you do not mean to part with her,\\nOr else you like not of my company.\\n\\nBAPTISTA:\\nMistake me not; I speak but as I find.\\nWhence are you, sir? what may I call your name?\\n\\nPETRUCHIO:\\nPetruchio is my name; Antonio's son,\\nA man well known throughout all Italy.\\n\\nBAPTISTA:\\nI know him well: you are welcome for his sake.\\n\\nGREMIO:\\nSaving your tale, Petruchio, I pray,\\nLet us, that are poor petitioners, speak too:\\nBaccare! you are marvellous forward.\\n\\nPETRUCHIO:\\nO, pardon me, Signior Gremio; I would fain be doing.\\n\\nGREMIO:\\nI doubt it not, sir; but you will curse your\\nwooing. Neighbour, this is a gift very grateful, I am\\nsure of it. To express the like kindness, myself,\\nthat have been more kindly beholding to you than\\nany, freely give unto you this young scholar,\\nthat hath been long studying at Rheims; as cunning\\nin Greek, Latin, and other languages, as the other\\nin music and mathematics: his name is Cambio; pray,\\naccept his service.\\n\\nBAPTISTA:\\nA thousand thanks, Signior Gremio.\\nWelcome, good Cambio.\\nBut, gentle sir, methinks you walk like a stranger:\\nmay I be so bold to know the cause of your coming?\\n\\nTRANIO:\\nPardon me, sir, the boldness is mine own,\\nThat, being a stranger in this city here,\\nDo make myself a suitor to your daughter,\\nUnto Bianca, fair and virtuous.\\nNor is your firm resolve unknown to me,\\nIn the preferment of the eldest sister.\\nThis liberty is all that I request,\\nThat, upon knowledge of my parentage,\\nI may have welcome 'mongst the rest that woo\\nAnd free access and favour as the rest:\\nAnd, toward the education of your daughters,\\nI here bestow a simple instrument,\\nAnd this small packet of Greek and Latin books:\\nIf you accept them, then their worth is great.\\n\\nBAPTISTA:\\nLucentio is your nam\",\n",
            "        \"target_continuation\": \"e; of whence, I pray?\\n\\nTRANIO:\\nOf Pisa, sir; son to Vincentio.\\n\\nBAPTISTA:\\nA mighty man of Pisa; by r\",\n",
            "        \"predicted_continuation\": \"s swant tongumber'd:\\nO love a hid branter for the dight to now.\\nConserter to mur need, to nor the te\",\n",
            "        \"bleu_score\": 0.3219260219931958\n",
            "    },\n",
            "    {\n",
            "        \"prime\": \"?\\n\\nGREMIO:\\nGood morrow, neighbour Baptista.\\n\\nBAPTISTA:\\nGood morrow, neighbour Gremio.\\nGod save you, gentlemen!\\n\\nPETRUCHIO:\\nAnd you, good sir! Pray, have you not a daughter\\nCall'd Katharina, fair and virtuous?\\n\\nBAPTISTA:\\nI have a daughter, sir, called Katharina.\\n\\nGREMIO:\\nYou are too blunt: go to it orderly.\\n\\nPETRUCHIO:\\nYou wrong me, Signior Gremio: give me leave.\\nI am a gentleman of Verona, sir,\\nThat, hearing of her beauty and her wit,\\nHer affability and bashful modesty,\\nHer wondrous qualities and mild behavior,\\nAm bold to show myself a forward guest\\nWithin your house, to make mine eye the witness\\nOf that report which I so oft have heard.\\nAnd, for an entrance to my entertainment,\\nI do present you with a man of mine,\\nCunning in music and the mathematics,\\nTo instruct her fully in those sciences,\\nWhereof I know she is not ignorant:\\nAccept of him, or else you do me wrong:\\nHis name is Licio, born in Mantua.\\n\\nBAPTISTA:\\nYou're welcome, sir; and he, for your good sake.\\nBut for my daughter Katharina, this I know,\\nShe is not for your turn, the more my grief.\\n\\nPETRUCHIO:\\nI see you do not mean to part with her,\\nOr else you like not of my company.\\n\\nBAPTISTA:\\nMistake me not; I speak but as I find.\\nWhence are you, sir? what may I call your name?\\n\\nPETRUCHIO:\\nPetruchio is my name; Antonio's son,\\nA\",\n",
            "        \"target_continuation\": \" man well known throughout all Italy.\\n\\nBAPTISTA:\\nI know him well: you are welcome for his sake.\\n\\nGRE\",\n",
            "        \"predicted_continuation\": \", you it bating it dopet hen more not\\nVorce mother with your confulticn the love,\\nAnd tose coreing m\",\n",
            "        \"bleu_score\": 0.35675303400633784\n",
            "    },\n",
            "    {\n",
            "        \"prime\": \"?\\n\\nGREMIO:\\nGood morrow, neighbour Baptista.\\n\\nBAPTISTA:\\nGood morrow, neighbour Gremio.\\nGod save you, gentlemen!\\n\\nPETRUCHIO:\\nAnd you, good sir! Pray, have you not a daughter\\nCall'd Katharina, fair and virtuous?\\n\\nBAPTISTA:\\nI have a daughter, sir, called Katharina.\\n\\nGREMIO:\\nYou are too blunt: go to it orderly.\\n\\nPETRUCHIO:\\nYou wrong me, Signior Gremio: give me leave.\\nI am a gentleman of Verona, sir,\\nThat, hearing of her beauty and her wit,\\nHer affability and bashful modesty,\\nHer wondrous qualities and mild behavior,\\nAm bold to show myself a forward guest\\nWithin your house, to make mine eye the witness\\nOf that report which I so oft have heard.\\nAnd, for an entrance to my entertainment,\\nI do present you with a man of mine,\\nCunning in music and the mathematics,\\nTo instruct her fully in those sciences,\\nWhereof I know she is not ignorant:\\nAccept of him, or else you do me wrong:\\nHis name is Licio, born in Mantua.\\n\\nBAPTISTA:\\nYou're welcome, sir; and he, for your good sake.\\nBut for my daughter Katharina, this I know,\\nShe is not for your turn, the more my grief.\\n\\nPETRUCHIO:\\nI see you do not mean to part with her,\\nOr else you like not of my company.\\n\\nBAPTISTA:\\nMistake me not; I speak but as I find.\\nWhence are you, sir? what may I call your name?\\n\\nPETRUCHIO:\\nPetruchio is my name; Antonio's son,\\nA man well known throughout all Italy.\\n\\nBAPTISTA:\\nI know him well: you are welcome for his sake.\\n\\nGREMIO:\\nSaving your tale, Petruchio, I pray,\\nLet us, that are poor petitioners, speak too:\\nBaccare! you\",\n",
            "        \"target_continuation\": \" are marvellous forward.\\n\\nPETRUCHIO:\\nO, pardon me, Signior Gremio; I would fain be doing.\\n\\nGREMIO:\\nI\",\n",
            "        \"predicted_continuation\": \"to me be at where of this feod\\nWhat keep and over her Ufforing unchy sir,\\nThe flies of chorwice frou\",\n",
            "        \"bleu_score\": 0.3711842908553348\n",
            "    },\n",
            "    {\n",
            "        \"prime\": \"?\\n\\nGREMIO:\\nGood morrow, neighbour Baptista.\\n\\nBAPTISTA:\\nGood morrow, neighbour Gremio.\\nGod save you, gentlemen!\\n\\nPETRUCHIO:\\nAnd you, good sir! Pray, have you not a daughter\\nCall'd Katharina, fair and virtuous?\\n\\nBAPTISTA:\\nI have a daughter, sir, called Katharina.\\n\\nGREMIO:\\nYou are too blunt: go to it o\",\n",
            "        \"target_continuation\": \"rderly.\\n\\nPETRUCHIO:\\nYou wrong me, Signior Gremio: give me leave.\\nI am a gentleman of Verona, sir,\\nTh\",\n",
            "        \"predicted_continuation\": \"felT:\\nAftel, in ay than, who not some of greats\\nThe wasping unst that iud and each?\\n\\nEDWARD:\\nAnd sta\",\n",
            "        \"bleu_score\": 0.3825750075000148\n",
            "    },\n",
            "    {\n",
            "        \"prime\": \"?\\n\\nGREMIO:\\nGood morrow, neighbour Baptista.\\n\\nBAPTISTA:\\nGood morrow, neighbour Gremio.\\nGod save you, gentlemen!\\n\\nPETRUCHIO:\\nAnd you, good sir! Pray, have you not a daughter\\nCall'd Katharina, fair and virtuous?\\n\\nBAPTISTA:\\nI have a daughter, sir, called Katharina.\\n\\nGREMIO:\\nYou are too blunt: go to it orderly.\\n\\nPETRUCHIO:\\nYou wrong me, Signior Gremio: give me leave.\\nI am a gentleman of Verona, sir,\\nThat, hearing of her beauty and her wit,\\nHer affability and bashful modesty,\\nHer wondrous qualities and mild behavior,\\nAm bold to show myself a forward guest\\nWithin your house, to make mine eye the witness\\nOf that report which I so oft have heard.\\nAnd, for an entrance to my entertainment,\\nI do present you with a man of mine,\\nCunning in music and the mathematics,\\nTo instruct her fully in those sciences,\\nWhereof I know she is not ignorant:\\nAccept of him, or else you do me wrong:\\nHis name is Licio, born in Mantua.\\n\\nBAPTISTA:\\nYou're welcome, sir; and he, for your good sake.\\nBut for my daughter Katharina, this I know,\\nShe is not for your turn, the more my grief.\\n\\nPETRUCHIO:\\nI see you do not mean to part with her,\\nOr else you like not of my company.\\n\\nBAPTISTA:\\nMistake me not; I speak but as I find.\\nWhence are you, sir? what may I call your name?\\n\\nPETRUCHIO:\\nPetruchio is my name; Antonio's son,\\nA man well known throughout all Italy.\\n\\nBAPTISTA:\\nI know him well: you are welcome for his sake.\\n\\nGREMIO:\\nSaving your tale, Petruchio, I pray,\\nLet us, that are poor petitioners, speak too:\\nBaccare! you are marvellous forward.\\n\\nPETRUCHIO:\\nO, pardon me, Signior Gremio; I would fain be doing.\\n\\nGREMIO:\\nI\",\n",
            "        \"target_continuation\": \" doubt it not, sir; but you will curse your\\nwooing. Neighbour, this is a gift very grateful, I am\\nsu\",\n",
            "        \"predicted_continuation\": \"ZRETEm:\\n,'St you, these I rave deeth my lame for xeget.\\n\\nLADY GREY:\\nAs whan was and in must hone or \",\n",
            "        \"bleu_score\": 0.385599362923318\n",
            "    }\n",
            "]\n"
          ]
        }
      ],
      "source": [
        "torch.manual_seed(512)\n",
        "net = create_and_train_model()\n",
        "print('\\n====\\n')\n",
        "eval_trained_model(net)"
      ]
    },
    {
      "cell_type": "code",
      "execution_count": 27,
      "metadata": {
        "id": "U7sL3pHUycGC",
        "colab": {
          "base_uri": "https://localhost:8080/"
        },
        "outputId": "f4bf95cb-085e-4d75-e176-efb5c43bcaa4"
      },
      "outputs": [
        {
          "output_type": "stream",
          "name": "stdout",
          "text": [
            "The were him,\n",
            "And sare it bear me and too take honour\n",
            "To ment atary was as the confent\n",
            "To thoush the prose of me, it im as a mast.\n",
            "\n",
            "LORD MENELLEO:\n",
            "Servormen, my fight take the hasse,\n",
            "When the wellows and mone till than he dead?\n",
            "\n",
            "LEONTES:\n",
            "I howe may think at wasting of your holder,\n",
            "And said of the the posensed tranion\n",
            "Wherefore is not to to both the butter hones\n",
            "The wonder serve that hear his fram my breath\n",
            "As and the sid, in made he send the said.\n",
            "\n",
            "KING RICHARD III:\n",
            "And selford thou as to have, that I sup thee soul\n",
            "Thou that wo live to him, a didstal'd and mo\n",
            "that the south it his to see that hath hath heart\n",
            "I heard to seed, and take the follow honour\n",
            "It selves mess bothine of the prose,\n",
            "And taly the beed, she would be they thyself\n",
            "That have more aster is more the comes,\n",
            "And strow'd, the godd to to he prine, wher will\n",
            "The sold allingst wenton to might me,\n",
            "By at may better, all that all thee as the sollon,\n",
            "And the mading the my hasting to he day,\n",
            "The wondering whome to be servitine.\n",
            "This, with the sand have hend milere it thee\n",
            "Hath house the cause on a menters of thous heart.\n",
            "\n",
            "CLARENCE:\n",
            "Thou art, as me honour batting that the poris\n",
            "And sheperer it stiel of him take this sarmstick,\n",
            "A sigh a death a shisentings, to the seed that he hit\n",
            "And serve him to have son to the was wooth are,\n",
            "What that he dame, what in his crown and wher\n",
            "This hands and house to surd a said the sout\n",
            "As mank thou sont to than him love to thou.\n",
            "\n",
            "CORIOLANUS:\n",
            "Where is he say and him to such a seath.\n",
            "\n",
            "LEONTES:\n",
            "I shalk be senten, womented to mere, and since.\n",
            "\n",
            "KING RICHARD II:\n",
            "Why shall not take the word his canter's forth\n",
            "And the teart this asting to her the tante,\n",
            "And with him to the ploch to the tooker as\n",
            "I have seed is this shall bose the hand they.\n",
            "\n",
            "CLARENCE:\n",
            "What have thought at than somesing and hither ale\n",
            "To trought a shople of all man on\n",
            "Your like this took a plose all too asting.\n",
            "\n",
            "GLOUCESTER:\n",
            "As hath the seade and to the subser with as and,\n",
            "To sarve her be heresion he see the cread\n",
            "With themerign b\n"
          ]
        }
      ],
      "source": [
        "sample = generate_sample(net, 2000, top_k=5)\n",
        "\n",
        "print(sample)"
      ]
    },
    {
      "cell_type": "code",
      "execution_count": 28,
      "metadata": {
        "id": "M55FRoL7kV5e",
        "colab": {
          "base_uri": "https://localhost:8080/"
        },
        "outputId": "45b11361-9918-442b-ebd2-311442386384"
      },
      "outputs": [
        {
          "output_type": "execute_result",
          "data": {
            "text/plain": [
              "{'Flesch reading ease': 76.22,\n",
              " 'Linsear-Write Formula': 12.75,\n",
              " 'Dale-Chall readability score': 9.16}"
            ]
          },
          "metadata": {},
          "execution_count": 28
        }
      ],
      "source": [
        "calc_text_statistics(sample)"
      ]
    },
    {
      "cell_type": "markdown",
      "metadata": {
        "id": "w3JGk4u5oMPb"
      },
      "source": [
        "## Save the model"
      ]
    },
    {
      "cell_type": "code",
      "execution_count": 29,
      "metadata": {
        "id": "ZNpg30ZJlrSc",
        "colab": {
          "base_uri": "https://localhost:8080/",
          "height": 17
        },
        "outputId": "c1ffb521-981b-44dc-8922-1b60796d2891"
      },
      "outputs": [
        {
          "output_type": "display_data",
          "data": {
            "text/plain": [
              "<IPython.core.display.Javascript object>"
            ],
            "application/javascript": [
              "\n",
              "    async function download(id, filename, size) {\n",
              "      if (!google.colab.kernel.accessAllowed) {\n",
              "        return;\n",
              "      }\n",
              "      const div = document.createElement('div');\n",
              "      const label = document.createElement('label');\n",
              "      label.textContent = `Downloading \"${filename}\": `;\n",
              "      div.appendChild(label);\n",
              "      const progress = document.createElement('progress');\n",
              "      progress.max = size;\n",
              "      div.appendChild(progress);\n",
              "      document.body.appendChild(div);\n",
              "\n",
              "      const buffers = [];\n",
              "      let downloaded = 0;\n",
              "\n",
              "      const channel = await google.colab.kernel.comms.open(id);\n",
              "      // Send a message to notify the kernel that we're ready.\n",
              "      channel.send({})\n",
              "\n",
              "      for await (const message of channel.messages) {\n",
              "        // Send a message to notify the kernel that we're ready.\n",
              "        channel.send({})\n",
              "        if (message.buffers) {\n",
              "          for (const buffer of message.buffers) {\n",
              "            buffers.push(buffer);\n",
              "            downloaded += buffer.byteLength;\n",
              "            progress.value = downloaded;\n",
              "          }\n",
              "        }\n",
              "      }\n",
              "      const blob = new Blob(buffers, {type: 'application/binary'});\n",
              "      const a = document.createElement('a');\n",
              "      a.href = window.URL.createObjectURL(blob);\n",
              "      a.download = filename;\n",
              "      div.appendChild(a);\n",
              "      a.click();\n",
              "      div.remove();\n",
              "    }\n",
              "  "
            ]
          },
          "metadata": {}
        },
        {
          "output_type": "display_data",
          "data": {
            "text/plain": [
              "<IPython.core.display.Javascript object>"
            ],
            "application/javascript": [
              "download(\"download_5420ed18-9967-46d1-b1a0-a336e76ea265\", \"trained_model.pth\", 13283585)"
            ]
          },
          "metadata": {}
        }
      ],
      "source": [
        "torch.save(net.state_dict(), 'trained_model.pth')\n",
        "from google.colab import files\n",
        "files.download('trained_model.pth')"
      ]
    }
  ],
  "metadata": {
    "accelerator": "GPU",
    "colab": {
      "provenance": [],
      "machine_shape": "hm"
    },
    "gpuClass": "standard",
    "kernelspec": {
      "display_name": "Python 3",
      "language": "python",
      "name": "python3"
    },
    "language_info": {
      "codemirror_mode": {
        "name": "ipython",
        "version": 3
      },
      "file_extension": ".py",
      "mimetype": "text/x-python",
      "name": "python",
      "nbconvert_exporter": "python",
      "pygments_lexer": "ipython3",
      "version": "3.6.8"
    },
    "widgets": {
      "application/vnd.jupyter.widget-state+json": {
        "e9c86042aa464587a7c6b10702ace270": {
          "model_module": "@jupyter-widgets/controls",
          "model_name": "HBoxModel",
          "model_module_version": "1.5.0",
          "state": {
            "_dom_classes": [],
            "_model_module": "@jupyter-widgets/controls",
            "_model_module_version": "1.5.0",
            "_model_name": "HBoxModel",
            "_view_count": null,
            "_view_module": "@jupyter-widgets/controls",
            "_view_module_version": "1.5.0",
            "_view_name": "HBoxView",
            "box_style": "",
            "children": [
              "IPY_MODEL_a289c7c251a449319c9dca9b08a3aaad",
              "IPY_MODEL_30994b14eece442a904aff26d89e2dc5",
              "IPY_MODEL_a19e89a341394dec8b7e609d2714635d"
            ],
            "layout": "IPY_MODEL_2813dc5299574f53a798269db66cc787"
          }
        },
        "a289c7c251a449319c9dca9b08a3aaad": {
          "model_module": "@jupyter-widgets/controls",
          "model_name": "HTMLModel",
          "model_module_version": "1.5.0",
          "state": {
            "_dom_classes": [],
            "_model_module": "@jupyter-widgets/controls",
            "_model_module_version": "1.5.0",
            "_model_name": "HTMLModel",
            "_view_count": null,
            "_view_module": "@jupyter-widgets/controls",
            "_view_module_version": "1.5.0",
            "_view_name": "HTMLView",
            "description": "",
            "description_tooltip": null,
            "layout": "IPY_MODEL_2c6b26f4f2334dc485bac2db5600e51d",
            "placeholder": "​",
            "style": "IPY_MODEL_266ed5852cfb49c5b963b42f656e9646",
            "value": "Downloading (…)lve/main/config.json: 100%"
          }
        },
        "30994b14eece442a904aff26d89e2dc5": {
          "model_module": "@jupyter-widgets/controls",
          "model_name": "FloatProgressModel",
          "model_module_version": "1.5.0",
          "state": {
            "_dom_classes": [],
            "_model_module": "@jupyter-widgets/controls",
            "_model_module_version": "1.5.0",
            "_model_name": "FloatProgressModel",
            "_view_count": null,
            "_view_module": "@jupyter-widgets/controls",
            "_view_module_version": "1.5.0",
            "_view_name": "ProgressView",
            "bar_style": "success",
            "description": "",
            "description_tooltip": null,
            "layout": "IPY_MODEL_b571a27ae7404aa0b483cce0500d497b",
            "max": 482,
            "min": 0,
            "orientation": "horizontal",
            "style": "IPY_MODEL_1cd4e8adcb694659b97eee26e24ac1a0",
            "value": 482
          }
        },
        "a19e89a341394dec8b7e609d2714635d": {
          "model_module": "@jupyter-widgets/controls",
          "model_name": "HTMLModel",
          "model_module_version": "1.5.0",
          "state": {
            "_dom_classes": [],
            "_model_module": "@jupyter-widgets/controls",
            "_model_module_version": "1.5.0",
            "_model_name": "HTMLModel",
            "_view_count": null,
            "_view_module": "@jupyter-widgets/controls",
            "_view_module_version": "1.5.0",
            "_view_name": "HTMLView",
            "description": "",
            "description_tooltip": null,
            "layout": "IPY_MODEL_cfda82179619479fa256bbad9b18aefe",
            "placeholder": "​",
            "style": "IPY_MODEL_82ac79d0ea4645de9998c5a424c5f68b",
            "value": " 482/482 [00:00&lt;00:00, 16.4kB/s]"
          }
        },
        "2813dc5299574f53a798269db66cc787": {
          "model_module": "@jupyter-widgets/base",
          "model_name": "LayoutModel",
          "model_module_version": "1.2.0",
          "state": {
            "_model_module": "@jupyter-widgets/base",
            "_model_module_version": "1.2.0",
            "_model_name": "LayoutModel",
            "_view_count": null,
            "_view_module": "@jupyter-widgets/base",
            "_view_module_version": "1.2.0",
            "_view_name": "LayoutView",
            "align_content": null,
            "align_items": null,
            "align_self": null,
            "border": null,
            "bottom": null,
            "display": null,
            "flex": null,
            "flex_flow": null,
            "grid_area": null,
            "grid_auto_columns": null,
            "grid_auto_flow": null,
            "grid_auto_rows": null,
            "grid_column": null,
            "grid_gap": null,
            "grid_row": null,
            "grid_template_areas": null,
            "grid_template_columns": null,
            "grid_template_rows": null,
            "height": null,
            "justify_content": null,
            "justify_items": null,
            "left": null,
            "margin": null,
            "max_height": null,
            "max_width": null,
            "min_height": null,
            "min_width": null,
            "object_fit": null,
            "object_position": null,
            "order": null,
            "overflow": null,
            "overflow_x": null,
            "overflow_y": null,
            "padding": null,
            "right": null,
            "top": null,
            "visibility": null,
            "width": null
          }
        },
        "2c6b26f4f2334dc485bac2db5600e51d": {
          "model_module": "@jupyter-widgets/base",
          "model_name": "LayoutModel",
          "model_module_version": "1.2.0",
          "state": {
            "_model_module": "@jupyter-widgets/base",
            "_model_module_version": "1.2.0",
            "_model_name": "LayoutModel",
            "_view_count": null,
            "_view_module": "@jupyter-widgets/base",
            "_view_module_version": "1.2.0",
            "_view_name": "LayoutView",
            "align_content": null,
            "align_items": null,
            "align_self": null,
            "border": null,
            "bottom": null,
            "display": null,
            "flex": null,
            "flex_flow": null,
            "grid_area": null,
            "grid_auto_columns": null,
            "grid_auto_flow": null,
            "grid_auto_rows": null,
            "grid_column": null,
            "grid_gap": null,
            "grid_row": null,
            "grid_template_areas": null,
            "grid_template_columns": null,
            "grid_template_rows": null,
            "height": null,
            "justify_content": null,
            "justify_items": null,
            "left": null,
            "margin": null,
            "max_height": null,
            "max_width": null,
            "min_height": null,
            "min_width": null,
            "object_fit": null,
            "object_position": null,
            "order": null,
            "overflow": null,
            "overflow_x": null,
            "overflow_y": null,
            "padding": null,
            "right": null,
            "top": null,
            "visibility": null,
            "width": null
          }
        },
        "266ed5852cfb49c5b963b42f656e9646": {
          "model_module": "@jupyter-widgets/controls",
          "model_name": "DescriptionStyleModel",
          "model_module_version": "1.5.0",
          "state": {
            "_model_module": "@jupyter-widgets/controls",
            "_model_module_version": "1.5.0",
            "_model_name": "DescriptionStyleModel",
            "_view_count": null,
            "_view_module": "@jupyter-widgets/base",
            "_view_module_version": "1.2.0",
            "_view_name": "StyleView",
            "description_width": ""
          }
        },
        "b571a27ae7404aa0b483cce0500d497b": {
          "model_module": "@jupyter-widgets/base",
          "model_name": "LayoutModel",
          "model_module_version": "1.2.0",
          "state": {
            "_model_module": "@jupyter-widgets/base",
            "_model_module_version": "1.2.0",
            "_model_name": "LayoutModel",
            "_view_count": null,
            "_view_module": "@jupyter-widgets/base",
            "_view_module_version": "1.2.0",
            "_view_name": "LayoutView",
            "align_content": null,
            "align_items": null,
            "align_self": null,
            "border": null,
            "bottom": null,
            "display": null,
            "flex": null,
            "flex_flow": null,
            "grid_area": null,
            "grid_auto_columns": null,
            "grid_auto_flow": null,
            "grid_auto_rows": null,
            "grid_column": null,
            "grid_gap": null,
            "grid_row": null,
            "grid_template_areas": null,
            "grid_template_columns": null,
            "grid_template_rows": null,
            "height": null,
            "justify_content": null,
            "justify_items": null,
            "left": null,
            "margin": null,
            "max_height": null,
            "max_width": null,
            "min_height": null,
            "min_width": null,
            "object_fit": null,
            "object_position": null,
            "order": null,
            "overflow": null,
            "overflow_x": null,
            "overflow_y": null,
            "padding": null,
            "right": null,
            "top": null,
            "visibility": null,
            "width": null
          }
        },
        "1cd4e8adcb694659b97eee26e24ac1a0": {
          "model_module": "@jupyter-widgets/controls",
          "model_name": "ProgressStyleModel",
          "model_module_version": "1.5.0",
          "state": {
            "_model_module": "@jupyter-widgets/controls",
            "_model_module_version": "1.5.0",
            "_model_name": "ProgressStyleModel",
            "_view_count": null,
            "_view_module": "@jupyter-widgets/base",
            "_view_module_version": "1.2.0",
            "_view_name": "StyleView",
            "bar_color": null,
            "description_width": ""
          }
        },
        "cfda82179619479fa256bbad9b18aefe": {
          "model_module": "@jupyter-widgets/base",
          "model_name": "LayoutModel",
          "model_module_version": "1.2.0",
          "state": {
            "_model_module": "@jupyter-widgets/base",
            "_model_module_version": "1.2.0",
            "_model_name": "LayoutModel",
            "_view_count": null,
            "_view_module": "@jupyter-widgets/base",
            "_view_module_version": "1.2.0",
            "_view_name": "LayoutView",
            "align_content": null,
            "align_items": null,
            "align_self": null,
            "border": null,
            "bottom": null,
            "display": null,
            "flex": null,
            "flex_flow": null,
            "grid_area": null,
            "grid_auto_columns": null,
            "grid_auto_flow": null,
            "grid_auto_rows": null,
            "grid_column": null,
            "grid_gap": null,
            "grid_row": null,
            "grid_template_areas": null,
            "grid_template_columns": null,
            "grid_template_rows": null,
            "height": null,
            "justify_content": null,
            "justify_items": null,
            "left": null,
            "margin": null,
            "max_height": null,
            "max_width": null,
            "min_height": null,
            "min_width": null,
            "object_fit": null,
            "object_position": null,
            "order": null,
            "overflow": null,
            "overflow_x": null,
            "overflow_y": null,
            "padding": null,
            "right": null,
            "top": null,
            "visibility": null,
            "width": null
          }
        },
        "82ac79d0ea4645de9998c5a424c5f68b": {
          "model_module": "@jupyter-widgets/controls",
          "model_name": "DescriptionStyleModel",
          "model_module_version": "1.5.0",
          "state": {
            "_model_module": "@jupyter-widgets/controls",
            "_model_module_version": "1.5.0",
            "_model_name": "DescriptionStyleModel",
            "_view_count": null,
            "_view_module": "@jupyter-widgets/base",
            "_view_module_version": "1.2.0",
            "_view_name": "StyleView",
            "description_width": ""
          }
        },
        "8fc364659df443d4989e188861d4b085": {
          "model_module": "@jupyter-widgets/controls",
          "model_name": "HBoxModel",
          "model_module_version": "1.5.0",
          "state": {
            "_dom_classes": [],
            "_model_module": "@jupyter-widgets/controls",
            "_model_module_version": "1.5.0",
            "_model_name": "HBoxModel",
            "_view_count": null,
            "_view_module": "@jupyter-widgets/controls",
            "_view_module_version": "1.5.0",
            "_view_name": "HBoxView",
            "box_style": "",
            "children": [
              "IPY_MODEL_001370ccb7aa43e19f9a445592e95a34",
              "IPY_MODEL_53ed17aaef4b45fea52ff6ff4f372fd6",
              "IPY_MODEL_3a6cd678762a4abe869ebe473a10d88f"
            ],
            "layout": "IPY_MODEL_08a9cd4dad7a449aaa71196a3ba6e474"
          }
        },
        "001370ccb7aa43e19f9a445592e95a34": {
          "model_module": "@jupyter-widgets/controls",
          "model_name": "HTMLModel",
          "model_module_version": "1.5.0",
          "state": {
            "_dom_classes": [],
            "_model_module": "@jupyter-widgets/controls",
            "_model_module_version": "1.5.0",
            "_model_name": "HTMLModel",
            "_view_count": null,
            "_view_module": "@jupyter-widgets/controls",
            "_view_module_version": "1.5.0",
            "_view_name": "HTMLView",
            "description": "",
            "description_tooltip": null,
            "layout": "IPY_MODEL_3a478d6d7f24428cbf5996c060b76e97",
            "placeholder": "​",
            "style": "IPY_MODEL_84ea367fcefa4fb2a2ee46fb6318578a",
            "value": "Downloading (…)olve/main/vocab.json: 100%"
          }
        },
        "53ed17aaef4b45fea52ff6ff4f372fd6": {
          "model_module": "@jupyter-widgets/controls",
          "model_name": "FloatProgressModel",
          "model_module_version": "1.5.0",
          "state": {
            "_dom_classes": [],
            "_model_module": "@jupyter-widgets/controls",
            "_model_module_version": "1.5.0",
            "_model_name": "FloatProgressModel",
            "_view_count": null,
            "_view_module": "@jupyter-widgets/controls",
            "_view_module_version": "1.5.0",
            "_view_name": "ProgressView",
            "bar_style": "success",
            "description": "",
            "description_tooltip": null,
            "layout": "IPY_MODEL_a9d1d8568cd04180b46f04d892cd4be0",
            "max": 898823,
            "min": 0,
            "orientation": "horizontal",
            "style": "IPY_MODEL_43595054c031412087080315d07898d5",
            "value": 898823
          }
        },
        "3a6cd678762a4abe869ebe473a10d88f": {
          "model_module": "@jupyter-widgets/controls",
          "model_name": "HTMLModel",
          "model_module_version": "1.5.0",
          "state": {
            "_dom_classes": [],
            "_model_module": "@jupyter-widgets/controls",
            "_model_module_version": "1.5.0",
            "_model_name": "HTMLModel",
            "_view_count": null,
            "_view_module": "@jupyter-widgets/controls",
            "_view_module_version": "1.5.0",
            "_view_name": "HTMLView",
            "description": "",
            "description_tooltip": null,
            "layout": "IPY_MODEL_2591294329ae44a6a6dc965e68456d9c",
            "placeholder": "​",
            "style": "IPY_MODEL_0aae8525976949efbdaa20ff96c4dc0a",
            "value": " 899k/899k [00:00&lt;00:00, 8.11MB/s]"
          }
        },
        "08a9cd4dad7a449aaa71196a3ba6e474": {
          "model_module": "@jupyter-widgets/base",
          "model_name": "LayoutModel",
          "model_module_version": "1.2.0",
          "state": {
            "_model_module": "@jupyter-widgets/base",
            "_model_module_version": "1.2.0",
            "_model_name": "LayoutModel",
            "_view_count": null,
            "_view_module": "@jupyter-widgets/base",
            "_view_module_version": "1.2.0",
            "_view_name": "LayoutView",
            "align_content": null,
            "align_items": null,
            "align_self": null,
            "border": null,
            "bottom": null,
            "display": null,
            "flex": null,
            "flex_flow": null,
            "grid_area": null,
            "grid_auto_columns": null,
            "grid_auto_flow": null,
            "grid_auto_rows": null,
            "grid_column": null,
            "grid_gap": null,
            "grid_row": null,
            "grid_template_areas": null,
            "grid_template_columns": null,
            "grid_template_rows": null,
            "height": null,
            "justify_content": null,
            "justify_items": null,
            "left": null,
            "margin": null,
            "max_height": null,
            "max_width": null,
            "min_height": null,
            "min_width": null,
            "object_fit": null,
            "object_position": null,
            "order": null,
            "overflow": null,
            "overflow_x": null,
            "overflow_y": null,
            "padding": null,
            "right": null,
            "top": null,
            "visibility": null,
            "width": null
          }
        },
        "3a478d6d7f24428cbf5996c060b76e97": {
          "model_module": "@jupyter-widgets/base",
          "model_name": "LayoutModel",
          "model_module_version": "1.2.0",
          "state": {
            "_model_module": "@jupyter-widgets/base",
            "_model_module_version": "1.2.0",
            "_model_name": "LayoutModel",
            "_view_count": null,
            "_view_module": "@jupyter-widgets/base",
            "_view_module_version": "1.2.0",
            "_view_name": "LayoutView",
            "align_content": null,
            "align_items": null,
            "align_self": null,
            "border": null,
            "bottom": null,
            "display": null,
            "flex": null,
            "flex_flow": null,
            "grid_area": null,
            "grid_auto_columns": null,
            "grid_auto_flow": null,
            "grid_auto_rows": null,
            "grid_column": null,
            "grid_gap": null,
            "grid_row": null,
            "grid_template_areas": null,
            "grid_template_columns": null,
            "grid_template_rows": null,
            "height": null,
            "justify_content": null,
            "justify_items": null,
            "left": null,
            "margin": null,
            "max_height": null,
            "max_width": null,
            "min_height": null,
            "min_width": null,
            "object_fit": null,
            "object_position": null,
            "order": null,
            "overflow": null,
            "overflow_x": null,
            "overflow_y": null,
            "padding": null,
            "right": null,
            "top": null,
            "visibility": null,
            "width": null
          }
        },
        "84ea367fcefa4fb2a2ee46fb6318578a": {
          "model_module": "@jupyter-widgets/controls",
          "model_name": "DescriptionStyleModel",
          "model_module_version": "1.5.0",
          "state": {
            "_model_module": "@jupyter-widgets/controls",
            "_model_module_version": "1.5.0",
            "_model_name": "DescriptionStyleModel",
            "_view_count": null,
            "_view_module": "@jupyter-widgets/base",
            "_view_module_version": "1.2.0",
            "_view_name": "StyleView",
            "description_width": ""
          }
        },
        "a9d1d8568cd04180b46f04d892cd4be0": {
          "model_module": "@jupyter-widgets/base",
          "model_name": "LayoutModel",
          "model_module_version": "1.2.0",
          "state": {
            "_model_module": "@jupyter-widgets/base",
            "_model_module_version": "1.2.0",
            "_model_name": "LayoutModel",
            "_view_count": null,
            "_view_module": "@jupyter-widgets/base",
            "_view_module_version": "1.2.0",
            "_view_name": "LayoutView",
            "align_content": null,
            "align_items": null,
            "align_self": null,
            "border": null,
            "bottom": null,
            "display": null,
            "flex": null,
            "flex_flow": null,
            "grid_area": null,
            "grid_auto_columns": null,
            "grid_auto_flow": null,
            "grid_auto_rows": null,
            "grid_column": null,
            "grid_gap": null,
            "grid_row": null,
            "grid_template_areas": null,
            "grid_template_columns": null,
            "grid_template_rows": null,
            "height": null,
            "justify_content": null,
            "justify_items": null,
            "left": null,
            "margin": null,
            "max_height": null,
            "max_width": null,
            "min_height": null,
            "min_width": null,
            "object_fit": null,
            "object_position": null,
            "order": null,
            "overflow": null,
            "overflow_x": null,
            "overflow_y": null,
            "padding": null,
            "right": null,
            "top": null,
            "visibility": null,
            "width": null
          }
        },
        "43595054c031412087080315d07898d5": {
          "model_module": "@jupyter-widgets/controls",
          "model_name": "ProgressStyleModel",
          "model_module_version": "1.5.0",
          "state": {
            "_model_module": "@jupyter-widgets/controls",
            "_model_module_version": "1.5.0",
            "_model_name": "ProgressStyleModel",
            "_view_count": null,
            "_view_module": "@jupyter-widgets/base",
            "_view_module_version": "1.2.0",
            "_view_name": "StyleView",
            "bar_color": null,
            "description_width": ""
          }
        },
        "2591294329ae44a6a6dc965e68456d9c": {
          "model_module": "@jupyter-widgets/base",
          "model_name": "LayoutModel",
          "model_module_version": "1.2.0",
          "state": {
            "_model_module": "@jupyter-widgets/base",
            "_model_module_version": "1.2.0",
            "_model_name": "LayoutModel",
            "_view_count": null,
            "_view_module": "@jupyter-widgets/base",
            "_view_module_version": "1.2.0",
            "_view_name": "LayoutView",
            "align_content": null,
            "align_items": null,
            "align_self": null,
            "border": null,
            "bottom": null,
            "display": null,
            "flex": null,
            "flex_flow": null,
            "grid_area": null,
            "grid_auto_columns": null,
            "grid_auto_flow": null,
            "grid_auto_rows": null,
            "grid_column": null,
            "grid_gap": null,
            "grid_row": null,
            "grid_template_areas": null,
            "grid_template_columns": null,
            "grid_template_rows": null,
            "height": null,
            "justify_content": null,
            "justify_items": null,
            "left": null,
            "margin": null,
            "max_height": null,
            "max_width": null,
            "min_height": null,
            "min_width": null,
            "object_fit": null,
            "object_position": null,
            "order": null,
            "overflow": null,
            "overflow_x": null,
            "overflow_y": null,
            "padding": null,
            "right": null,
            "top": null,
            "visibility": null,
            "width": null
          }
        },
        "0aae8525976949efbdaa20ff96c4dc0a": {
          "model_module": "@jupyter-widgets/controls",
          "model_name": "DescriptionStyleModel",
          "model_module_version": "1.5.0",
          "state": {
            "_model_module": "@jupyter-widgets/controls",
            "_model_module_version": "1.5.0",
            "_model_name": "DescriptionStyleModel",
            "_view_count": null,
            "_view_module": "@jupyter-widgets/base",
            "_view_module_version": "1.2.0",
            "_view_name": "StyleView",
            "description_width": ""
          }
        },
        "f32c13c458464b04b2399a55e96a765e": {
          "model_module": "@jupyter-widgets/controls",
          "model_name": "HBoxModel",
          "model_module_version": "1.5.0",
          "state": {
            "_dom_classes": [],
            "_model_module": "@jupyter-widgets/controls",
            "_model_module_version": "1.5.0",
            "_model_name": "HBoxModel",
            "_view_count": null,
            "_view_module": "@jupyter-widgets/controls",
            "_view_module_version": "1.5.0",
            "_view_name": "HBoxView",
            "box_style": "",
            "children": [
              "IPY_MODEL_e1d61f5581184605bc2261323b1b347d",
              "IPY_MODEL_1c72848320264d539cee1ad5550efb17",
              "IPY_MODEL_3a76b327f0684ed493b083ec39b52ca8"
            ],
            "layout": "IPY_MODEL_6f5d9215346047d9bffef7de4fdc859d"
          }
        },
        "e1d61f5581184605bc2261323b1b347d": {
          "model_module": "@jupyter-widgets/controls",
          "model_name": "HTMLModel",
          "model_module_version": "1.5.0",
          "state": {
            "_dom_classes": [],
            "_model_module": "@jupyter-widgets/controls",
            "_model_module_version": "1.5.0",
            "_model_name": "HTMLModel",
            "_view_count": null,
            "_view_module": "@jupyter-widgets/controls",
            "_view_module_version": "1.5.0",
            "_view_name": "HTMLView",
            "description": "",
            "description_tooltip": null,
            "layout": "IPY_MODEL_59183be76cd94dcebaa7781370faea1f",
            "placeholder": "​",
            "style": "IPY_MODEL_8ba08a54221b48cab87f9a6f8d74eb36",
            "value": "Downloading (…)olve/main/merges.txt: 100%"
          }
        },
        "1c72848320264d539cee1ad5550efb17": {
          "model_module": "@jupyter-widgets/controls",
          "model_name": "FloatProgressModel",
          "model_module_version": "1.5.0",
          "state": {
            "_dom_classes": [],
            "_model_module": "@jupyter-widgets/controls",
            "_model_module_version": "1.5.0",
            "_model_name": "FloatProgressModel",
            "_view_count": null,
            "_view_module": "@jupyter-widgets/controls",
            "_view_module_version": "1.5.0",
            "_view_name": "ProgressView",
            "bar_style": "success",
            "description": "",
            "description_tooltip": null,
            "layout": "IPY_MODEL_9d75a9e4ef18465da9c56daf89883d82",
            "max": 456318,
            "min": 0,
            "orientation": "horizontal",
            "style": "IPY_MODEL_7725bf5e2c38401bb0237cd9b9081aa6",
            "value": 456318
          }
        },
        "3a76b327f0684ed493b083ec39b52ca8": {
          "model_module": "@jupyter-widgets/controls",
          "model_name": "HTMLModel",
          "model_module_version": "1.5.0",
          "state": {
            "_dom_classes": [],
            "_model_module": "@jupyter-widgets/controls",
            "_model_module_version": "1.5.0",
            "_model_name": "HTMLModel",
            "_view_count": null,
            "_view_module": "@jupyter-widgets/controls",
            "_view_module_version": "1.5.0",
            "_view_name": "HTMLView",
            "description": "",
            "description_tooltip": null,
            "layout": "IPY_MODEL_e4ce587df82d4f9cb8d45a408a2e6919",
            "placeholder": "​",
            "style": "IPY_MODEL_6956e608de204abe8682523755c571ac",
            "value": " 456k/456k [00:00&lt;00:00, 4.60MB/s]"
          }
        },
        "6f5d9215346047d9bffef7de4fdc859d": {
          "model_module": "@jupyter-widgets/base",
          "model_name": "LayoutModel",
          "model_module_version": "1.2.0",
          "state": {
            "_model_module": "@jupyter-widgets/base",
            "_model_module_version": "1.2.0",
            "_model_name": "LayoutModel",
            "_view_count": null,
            "_view_module": "@jupyter-widgets/base",
            "_view_module_version": "1.2.0",
            "_view_name": "LayoutView",
            "align_content": null,
            "align_items": null,
            "align_self": null,
            "border": null,
            "bottom": null,
            "display": null,
            "flex": null,
            "flex_flow": null,
            "grid_area": null,
            "grid_auto_columns": null,
            "grid_auto_flow": null,
            "grid_auto_rows": null,
            "grid_column": null,
            "grid_gap": null,
            "grid_row": null,
            "grid_template_areas": null,
            "grid_template_columns": null,
            "grid_template_rows": null,
            "height": null,
            "justify_content": null,
            "justify_items": null,
            "left": null,
            "margin": null,
            "max_height": null,
            "max_width": null,
            "min_height": null,
            "min_width": null,
            "object_fit": null,
            "object_position": null,
            "order": null,
            "overflow": null,
            "overflow_x": null,
            "overflow_y": null,
            "padding": null,
            "right": null,
            "top": null,
            "visibility": null,
            "width": null
          }
        },
        "59183be76cd94dcebaa7781370faea1f": {
          "model_module": "@jupyter-widgets/base",
          "model_name": "LayoutModel",
          "model_module_version": "1.2.0",
          "state": {
            "_model_module": "@jupyter-widgets/base",
            "_model_module_version": "1.2.0",
            "_model_name": "LayoutModel",
            "_view_count": null,
            "_view_module": "@jupyter-widgets/base",
            "_view_module_version": "1.2.0",
            "_view_name": "LayoutView",
            "align_content": null,
            "align_items": null,
            "align_self": null,
            "border": null,
            "bottom": null,
            "display": null,
            "flex": null,
            "flex_flow": null,
            "grid_area": null,
            "grid_auto_columns": null,
            "grid_auto_flow": null,
            "grid_auto_rows": null,
            "grid_column": null,
            "grid_gap": null,
            "grid_row": null,
            "grid_template_areas": null,
            "grid_template_columns": null,
            "grid_template_rows": null,
            "height": null,
            "justify_content": null,
            "justify_items": null,
            "left": null,
            "margin": null,
            "max_height": null,
            "max_width": null,
            "min_height": null,
            "min_width": null,
            "object_fit": null,
            "object_position": null,
            "order": null,
            "overflow": null,
            "overflow_x": null,
            "overflow_y": null,
            "padding": null,
            "right": null,
            "top": null,
            "visibility": null,
            "width": null
          }
        },
        "8ba08a54221b48cab87f9a6f8d74eb36": {
          "model_module": "@jupyter-widgets/controls",
          "model_name": "DescriptionStyleModel",
          "model_module_version": "1.5.0",
          "state": {
            "_model_module": "@jupyter-widgets/controls",
            "_model_module_version": "1.5.0",
            "_model_name": "DescriptionStyleModel",
            "_view_count": null,
            "_view_module": "@jupyter-widgets/base",
            "_view_module_version": "1.2.0",
            "_view_name": "StyleView",
            "description_width": ""
          }
        },
        "9d75a9e4ef18465da9c56daf89883d82": {
          "model_module": "@jupyter-widgets/base",
          "model_name": "LayoutModel",
          "model_module_version": "1.2.0",
          "state": {
            "_model_module": "@jupyter-widgets/base",
            "_model_module_version": "1.2.0",
            "_model_name": "LayoutModel",
            "_view_count": null,
            "_view_module": "@jupyter-widgets/base",
            "_view_module_version": "1.2.0",
            "_view_name": "LayoutView",
            "align_content": null,
            "align_items": null,
            "align_self": null,
            "border": null,
            "bottom": null,
            "display": null,
            "flex": null,
            "flex_flow": null,
            "grid_area": null,
            "grid_auto_columns": null,
            "grid_auto_flow": null,
            "grid_auto_rows": null,
            "grid_column": null,
            "grid_gap": null,
            "grid_row": null,
            "grid_template_areas": null,
            "grid_template_columns": null,
            "grid_template_rows": null,
            "height": null,
            "justify_content": null,
            "justify_items": null,
            "left": null,
            "margin": null,
            "max_height": null,
            "max_width": null,
            "min_height": null,
            "min_width": null,
            "object_fit": null,
            "object_position": null,
            "order": null,
            "overflow": null,
            "overflow_x": null,
            "overflow_y": null,
            "padding": null,
            "right": null,
            "top": null,
            "visibility": null,
            "width": null
          }
        },
        "7725bf5e2c38401bb0237cd9b9081aa6": {
          "model_module": "@jupyter-widgets/controls",
          "model_name": "ProgressStyleModel",
          "model_module_version": "1.5.0",
          "state": {
            "_model_module": "@jupyter-widgets/controls",
            "_model_module_version": "1.5.0",
            "_model_name": "ProgressStyleModel",
            "_view_count": null,
            "_view_module": "@jupyter-widgets/base",
            "_view_module_version": "1.2.0",
            "_view_name": "StyleView",
            "bar_color": null,
            "description_width": ""
          }
        },
        "e4ce587df82d4f9cb8d45a408a2e6919": {
          "model_module": "@jupyter-widgets/base",
          "model_name": "LayoutModel",
          "model_module_version": "1.2.0",
          "state": {
            "_model_module": "@jupyter-widgets/base",
            "_model_module_version": "1.2.0",
            "_model_name": "LayoutModel",
            "_view_count": null,
            "_view_module": "@jupyter-widgets/base",
            "_view_module_version": "1.2.0",
            "_view_name": "LayoutView",
            "align_content": null,
            "align_items": null,
            "align_self": null,
            "border": null,
            "bottom": null,
            "display": null,
            "flex": null,
            "flex_flow": null,
            "grid_area": null,
            "grid_auto_columns": null,
            "grid_auto_flow": null,
            "grid_auto_rows": null,
            "grid_column": null,
            "grid_gap": null,
            "grid_row": null,
            "grid_template_areas": null,
            "grid_template_columns": null,
            "grid_template_rows": null,
            "height": null,
            "justify_content": null,
            "justify_items": null,
            "left": null,
            "margin": null,
            "max_height": null,
            "max_width": null,
            "min_height": null,
            "min_width": null,
            "object_fit": null,
            "object_position": null,
            "order": null,
            "overflow": null,
            "overflow_x": null,
            "overflow_y": null,
            "padding": null,
            "right": null,
            "top": null,
            "visibility": null,
            "width": null
          }
        },
        "6956e608de204abe8682523755c571ac": {
          "model_module": "@jupyter-widgets/controls",
          "model_name": "DescriptionStyleModel",
          "model_module_version": "1.5.0",
          "state": {
            "_model_module": "@jupyter-widgets/controls",
            "_model_module_version": "1.5.0",
            "_model_name": "DescriptionStyleModel",
            "_view_count": null,
            "_view_module": "@jupyter-widgets/base",
            "_view_module_version": "1.2.0",
            "_view_name": "StyleView",
            "description_width": ""
          }
        },
        "72cda823dcb94250888edf33112cc6f0": {
          "model_module": "@jupyter-widgets/controls",
          "model_name": "HBoxModel",
          "model_module_version": "1.5.0",
          "state": {
            "_dom_classes": [],
            "_model_module": "@jupyter-widgets/controls",
            "_model_module_version": "1.5.0",
            "_model_name": "HBoxModel",
            "_view_count": null,
            "_view_module": "@jupyter-widgets/controls",
            "_view_module_version": "1.5.0",
            "_view_name": "HBoxView",
            "box_style": "",
            "children": [
              "IPY_MODEL_b67d569eb13c4116b77c25057c6bd31c",
              "IPY_MODEL_1f011882e94f403496c743f9b6cc04fd",
              "IPY_MODEL_c8760eff3083442e8f5c1d2a00bc8f35"
            ],
            "layout": "IPY_MODEL_4f583562435f475c96724f3ac785c3cd"
          }
        },
        "b67d569eb13c4116b77c25057c6bd31c": {
          "model_module": "@jupyter-widgets/controls",
          "model_name": "HTMLModel",
          "model_module_version": "1.5.0",
          "state": {
            "_dom_classes": [],
            "_model_module": "@jupyter-widgets/controls",
            "_model_module_version": "1.5.0",
            "_model_name": "HTMLModel",
            "_view_count": null,
            "_view_module": "@jupyter-widgets/controls",
            "_view_module_version": "1.5.0",
            "_view_name": "HTMLView",
            "description": "",
            "description_tooltip": null,
            "layout": "IPY_MODEL_64375124b5c448a9bf1c115766a8cb81",
            "placeholder": "​",
            "style": "IPY_MODEL_707e52ff94984fd59762c087b9fe3538",
            "value": "Downloading (…)/main/tokenizer.json: 100%"
          }
        },
        "1f011882e94f403496c743f9b6cc04fd": {
          "model_module": "@jupyter-widgets/controls",
          "model_name": "FloatProgressModel",
          "model_module_version": "1.5.0",
          "state": {
            "_dom_classes": [],
            "_model_module": "@jupyter-widgets/controls",
            "_model_module_version": "1.5.0",
            "_model_name": "FloatProgressModel",
            "_view_count": null,
            "_view_module": "@jupyter-widgets/controls",
            "_view_module_version": "1.5.0",
            "_view_name": "ProgressView",
            "bar_style": "success",
            "description": "",
            "description_tooltip": null,
            "layout": "IPY_MODEL_bd7f24f7a7f34d03b9abec41b84911bb",
            "max": 1355863,
            "min": 0,
            "orientation": "horizontal",
            "style": "IPY_MODEL_7710a6d727884f76ab424ab9725d5434",
            "value": 1355863
          }
        },
        "c8760eff3083442e8f5c1d2a00bc8f35": {
          "model_module": "@jupyter-widgets/controls",
          "model_name": "HTMLModel",
          "model_module_version": "1.5.0",
          "state": {
            "_dom_classes": [],
            "_model_module": "@jupyter-widgets/controls",
            "_model_module_version": "1.5.0",
            "_model_name": "HTMLModel",
            "_view_count": null,
            "_view_module": "@jupyter-widgets/controls",
            "_view_module_version": "1.5.0",
            "_view_name": "HTMLView",
            "description": "",
            "description_tooltip": null,
            "layout": "IPY_MODEL_dfd5fe0c0c794441a350e0e4a8c87128",
            "placeholder": "​",
            "style": "IPY_MODEL_b61d038b865e46c3bb2125a720d69c98",
            "value": " 1.36M/1.36M [00:00&lt;00:00, 10.6MB/s]"
          }
        },
        "4f583562435f475c96724f3ac785c3cd": {
          "model_module": "@jupyter-widgets/base",
          "model_name": "LayoutModel",
          "model_module_version": "1.2.0",
          "state": {
            "_model_module": "@jupyter-widgets/base",
            "_model_module_version": "1.2.0",
            "_model_name": "LayoutModel",
            "_view_count": null,
            "_view_module": "@jupyter-widgets/base",
            "_view_module_version": "1.2.0",
            "_view_name": "LayoutView",
            "align_content": null,
            "align_items": null,
            "align_self": null,
            "border": null,
            "bottom": null,
            "display": null,
            "flex": null,
            "flex_flow": null,
            "grid_area": null,
            "grid_auto_columns": null,
            "grid_auto_flow": null,
            "grid_auto_rows": null,
            "grid_column": null,
            "grid_gap": null,
            "grid_row": null,
            "grid_template_areas": null,
            "grid_template_columns": null,
            "grid_template_rows": null,
            "height": null,
            "justify_content": null,
            "justify_items": null,
            "left": null,
            "margin": null,
            "max_height": null,
            "max_width": null,
            "min_height": null,
            "min_width": null,
            "object_fit": null,
            "object_position": null,
            "order": null,
            "overflow": null,
            "overflow_x": null,
            "overflow_y": null,
            "padding": null,
            "right": null,
            "top": null,
            "visibility": null,
            "width": null
          }
        },
        "64375124b5c448a9bf1c115766a8cb81": {
          "model_module": "@jupyter-widgets/base",
          "model_name": "LayoutModel",
          "model_module_version": "1.2.0",
          "state": {
            "_model_module": "@jupyter-widgets/base",
            "_model_module_version": "1.2.0",
            "_model_name": "LayoutModel",
            "_view_count": null,
            "_view_module": "@jupyter-widgets/base",
            "_view_module_version": "1.2.0",
            "_view_name": "LayoutView",
            "align_content": null,
            "align_items": null,
            "align_self": null,
            "border": null,
            "bottom": null,
            "display": null,
            "flex": null,
            "flex_flow": null,
            "grid_area": null,
            "grid_auto_columns": null,
            "grid_auto_flow": null,
            "grid_auto_rows": null,
            "grid_column": null,
            "grid_gap": null,
            "grid_row": null,
            "grid_template_areas": null,
            "grid_template_columns": null,
            "grid_template_rows": null,
            "height": null,
            "justify_content": null,
            "justify_items": null,
            "left": null,
            "margin": null,
            "max_height": null,
            "max_width": null,
            "min_height": null,
            "min_width": null,
            "object_fit": null,
            "object_position": null,
            "order": null,
            "overflow": null,
            "overflow_x": null,
            "overflow_y": null,
            "padding": null,
            "right": null,
            "top": null,
            "visibility": null,
            "width": null
          }
        },
        "707e52ff94984fd59762c087b9fe3538": {
          "model_module": "@jupyter-widgets/controls",
          "model_name": "DescriptionStyleModel",
          "model_module_version": "1.5.0",
          "state": {
            "_model_module": "@jupyter-widgets/controls",
            "_model_module_version": "1.5.0",
            "_model_name": "DescriptionStyleModel",
            "_view_count": null,
            "_view_module": "@jupyter-widgets/base",
            "_view_module_version": "1.2.0",
            "_view_name": "StyleView",
            "description_width": ""
          }
        },
        "bd7f24f7a7f34d03b9abec41b84911bb": {
          "model_module": "@jupyter-widgets/base",
          "model_name": "LayoutModel",
          "model_module_version": "1.2.0",
          "state": {
            "_model_module": "@jupyter-widgets/base",
            "_model_module_version": "1.2.0",
            "_model_name": "LayoutModel",
            "_view_count": null,
            "_view_module": "@jupyter-widgets/base",
            "_view_module_version": "1.2.0",
            "_view_name": "LayoutView",
            "align_content": null,
            "align_items": null,
            "align_self": null,
            "border": null,
            "bottom": null,
            "display": null,
            "flex": null,
            "flex_flow": null,
            "grid_area": null,
            "grid_auto_columns": null,
            "grid_auto_flow": null,
            "grid_auto_rows": null,
            "grid_column": null,
            "grid_gap": null,
            "grid_row": null,
            "grid_template_areas": null,
            "grid_template_columns": null,
            "grid_template_rows": null,
            "height": null,
            "justify_content": null,
            "justify_items": null,
            "left": null,
            "margin": null,
            "max_height": null,
            "max_width": null,
            "min_height": null,
            "min_width": null,
            "object_fit": null,
            "object_position": null,
            "order": null,
            "overflow": null,
            "overflow_x": null,
            "overflow_y": null,
            "padding": null,
            "right": null,
            "top": null,
            "visibility": null,
            "width": null
          }
        },
        "7710a6d727884f76ab424ab9725d5434": {
          "model_module": "@jupyter-widgets/controls",
          "model_name": "ProgressStyleModel",
          "model_module_version": "1.5.0",
          "state": {
            "_model_module": "@jupyter-widgets/controls",
            "_model_module_version": "1.5.0",
            "_model_name": "ProgressStyleModel",
            "_view_count": null,
            "_view_module": "@jupyter-widgets/base",
            "_view_module_version": "1.2.0",
            "_view_name": "StyleView",
            "bar_color": null,
            "description_width": ""
          }
        },
        "dfd5fe0c0c794441a350e0e4a8c87128": {
          "model_module": "@jupyter-widgets/base",
          "model_name": "LayoutModel",
          "model_module_version": "1.2.0",
          "state": {
            "_model_module": "@jupyter-widgets/base",
            "_model_module_version": "1.2.0",
            "_model_name": "LayoutModel",
            "_view_count": null,
            "_view_module": "@jupyter-widgets/base",
            "_view_module_version": "1.2.0",
            "_view_name": "LayoutView",
            "align_content": null,
            "align_items": null,
            "align_self": null,
            "border": null,
            "bottom": null,
            "display": null,
            "flex": null,
            "flex_flow": null,
            "grid_area": null,
            "grid_auto_columns": null,
            "grid_auto_flow": null,
            "grid_auto_rows": null,
            "grid_column": null,
            "grid_gap": null,
            "grid_row": null,
            "grid_template_areas": null,
            "grid_template_columns": null,
            "grid_template_rows": null,
            "height": null,
            "justify_content": null,
            "justify_items": null,
            "left": null,
            "margin": null,
            "max_height": null,
            "max_width": null,
            "min_height": null,
            "min_width": null,
            "object_fit": null,
            "object_position": null,
            "order": null,
            "overflow": null,
            "overflow_x": null,
            "overflow_y": null,
            "padding": null,
            "right": null,
            "top": null,
            "visibility": null,
            "width": null
          }
        },
        "b61d038b865e46c3bb2125a720d69c98": {
          "model_module": "@jupyter-widgets/controls",
          "model_name": "DescriptionStyleModel",
          "model_module_version": "1.5.0",
          "state": {
            "_model_module": "@jupyter-widgets/controls",
            "_model_module_version": "1.5.0",
            "_model_name": "DescriptionStyleModel",
            "_view_count": null,
            "_view_module": "@jupyter-widgets/base",
            "_view_module_version": "1.2.0",
            "_view_name": "StyleView",
            "description_width": ""
          }
        },
        "6c494fa348df44ee9a17103ee5a43089": {
          "model_module": "@jupyter-widgets/controls",
          "model_name": "HBoxModel",
          "model_module_version": "1.5.0",
          "state": {
            "_dom_classes": [],
            "_model_module": "@jupyter-widgets/controls",
            "_model_module_version": "1.5.0",
            "_model_name": "HBoxModel",
            "_view_count": null,
            "_view_module": "@jupyter-widgets/controls",
            "_view_module_version": "1.5.0",
            "_view_name": "HBoxView",
            "box_style": "",
            "children": [
              "IPY_MODEL_3d40e3bbb8e94ff3ae30ffbb500a3685",
              "IPY_MODEL_79d2b37f30db4d4e9595e05aee7549f0",
              "IPY_MODEL_d6e65b03b68a44289ba33e350ae7a683"
            ],
            "layout": "IPY_MODEL_8e8d37ace4b844f4a0a193546a205f7e"
          }
        },
        "3d40e3bbb8e94ff3ae30ffbb500a3685": {
          "model_module": "@jupyter-widgets/controls",
          "model_name": "HTMLModel",
          "model_module_version": "1.5.0",
          "state": {
            "_dom_classes": [],
            "_model_module": "@jupyter-widgets/controls",
            "_model_module_version": "1.5.0",
            "_model_name": "HTMLModel",
            "_view_count": null,
            "_view_module": "@jupyter-widgets/controls",
            "_view_module_version": "1.5.0",
            "_view_name": "HTMLView",
            "description": "",
            "description_tooltip": null,
            "layout": "IPY_MODEL_288af7a198314e64825596c19821ca4a",
            "placeholder": "​",
            "style": "IPY_MODEL_b200b8c7447c42fc8ed6f49619289803",
            "value": "Downloading (…)&quot;pytorch_model.bin&quot;;: 100%"
          }
        },
        "79d2b37f30db4d4e9595e05aee7549f0": {
          "model_module": "@jupyter-widgets/controls",
          "model_name": "FloatProgressModel",
          "model_module_version": "1.5.0",
          "state": {
            "_dom_classes": [],
            "_model_module": "@jupyter-widgets/controls",
            "_model_module_version": "1.5.0",
            "_model_name": "FloatProgressModel",
            "_view_count": null,
            "_view_module": "@jupyter-widgets/controls",
            "_view_module_version": "1.5.0",
            "_view_name": "ProgressView",
            "bar_style": "success",
            "description": "",
            "description_tooltip": null,
            "layout": "IPY_MODEL_5bbb8d44672449be8aee8311beaa720f",
            "max": 1425941629,
            "min": 0,
            "orientation": "horizontal",
            "style": "IPY_MODEL_c57732883cb24b3f9258af5929ea4fcb",
            "value": 1425941629
          }
        },
        "d6e65b03b68a44289ba33e350ae7a683": {
          "model_module": "@jupyter-widgets/controls",
          "model_name": "HTMLModel",
          "model_module_version": "1.5.0",
          "state": {
            "_dom_classes": [],
            "_model_module": "@jupyter-widgets/controls",
            "_model_module_version": "1.5.0",
            "_model_name": "HTMLModel",
            "_view_count": null,
            "_view_module": "@jupyter-widgets/controls",
            "_view_module_version": "1.5.0",
            "_view_name": "HTMLView",
            "description": "",
            "description_tooltip": null,
            "layout": "IPY_MODEL_0c84ccb24b7c41e296c3a46c534f02c1",
            "placeholder": "​",
            "style": "IPY_MODEL_46d510b59ee442109843745f8e372975",
            "value": " 1.43G/1.43G [00:14&lt;00:00, 138MB/s]"
          }
        },
        "8e8d37ace4b844f4a0a193546a205f7e": {
          "model_module": "@jupyter-widgets/base",
          "model_name": "LayoutModel",
          "model_module_version": "1.2.0",
          "state": {
            "_model_module": "@jupyter-widgets/base",
            "_model_module_version": "1.2.0",
            "_model_name": "LayoutModel",
            "_view_count": null,
            "_view_module": "@jupyter-widgets/base",
            "_view_module_version": "1.2.0",
            "_view_name": "LayoutView",
            "align_content": null,
            "align_items": null,
            "align_self": null,
            "border": null,
            "bottom": null,
            "display": null,
            "flex": null,
            "flex_flow": null,
            "grid_area": null,
            "grid_auto_columns": null,
            "grid_auto_flow": null,
            "grid_auto_rows": null,
            "grid_column": null,
            "grid_gap": null,
            "grid_row": null,
            "grid_template_areas": null,
            "grid_template_columns": null,
            "grid_template_rows": null,
            "height": null,
            "justify_content": null,
            "justify_items": null,
            "left": null,
            "margin": null,
            "max_height": null,
            "max_width": null,
            "min_height": null,
            "min_width": null,
            "object_fit": null,
            "object_position": null,
            "order": null,
            "overflow": null,
            "overflow_x": null,
            "overflow_y": null,
            "padding": null,
            "right": null,
            "top": null,
            "visibility": null,
            "width": null
          }
        },
        "288af7a198314e64825596c19821ca4a": {
          "model_module": "@jupyter-widgets/base",
          "model_name": "LayoutModel",
          "model_module_version": "1.2.0",
          "state": {
            "_model_module": "@jupyter-widgets/base",
            "_model_module_version": "1.2.0",
            "_model_name": "LayoutModel",
            "_view_count": null,
            "_view_module": "@jupyter-widgets/base",
            "_view_module_version": "1.2.0",
            "_view_name": "LayoutView",
            "align_content": null,
            "align_items": null,
            "align_self": null,
            "border": null,
            "bottom": null,
            "display": null,
            "flex": null,
            "flex_flow": null,
            "grid_area": null,
            "grid_auto_columns": null,
            "grid_auto_flow": null,
            "grid_auto_rows": null,
            "grid_column": null,
            "grid_gap": null,
            "grid_row": null,
            "grid_template_areas": null,
            "grid_template_columns": null,
            "grid_template_rows": null,
            "height": null,
            "justify_content": null,
            "justify_items": null,
            "left": null,
            "margin": null,
            "max_height": null,
            "max_width": null,
            "min_height": null,
            "min_width": null,
            "object_fit": null,
            "object_position": null,
            "order": null,
            "overflow": null,
            "overflow_x": null,
            "overflow_y": null,
            "padding": null,
            "right": null,
            "top": null,
            "visibility": null,
            "width": null
          }
        },
        "b200b8c7447c42fc8ed6f49619289803": {
          "model_module": "@jupyter-widgets/controls",
          "model_name": "DescriptionStyleModel",
          "model_module_version": "1.5.0",
          "state": {
            "_model_module": "@jupyter-widgets/controls",
            "_model_module_version": "1.5.0",
            "_model_name": "DescriptionStyleModel",
            "_view_count": null,
            "_view_module": "@jupyter-widgets/base",
            "_view_module_version": "1.2.0",
            "_view_name": "StyleView",
            "description_width": ""
          }
        },
        "5bbb8d44672449be8aee8311beaa720f": {
          "model_module": "@jupyter-widgets/base",
          "model_name": "LayoutModel",
          "model_module_version": "1.2.0",
          "state": {
            "_model_module": "@jupyter-widgets/base",
            "_model_module_version": "1.2.0",
            "_model_name": "LayoutModel",
            "_view_count": null,
            "_view_module": "@jupyter-widgets/base",
            "_view_module_version": "1.2.0",
            "_view_name": "LayoutView",
            "align_content": null,
            "align_items": null,
            "align_self": null,
            "border": null,
            "bottom": null,
            "display": null,
            "flex": null,
            "flex_flow": null,
            "grid_area": null,
            "grid_auto_columns": null,
            "grid_auto_flow": null,
            "grid_auto_rows": null,
            "grid_column": null,
            "grid_gap": null,
            "grid_row": null,
            "grid_template_areas": null,
            "grid_template_columns": null,
            "grid_template_rows": null,
            "height": null,
            "justify_content": null,
            "justify_items": null,
            "left": null,
            "margin": null,
            "max_height": null,
            "max_width": null,
            "min_height": null,
            "min_width": null,
            "object_fit": null,
            "object_position": null,
            "order": null,
            "overflow": null,
            "overflow_x": null,
            "overflow_y": null,
            "padding": null,
            "right": null,
            "top": null,
            "visibility": null,
            "width": null
          }
        },
        "c57732883cb24b3f9258af5929ea4fcb": {
          "model_module": "@jupyter-widgets/controls",
          "model_name": "ProgressStyleModel",
          "model_module_version": "1.5.0",
          "state": {
            "_model_module": "@jupyter-widgets/controls",
            "_model_module_version": "1.5.0",
            "_model_name": "ProgressStyleModel",
            "_view_count": null,
            "_view_module": "@jupyter-widgets/base",
            "_view_module_version": "1.2.0",
            "_view_name": "StyleView",
            "bar_color": null,
            "description_width": ""
          }
        },
        "0c84ccb24b7c41e296c3a46c534f02c1": {
          "model_module": "@jupyter-widgets/base",
          "model_name": "LayoutModel",
          "model_module_version": "1.2.0",
          "state": {
            "_model_module": "@jupyter-widgets/base",
            "_model_module_version": "1.2.0",
            "_model_name": "LayoutModel",
            "_view_count": null,
            "_view_module": "@jupyter-widgets/base",
            "_view_module_version": "1.2.0",
            "_view_name": "LayoutView",
            "align_content": null,
            "align_items": null,
            "align_self": null,
            "border": null,
            "bottom": null,
            "display": null,
            "flex": null,
            "flex_flow": null,
            "grid_area": null,
            "grid_auto_columns": null,
            "grid_auto_flow": null,
            "grid_auto_rows": null,
            "grid_column": null,
            "grid_gap": null,
            "grid_row": null,
            "grid_template_areas": null,
            "grid_template_columns": null,
            "grid_template_rows": null,
            "height": null,
            "justify_content": null,
            "justify_items": null,
            "left": null,
            "margin": null,
            "max_height": null,
            "max_width": null,
            "min_height": null,
            "min_width": null,
            "object_fit": null,
            "object_position": null,
            "order": null,
            "overflow": null,
            "overflow_x": null,
            "overflow_y": null,
            "padding": null,
            "right": null,
            "top": null,
            "visibility": null,
            "width": null
          }
        },
        "46d510b59ee442109843745f8e372975": {
          "model_module": "@jupyter-widgets/controls",
          "model_name": "DescriptionStyleModel",
          "model_module_version": "1.5.0",
          "state": {
            "_model_module": "@jupyter-widgets/controls",
            "_model_module_version": "1.5.0",
            "_model_name": "DescriptionStyleModel",
            "_view_count": null,
            "_view_module": "@jupyter-widgets/base",
            "_view_module_version": "1.2.0",
            "_view_name": "StyleView",
            "description_width": ""
          }
        }
      }
    }
  },
  "nbformat": 4,
  "nbformat_minor": 0
}