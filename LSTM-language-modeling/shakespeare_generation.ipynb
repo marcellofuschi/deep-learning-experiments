{
 "cells": [
  {
   "cell_type": "markdown",
   "metadata": {
    "id": "ENdpIzLyycFw",
    "pycharm": {
     "name": "#%% md\n"
    }
   },
   "source": [
    "# Character-level LSTM with PyTorch\n",
    "\n",
    "An RNN model will be trained to generate new text character by character. Both the text used for training and the generated text will be analyzed with some statistical functions (e.g., for assessing readability), so that we can evaluate the statistical similarity between the training data and the generated sample."
   ]
  },
  {
   "cell_type": "code",
   "execution_count": 1,
   "metadata": {
    "id": "iY7R0wQFBgpN",
    "colab": {
     "base_uri": "https://localhost:8080/"
    },
    "outputId": "205b781f-e792-40f7-8c2e-68eabd109e2e",
    "pycharm": {
     "name": "#%%\n"
    }
   },
   "outputs": [
    {
     "output_type": "stream",
     "name": "stdout",
     "text": [
      "Looking in indexes: https://pypi.org/simple, https://us-python.pkg.dev/colab-wheels/public/simple/\n",
      "Collecting textstat\n",
      "  Downloading textstat-0.7.3-py3-none-any.whl (105 kB)\n",
      "\u001B[2K     \u001B[90m━━━━━━━━━━━━━━━━━━━━━━━━━━━━━━━━━━━━━━━\u001B[0m \u001B[32m105.1/105.1 KB\u001B[0m \u001B[31m4.7 MB/s\u001B[0m eta \u001B[36m0:00:00\u001B[0m\n",
      "\u001B[?25hCollecting pyphen\n",
      "  Downloading pyphen-0.13.2-py3-none-any.whl (2.0 MB)\n",
      "\u001B[2K     \u001B[90m━━━━━━━━━━━━━━━━━━━━━━━━━━━━━━━━━━━━━━━━\u001B[0m \u001B[32m2.0/2.0 MB\u001B[0m \u001B[31m34.1 MB/s\u001B[0m eta \u001B[36m0:00:00\u001B[0m\n",
      "\u001B[?25hInstalling collected packages: pyphen, textstat\n",
      "Successfully installed pyphen-0.13.2 textstat-0.7.3\n"
     ]
    }
   ],
   "source": [
    "!pip install textstat"
   ]
  },
  {
   "cell_type": "code",
   "execution_count": 2,
   "metadata": {
    "id": "w_gS0_Y-yDqX",
    "pycharm": {
     "name": "#%%\n"
    }
   },
   "outputs": [],
   "source": [
    "!pip install torchmetrics transformers>=4.0"
   ]
  },
  {
   "cell_type": "code",
   "execution_count": 3,
   "metadata": {
    "id": "tsoK1d67ycF1",
    "pycharm": {
     "name": "#%%\n"
    }
   },
   "outputs": [],
   "source": [
    "import numpy as np\n",
    "import torch\n",
    "from torch import nn\n",
    "import torch.nn.functional as F\n",
    "import textstat\n",
    "import matplotlib.pyplot as plt\n",
    "import transformers\n",
    "import torchmetrics\n",
    "from torchmetrics.functional.text.bert import bert_score\n",
    "from nltk.translate.bleu_score import sentence_bleu"
   ]
  },
  {
   "cell_type": "code",
   "execution_count": 4,
   "metadata": {
    "colab": {
     "base_uri": "https://localhost:8080/",
     "height": 286,
     "referenced_widgets": [
      "2eeacf6b38b749acb854163eb410af30",
      "10616343898c49848dd2b534513dbc80",
      "433456baeb4d4534ae8119771d6927fd",
      "320bf4a9b5d84d6495dceafc6596cbbf",
      "98cf57d90d844a37a2e0535297ff94b8",
      "2702a513b2c54ad6be16c9833eb966f1",
      "03c6d4eb3f4447cd94bed1dd01bee767",
      "a678dfec1cb34595bd03f2ac97720e43",
      "72ce32c413444a3480241538443736d2",
      "fe76616708074bb0ae329bb0649f3622",
      "d23fd39e44f84c2a8e2bed26b428ff08",
      "c5c4b90635da467bb0fbb8f9cb6ef6e1",
      "85a26b8c355b4fa3a5dac87c3be1d55e",
      "6a84626abda54427a34328fde5c49e43",
      "d37eb700af534214bf7545e6a2a44b6f",
      "d25d0744ced04f77a64e9e1b566d3f54",
      "296e31a868e744378334db31ae8b99db",
      "b0bb53cd66d3450495ece7254a294653",
      "80e6e7144ed94d24a1d3c9524ef9b0d6",
      "036dc43144884382b6824cb00e1effbe",
      "fd06e381c4644b5a98b2d76a75b522df",
      "87310690f7d84bd4807fa2b6b405938f",
      "3dc84ad3ec144061ab4cc5611c65821e",
      "00e2835cc91948d7a2f2e0cf41d0d919",
      "58920fcefd554001b281544e72a77e50",
      "558448431f7c43e2933ff971abc70b8d",
      "5a794aff707845baaa0fab5c3831476a",
      "0367072d55a5467c8c91b0113e16cd5a",
      "1906d178beeb41fb9216c1f376473c7e",
      "60eeaddb53944bd6a81d3b3346fa0313",
      "df507a51622048c4bd3f22481a2c0c4a",
      "9d37799150994a0a95c283f39c74e25a",
      "915927cbdb854ac4a58c04b7cb378bb4",
      "b6b8385ab7db47dab80ba23575b3c28f",
      "f1bcd3844593430a9019b9e0608774ad",
      "4150abedbecd42f7a61417b0f29312ce",
      "748f8565d43e4fb19e846e1725ced5bc",
      "b4590dcd52fe4ad4b1b121dc18dcbf25",
      "d1c3880e3ecd4537ac2a0056d6ee9065",
      "cc86aa6cee04441c9ce978ae308bc80b",
      "9d48dc9c4ffd40c7abe5bf8c113046fc",
      "1fb6338044984b1da49642009d02ec15",
      "69895317d8434e4e99cf5a982cbd97df",
      "0384e6d39e3c42f59e568dbc97136e2f",
      "5d38b7b167594a648552efbd306a31f3",
      "ca93c8df69e547a09c2deba4cea0ace6",
      "8f1bed56dd8b4c99897e870e630a6fe3",
      "d7c7fcaf908a453f8f2aa3cbd438bd22",
      "713f0cfc640e46809235ce009cac130f",
      "06ae063e293b44dfa434efd3095ed8fd",
      "9d42737b486d436eb81bef335d81d803",
      "1a1cf2c6d904420080775bf11c8bde78",
      "b8010f8fdad04957a1e872cb8f1d7d48",
      "8b13769323a841618587cd3528b88085",
      "45a8227903234a56811d588bfdd312c5"
     ]
    },
    "id": "E2xNou6O4qwI",
    "outputId": "f6e41b29-5553-437d-c0fc-090d483340a7",
    "pycharm": {
     "name": "#%%\n"
    }
   },
   "outputs": [
    {
     "output_type": "stream",
     "name": "stderr",
     "text": [
      "/usr/local/lib/python3.8/dist-packages/torchmetrics/functional/text/bert.py:342: UserWarning: The argument `model_name_or_path` was not specified while it is required when default `transformers` model are used.It is, therefore, used the default recommended model - roberta-large.\n",
      "  warn(\n"
     ]
    },
    {
     "output_type": "display_data",
     "data": {
      "text/plain": [
       "Downloading:   0%|          | 0.00/482 [00:00<?, ?B/s]"
      ],
      "application/vnd.jupyter.widget-view+json": {
       "version_major": 2,
       "version_minor": 0,
       "model_id": "2eeacf6b38b749acb854163eb410af30"
      }
     },
     "metadata": {}
    },
    {
     "output_type": "display_data",
     "data": {
      "text/plain": [
       "Downloading:   0%|          | 0.00/899k [00:00<?, ?B/s]"
      ],
      "application/vnd.jupyter.widget-view+json": {
       "version_major": 2,
       "version_minor": 0,
       "model_id": "c5c4b90635da467bb0fbb8f9cb6ef6e1"
      }
     },
     "metadata": {}
    },
    {
     "output_type": "display_data",
     "data": {
      "text/plain": [
       "Downloading:   0%|          | 0.00/456k [00:00<?, ?B/s]"
      ],
      "application/vnd.jupyter.widget-view+json": {
       "version_major": 2,
       "version_minor": 0,
       "model_id": "3dc84ad3ec144061ab4cc5611c65821e"
      }
     },
     "metadata": {}
    },
    {
     "output_type": "display_data",
     "data": {
      "text/plain": [
       "Downloading:   0%|          | 0.00/1.36M [00:00<?, ?B/s]"
      ],
      "application/vnd.jupyter.widget-view+json": {
       "version_major": 2,
       "version_minor": 0,
       "model_id": "b6b8385ab7db47dab80ba23575b3c28f"
      }
     },
     "metadata": {}
    },
    {
     "output_type": "display_data",
     "data": {
      "text/plain": [
       "Downloading:   0%|          | 0.00/1.43G [00:00<?, ?B/s]"
      ],
      "application/vnd.jupyter.widget-view+json": {
       "version_major": 2,
       "version_minor": 0,
       "model_id": "5d38b7b167594a648552efbd306a31f3"
      }
     },
     "metadata": {}
    },
    {
     "output_type": "stream",
     "name": "stderr",
     "text": [
      "/usr/local/lib/python3.8/dist-packages/torch/utils/data/dataloader.py:554: UserWarning: This DataLoader will create 4 worker processes in total. Our suggested max number of worker in current system is 2, which is smaller than what this DataLoader is going to create. Please be aware that excessive worker creation might get DataLoader running slow or even freeze, lower the worker number to avoid potential slowness/freeze if necessary.\n",
      "  warnings.warn(_create_warning_msg(\n"
     ]
    },
    {
     "output_type": "execute_result",
     "data": {
      "text/plain": [
       "0.9957970976829529"
      ]
     },
     "metadata": {},
     "execution_count": 4
    }
   ],
   "source": [
    "transformers.logging.set_verbosity_error()\n",
    "\n",
    "# Test BERT-Score\n",
    "bert_score(['The sky is blue.'], [\"The sky is yellow.\"])['f1']"
   ]
  },
  {
   "cell_type": "code",
   "execution_count": 5,
   "metadata": {
    "colab": {
     "base_uri": "https://localhost:8080/"
    },
    "id": "xE3baw_stYF0",
    "outputId": "ed8c67f4-fbb7-45e4-822f-5f61674da7d3",
    "pycharm": {
     "name": "#%%\n"
    }
   },
   "outputs": [
    {
     "output_type": "execute_result",
     "data": {
      "text/plain": [
       "0.6763995415945232"
      ]
     },
     "metadata": {},
     "execution_count": 5
    }
   ],
   "source": [
    "# Test BLEU score\n",
    "sentence_bleu(['The sky is blue.'], 'The sky is yellow.', weights=(0.5, 0.5))"
   ]
  },
  {
   "cell_type": "code",
   "execution_count": 6,
   "metadata": {
    "id": "uN9TKMNSjNTP",
    "pycharm": {
     "name": "#%%\n"
    }
   },
   "outputs": [],
   "source": [
    "def calc_text_statistics(text):\n",
    "  return {\n",
    "      'Flesch reading ease': textstat.flesch_reading_ease(text),\n",
    "      'Linsear-Write Formula': textstat.linsear_write_formula(text),\n",
    "      'Dale-Chall readability score': textstat.dale_chall_readability_score(text),\n",
    "  }"
   ]
  },
  {
   "cell_type": "markdown",
   "metadata": {
    "id": "JewJr-vMycF2",
    "pycharm": {
     "name": "#%% md\n"
    }
   },
   "source": [
    "## Training data"
   ]
  },
  {
   "cell_type": "code",
   "execution_count": 7,
   "metadata": {
    "id": "DP6f7VrkycF2",
    "pycharm": {
     "name": "#%%\n"
    }
   },
   "outputs": [],
   "source": [
    "with open('shakespeare.txt', 'r') as f:\n",
    "    text = f.read()"
   ]
  },
  {
   "cell_type": "code",
   "execution_count": 8,
   "metadata": {
    "colab": {
     "base_uri": "https://localhost:8080/"
    },
    "id": "3nVD5jnMjh1G",
    "outputId": "a66a56ef-9d1d-4bb8-b4bd-fa7e4fa56836",
    "pycharm": {
     "name": "#%%\n"
    }
   },
   "outputs": [
    {
     "output_type": "execute_result",
     "data": {
      "text/plain": [
       "{'Flesch reading ease': 88.06,\n",
       " 'Linsear-Write Formula': 4.636363636363637,\n",
       " 'Dale-Chall readability score': 5.31}"
      ]
     },
     "metadata": {},
     "execution_count": 8
    }
   ],
   "source": [
    "calc_text_statistics(text)"
   ]
  },
  {
   "cell_type": "markdown",
   "metadata": {
    "id": "o-aoQoHIycF3",
    "pycharm": {
     "name": "#%% md\n"
    }
   },
   "source": [
    "### Characters tokenization\n",
    "\n",
    "We need to be able to convert each character into an integer token."
   ]
  },
  {
   "cell_type": "code",
   "execution_count": 9,
   "metadata": {
    "id": "_ylyruewycF3",
    "pycharm": {
     "name": "#%%\n"
    }
   },
   "outputs": [],
   "source": [
    "chars_in_text = tuple(set(text))\n",
    "\n",
    "int2char = dict(enumerate(chars_in_text))\n",
    "char2int = {ch: ii for ii, ch in int2char.items()}\n",
    "\n",
    "encoded_text = np.array([char2int[ch] for ch in text])"
   ]
  },
  {
   "cell_type": "code",
   "execution_count": 10,
   "metadata": {
    "colab": {
     "base_uri": "https://localhost:8080/"
    },
    "id": "CsTcQHbOmIXW",
    "outputId": "fc29443d-c553-4d8e-c40e-0c770f93cdcb",
    "pycharm": {
     "name": "#%%\n"
    }
   },
   "outputs": [
    {
     "output_type": "stream",
     "name": "stdout",
     "text": [
      "X\n"
     ]
    }
   ],
   "source": [
    "# Encoding and then decoding produces the initial character\n",
    "print(int2char[char2int['X']])"
   ]
  },
  {
   "cell_type": "markdown",
   "metadata": {
    "id": "naZeJhL6ycF6",
    "pycharm": {
     "name": "#%% md\n"
    }
   },
   "source": [
    "The LSTM accepts only one-hot encoded vectors, so we prepare a function that takes as input an array of encoded characters and outputs an array of one-hot vectors."
   ]
  },
  {
   "cell_type": "code",
   "execution_count": 11,
   "metadata": {
    "colab": {
     "base_uri": "https://localhost:8080/"
    },
    "id": "Lyerrn0jycF7",
    "outputId": "f927a86d-64b4-42ab-da0b-6b907d203c43",
    "pycharm": {
     "name": "#%%\n"
    }
   },
   "outputs": [
    {
     "output_type": "execute_result",
     "data": {
      "text/plain": [
       "array([0., 0., 0., 0., 0., 0., 0., 0., 0., 0., 0., 0., 1., 0., 0., 0., 0.,\n",
       "       0., 0., 0., 0., 0., 0., 0., 0., 0., 0., 0., 0., 0., 0., 0., 0., 0.,\n",
       "       0., 0., 0., 0., 0., 0., 0., 0., 0., 0., 0., 0., 0., 0., 0., 0., 0.,\n",
       "       0., 0., 0., 0., 0., 0., 0., 0., 0., 0., 0., 0., 0., 0.])"
      ]
     },
     "metadata": {},
     "execution_count": 11
    }
   ],
   "source": [
    "def to_one_hot(char_encoding):\n",
    "    one_hot = np.zeros(len(int2char))\n",
    "    one_hot[char_encoding] = 1\n",
    "    return one_hot\n",
    "\n",
    "# Test\n",
    "to_one_hot(12)"
   ]
  },
  {
   "cell_type": "markdown",
   "metadata": {
    "id": "AiApitI5s_DA",
    "pycharm": {
     "name": "#%% md\n"
    }
   },
   "source": [
    "## Train, validation and test split"
   ]
  },
  {
   "cell_type": "code",
   "execution_count": 12,
   "metadata": {
    "colab": {
     "base_uri": "https://localhost:8080/"
    },
    "id": "6ZSNwrn_tC8R",
    "outputId": "402c57c2-b91f-44fc-e2b6-7cd5240949bd",
    "pycharm": {
     "name": "#%%\n"
    }
   },
   "outputs": [
    {
     "output_type": "stream",
     "name": "stdout",
     "text": [
      "(892315,)\n",
      "(111539,)\n",
      "(111540,)\n"
     ]
    }
   ],
   "source": [
    "split1 = int(encoded_text.shape[0] * 0.8)  # 80% for training\n",
    "split2 = int(encoded_text.shape[0] * 0.9)  # 10% for testing\n",
    "\n",
    "train_data, val_data, test_data = np.split(encoded_text, [split1, split2])\n",
    "print(train_data.shape)\n",
    "print(val_data.shape)\n",
    "print(test_data.shape)"
   ]
  },
  {
   "cell_type": "markdown",
   "metadata": {
    "id": "_0fYgSq2ycF7",
    "pycharm": {
     "name": "#%% md\n"
    }
   },
   "source": [
    "## Mini-batches generation\n",
    "\n",
    "We define a function that uses the text encodings to create input and target arrays, where the targets are the same as the inputs, but shifted over one character."
   ]
  },
  {
   "cell_type": "code",
   "execution_count": 13,
   "metadata": {
    "id": "SPrN0R-aycF8",
    "pycharm": {
     "name": "#%%\n"
    }
   },
   "outputs": [],
   "source": [
    "# Divide the array of encodings into batches.\n",
    "def get_batches(encodings_arr, sequences_per_batch, chars_per_sequence):\n",
    "    batch_size = sequences_per_batch * chars_per_sequence\n",
    "    number_of_batches = len(encodings_arr)//batch_size\n",
    "    \n",
    "    # Keep only enough characters to make full batches\n",
    "    encodings_arr = encodings_arr[:number_of_batches * batch_size]\n",
    "    \n",
    "    # Split the array into sequences by reshaping it into `sequences_per_batch` rows.\n",
    "    encodings_arr = encodings_arr.reshape((sequences_per_batch, -1))\n",
    "    \n",
    "    for n in range(0, encodings_arr.shape[1], chars_per_sequence):        \n",
    "        # The features\n",
    "        x = encodings_arr[:, n:n+chars_per_sequence]\n",
    "        \n",
    "        # The targets, shifted by one\n",
    "        y = np.zeros_like(x)\n",
    "        \n",
    "        try:\n",
    "            y[:, :-1], y[:, -1] = x[:, 1:], encodings_arr[:, n+chars_per_sequence]\n",
    "        except IndexError:\n",
    "            y[:, :-1], y[:, -1] = x[:, 1:], encodings_arr[:, 0]\n",
    "        \n",
    "        yield x, y"
   ]
  },
  {
   "cell_type": "markdown",
   "metadata": {
    "id": "UVfu3TPeuPlU",
    "pycharm": {
     "name": "#%% md\n"
    }
   },
   "source": [
    "#### Test the mini-batches generation"
   ]
  },
  {
   "cell_type": "code",
   "execution_count": 14,
   "metadata": {
    "colab": {
     "base_uri": "https://localhost:8080/"
    },
    "id": "5RV7g3posJ77",
    "outputId": "fe167ed4-96fb-4ede-fc73-79e349836455",
    "pycharm": {
     "name": "#%%\n"
    }
   },
   "outputs": [
    {
     "output_type": "stream",
     "name": "stdout",
     "text": [
      "Every mini-batch is a tuple of 2 arrays.\n",
      "First one contains features and in this case has shape (3, 100)\n",
      "Second one contains targets and in this case has shape (3, 100)\n"
     ]
    }
   ],
   "source": [
    "first_batch = next(get_batches(encoded_text, 3, 100))\n",
    "print(f'Every mini-batch is a tuple of {len(first_batch)} arrays.')\n",
    "print(f'First one contains features and in this case has shape {first_batch[0].shape}')\n",
    "print(f'Second one contains targets and in this case has shape {first_batch[1].shape}')"
   ]
  },
  {
   "cell_type": "code",
   "execution_count": 15,
   "metadata": {
    "colab": {
     "base_uri": "https://localhost:8080/"
    },
    "id": "uacfp0MMycF8",
    "outputId": "764f3706-8bd9-4e47-f523-b023acf2f7d6",
    "pycharm": {
     "name": "#%%\n"
    }
   },
   "outputs": [
    {
     "output_type": "stream",
     "name": "stdout",
     "text": [
      "x\n",
      " [[54 24 56  4 10 16 42 24 10 24]\n",
      " [16 10 41 50 10 16  2 35 47 43]\n",
      " [ 4 52 16 62  5 33 41 50 21 21]]\n",
      "\n",
      "y\n",
      " [[24 56  4 10 16 42 24 10 24 29]\n",
      " [10 41 50 10 16  2 35 47 43 13]\n",
      " [52 16 62  5 33 41 50 21 21 16]]\n"
     ]
    }
   ],
   "source": [
    "x, y = first_batch\n",
    "print('x\\n', x[:10, :10])\n",
    "print('\\ny\\n', y[:10, :10])"
   ]
  },
  {
   "cell_type": "markdown",
   "metadata": {
    "id": "p5NJ0QTRycF9",
    "pycharm": {
     "name": "#%% md\n"
    }
   },
   "source": [
    "The data is correctly shifted over one step for `y`."
   ]
  },
  {
   "cell_type": "markdown",
   "metadata": {
    "id": "65etXbJ0ycF9",
    "pycharm": {
     "name": "#%% md\n"
    }
   },
   "source": [
    "---\n",
    "## Model definition"
   ]
  },
  {
   "cell_type": "code",
   "execution_count": 16,
   "metadata": {
    "id": "PoanYVyPycF-",
    "pycharm": {
     "name": "#%%\n"
    }
   },
   "outputs": [],
   "source": [
    "class CharRNN(nn.Module):\n",
    "    def __init__(self, n_hidden=256, n_layers=2, drop_prob=0.5):\n",
    "        super().__init__()\n",
    "        self.n_layers = n_layers\n",
    "        self.n_hidden = n_hidden\n",
    "\n",
    "        char_embedding_size = len(int2char) # size of the one-hot vectors representing characters\n",
    "        self.lstm = nn.LSTM(char_embedding_size, n_hidden, n_layers, dropout=drop_prob, batch_first=True)\n",
    "        self.dropout = nn.Dropout(drop_prob)\n",
    "        self.fc = nn.Linear(n_hidden, char_embedding_size)\n",
    "        \n",
    "        self.init_weights()\n",
    "      \n",
    "    \n",
    "    def forward(self, x, hc):\n",
    "        # Get x, and the new hidden state (h, c) from the lstm\n",
    "        x, (h, c) = self.lstm(x, hc)\n",
    "        \n",
    "        x = self.dropout(x)\n",
    "        \n",
    "        # Stack up LSTM outputs\n",
    "        x = x.reshape(x.size()[0] * x.size()[1], self.n_hidden)\n",
    "        \n",
    "        x = self.fc(x)\n",
    "        \n",
    "        # Return x and the hidden state (h, c)\n",
    "        return x, (h, c)\n",
    "    \n",
    "    \n",
    "    def predict(self, char, h=None, cuda=False, top_k=None):\n",
    "        ''' Given a character and the hidden state, predict the next character.\n",
    "        \n",
    "            Returns the predicted character and the new hidden state.\n",
    "        '''\n",
    "        if cuda:\n",
    "            self.cuda()\n",
    "        else:\n",
    "            self.cpu()\n",
    "        \n",
    "        if h is None:\n",
    "            h = self.init_hidden(1)\n",
    "        \n",
    "        x = np.array([[to_one_hot(char2int[char])]], dtype=np.float32)\n",
    "        \n",
    "        inputs = torch.from_numpy(x)\n",
    "        \n",
    "        if cuda:\n",
    "            inputs = inputs.cuda()\n",
    "        \n",
    "        h = tuple([h_item.data for h_item in h])\n",
    "        out, h = self.forward(inputs, h)\n",
    "\n",
    "        p = F.softmax(out, dim=1).data\n",
    "        \n",
    "        if cuda:\n",
    "            p = p.cpu()\n",
    "        \n",
    "        if top_k is None:\n",
    "            top_ch = np.arange(len(int2char))\n",
    "        else:\n",
    "            p, top_ch = p.topk(top_k)\n",
    "            top_ch = top_ch.numpy().squeeze()\n",
    "        \n",
    "        p = p.numpy().squeeze()\n",
    "        \n",
    "        char = np.random.choice(top_ch, p=p/p.sum())\n",
    "            \n",
    "        return int2char[char], h\n",
    "    \n",
    "    def init_weights(self):\n",
    "        self.fc.bias.data.fill_(0)\n",
    "        self.fc.weight.data.uniform_(-1, 1)\n",
    "        \n",
    "    def init_hidden(self, n_seqs):\n",
    "        ''' Initializes hidden state '''\n",
    "        # Create two new tensors with sizes n_layers x n_seqs x n_hidden,\n",
    "        # initialized to zero, for hidden state and cell state of LSTM\n",
    "        weight = next(self.parameters()).data\n",
    "        return (weight.new(self.n_layers, n_seqs, self.n_hidden).zero_(),\n",
    "                weight.new(self.n_layers, n_seqs, self.n_hidden).zero_())\n",
    "        "
   ]
  },
  {
   "cell_type": "markdown",
   "metadata": {
    "id": "kMIfAIVzycGC",
    "pycharm": {
     "name": "#%% md\n"
    }
   },
   "source": [
    "## Sampling\n",
    "\n",
    "To sample from the trained model, we pass in a character and have the network predict the next character. Then we take that character, pass it back in, and get another predicted character. By keeping doing this we'll generate a bunch of text.\n",
    "\n",
    "### Top K sampling\n",
    "\n",
    "Our predictions come from a categorical probability distribution over all the possible characters. We can make the sample text and make it more reasonable to handle (with less variables) by only considering some $K$ most probable characters. This will prevent the network from giving us completely absurd characters while allowing it to introduce some noise and randomness into the sampled text.\n",
    "\n",
    "In general the first bunch of characters will be a little rough since it hasn't built up a long history of characters to predict from."
   ]
  },
  {
   "cell_type": "code",
   "execution_count": 17,
   "metadata": {
    "id": "gbzwujN-ycGC",
    "pycharm": {
     "name": "#%%\n"
    }
   },
   "outputs": [],
   "source": [
    "def generate_sample(net, sample_length, prime='The ', top_k=None):\n",
    "    cuda = torch.cuda.is_available()\n",
    "    if cuda:\n",
    "        net.cuda()\n",
    "    else:\n",
    "        net.cpu()\n",
    "\n",
    "    net.eval()\n",
    "    \n",
    "    chars = [ch for ch in prime]\n",
    "    \n",
    "    h = net.init_hidden(1)\n",
    "    for ch in prime:\n",
    "        char, h = net.predict(ch, h, cuda=cuda, top_k=top_k)\n",
    "\n",
    "    chars.append(char)\n",
    "    \n",
    "    for ii in range(sample_length):\n",
    "        char, h = net.predict(chars[-1], h, cuda=cuda, top_k=top_k)\n",
    "        chars.append(char)\n",
    "\n",
    "    return ''.join(chars)"
   ]
  },
  {
   "cell_type": "markdown",
   "metadata": {
    "id": "3XWWejkPycF_",
    "pycharm": {
     "name": "#%% md\n"
    }
   },
   "source": [
    "## Network training and evaluation"
   ]
  },
  {
   "cell_type": "code",
   "execution_count": 18,
   "metadata": {
    "id": "B9-vNUbv5BF2",
    "pycharm": {
     "name": "#%%\n"
    }
   },
   "outputs": [],
   "source": [
    "EPOCHS = 25\n",
    "N_SEQS = 128\n",
    "N_STEPS = 100\n",
    "LR = 0.001\n",
    "CLIP = 5  # gradient clipping\n",
    "CUDA = torch.cuda.is_available()\n",
    "\n",
    "criterion = nn.CrossEntropyLoss()\n",
    "\n",
    "def create_and_train_model():\n",
    "  net = CharRNN(n_hidden=512, n_layers=2)\n",
    "  print(net, '\\n')\n",
    "\n",
    "  net.train()\n",
    "  opt = torch.optim.Adam(net.parameters(), lr=LR)\n",
    "\n",
    "  if CUDA:\n",
    "      net.cuda()\n",
    "\n",
    "  chart_train_losses = []\n",
    "  chart_val_losses = []\n",
    "  chart_val_f1_bert_scores = []\n",
    "  chart_val_bleu_scores = []\n",
    "\n",
    "  train_counter = 0\n",
    "  for e in range(EPOCHS):\n",
    "      h = net.init_hidden(N_SEQS)\n",
    "\n",
    "      for x, y in get_batches(train_data, N_SEQS, N_STEPS):\n",
    "          train_counter += 1\n",
    "          net.train()\n",
    "          \n",
    "          # One-hot encode our data and make them Torch tensors\n",
    "          x = np.array([\n",
    "              [to_one_hot(c) for c in seq] for seq in x\n",
    "          ], dtype=np.float32)\n",
    "          inputs, targets = torch.from_numpy(x), torch.from_numpy(y)\n",
    "          \n",
    "          if CUDA:\n",
    "              inputs, targets = inputs.cuda(), targets.cuda()\n",
    "\n",
    "          # Creating new variables for the hidden state, otherwise\n",
    "          # we'd backprop through the entire training history\n",
    "          h = tuple([each.data for each in h])\n",
    "\n",
    "          net.zero_grad()\n",
    "          \n",
    "          output, h = net.forward(inputs, h)\n",
    "          \n",
    "          loss = criterion(\n",
    "              output,\n",
    "              targets.view(N_SEQS*N_STEPS).type(torch.cuda.LongTensor if CUDA else torch.LongTensor)\n",
    "          )\n",
    "\n",
    "          loss.backward()\n",
    "          \n",
    "          # `clip_grad_norm` helps prevent the exploding gradient problem in RNNs / LSTMs.\n",
    "          nn.utils.clip_grad_norm_(net.parameters(), CLIP)\n",
    "\n",
    "          opt.step()\n",
    "          \n",
    "          if train_counter % 25 == 0:\n",
    "\n",
    "              # Get validation loss\n",
    "              val_h = net.init_hidden(N_SEQS)\n",
    "              val_losses = []\n",
    "              for x, y in get_batches(val_data, N_SEQS, N_STEPS):\n",
    "                  # One-hot encode our data and make them Torch tensors\n",
    "                  x = np.array([\n",
    "                      [to_one_hot(c) for c in seq] for seq in x\n",
    "                  ], dtype=np.float32)\n",
    "                  x, y = torch.from_numpy(x), torch.from_numpy(y)\n",
    "                  \n",
    "                  val_h = tuple([each.data for each in val_h])\n",
    "                  \n",
    "                  inputs, targets = x, y\n",
    "                  if CUDA:\n",
    "                      inputs, targets = inputs.cuda(), targets.cuda()\n",
    "\n",
    "                  output, val_h = net.forward(inputs, val_h)\n",
    "                  val_loss = criterion(\n",
    "                      output,\n",
    "                      targets.view(N_SEQS*N_STEPS).type(torch.cuda.LongTensor if CUDA else torch.LongTensor)\n",
    "                  )\n",
    "              \n",
    "                  val_losses.append(val_loss.item())\n",
    "              \n",
    "              # Let's divide the text into chunks and see how the model performs at predicting the next chunk.\n",
    "              test_text = ''.join([int2char[n] for n in test_data])\n",
    "              test_text = test_text[:500]  # for performance reasons\n",
    "\n",
    "              chunk_size = 100\n",
    "              number_of_chunks = len(test_text)//chunk_size\n",
    "\n",
    "              val_f1_bert_scores = []\n",
    "              val_bleu_scores = []\n",
    "              chunks = [test_text[i:i+chunk_size] for i in range(0, number_of_chunks*chunk_size, chunk_size)]\n",
    "              for k in range(len(chunks)-1):\n",
    "                  predicted_text = generate_sample(net, chunk_size, prime=''.join(chunks[:k+1]))\n",
    "                  predicted_text = predicted_text[-chunk_size:]\n",
    "                  target_text = chunks[k+1]\n",
    "                  # Calculate metrics for comparing target and predicted text\n",
    "                  val_f1_bert_scores.append(\n",
    "                      bert_score([predicted_text], [target_text])['f1']\n",
    "                  )\n",
    "                  val_bleu_scores.append(\n",
    "                      sentence_bleu([predicted_text], target_text, weights = (0.5, 0.5))\n",
    "                  )\n",
    "\n",
    "              chart_train_losses.append(loss.item())\n",
    "              chart_val_losses.append(np.mean(val_losses))\n",
    "              chart_val_f1_bert_scores.append(np.mean(val_f1_bert_scores))\n",
    "              chart_val_bleu_scores.append(np.mean(val_bleu_scores))\n",
    "              print(\"Epoch: {}/{}...\".format(e+1, EPOCHS),\n",
    "                    \"Loss: {:.4f}...\".format(loss.item()),\n",
    "                    \"Val Loss: {:.4f}...\".format(np.mean(val_losses)),\n",
    "                    \"Val BERTScore: {:.4f}...\".format(np.mean(val_f1_bert_scores)),\n",
    "                    \"Val BERTScore std: {:.4f}\".format(np.std(val_f1_bert_scores)),\n",
    "                    \"Val BLEU score: {:.4f}...\".format(np.mean(val_bleu_scores)),\n",
    "                    \"Val BLEU score std: {:.4f}\".format(np.std(val_bleu_scores)))\n",
    "\n",
    "  print('')\n",
    "  fig, ax = plt.subplots()\n",
    "  ax.plot(chart_train_losses, label='Train loss')\n",
    "  ax.plot(chart_val_losses, label='Val loss')\n",
    "  ax.legend()\n",
    "  plt.show()\n",
    "\n",
    "  fig, ax = plt.subplots()\n",
    "  ax.plot(chart_val_f1_bert_scores, label='Val BERTScore')\n",
    "  ax.legend()\n",
    "  plt.show()\n",
    "\n",
    "  fig, ax = plt.subplots()\n",
    "  ax.plot(chart_val_bleu_scores, label='Val BLEU score')\n",
    "  ax.legend()\n",
    "  plt.show()\n",
    "\n",
    "  return net"
   ]
  },
  {
   "cell_type": "code",
   "execution_count": 19,
   "metadata": {
    "id": "4i5DpUly6Vpy",
    "pycharm": {
     "name": "#%%\n"
    }
   },
   "outputs": [],
   "source": [
    "def eval_trained_model(net):\n",
    "  net.eval()\n",
    "\n",
    "  test_h = net.init_hidden(N_SEQS)\n",
    "  test_losses = []\n",
    "  for x, y in get_batches(test_data, N_SEQS, N_STEPS):\n",
    "      # One-hot encode our data and make them Torch tensors\n",
    "      x = np.array([\n",
    "          [to_one_hot(c) for c in seq] for seq in x\n",
    "      ], dtype=np.float32)\n",
    "      x, y = torch.from_numpy(x), torch.from_numpy(y)\n",
    "      \n",
    "      test_h = tuple([each.data for each in test_h])\n",
    "      \n",
    "      inputs, targets = x, y\n",
    "      if CUDA:\n",
    "          inputs, targets = inputs.cuda(), targets.cuda()\n",
    "\n",
    "      output, test_h = net.forward(inputs, test_h)\n",
    "      test_loss = criterion(\n",
    "          output,\n",
    "          targets.view(N_SEQS*N_STEPS).type(torch.cuda.LongTensor if CUDA else torch.LongTensor)\n",
    "      )\n",
    "\n",
    "      test_losses.append(test_loss.item())\n",
    "  \n",
    "  print(f'\\nTest Loss: {round(np.mean(test_losses), 4)}')"
   ]
  },
  {
   "cell_type": "code",
   "execution_count": 20,
   "metadata": {
    "colab": {
     "base_uri": "https://localhost:8080/",
     "height": 1000
    },
    "id": "bOsuboWKycF_",
    "outputId": "8c4e23cb-c82a-4597-a445-fd2cc32711c7",
    "pycharm": {
     "name": "#%%\n"
    }
   },
   "outputs": [
    {
     "output_type": "stream",
     "name": "stdout",
     "text": [
      "CharRNN(\n",
      "  (lstm): LSTM(65, 512, num_layers=2, batch_first=True, dropout=0.5)\n",
      "  (dropout): Dropout(p=0.5, inplace=False)\n",
      "  (fc): Linear(in_features=512, out_features=65, bias=True)\n",
      ") \n",
      "\n",
      "Epoch: 1/25... Loss: 3.2096... Val Loss: 3.1991... Val BERTScore: 0.9691... Val BERTScore std: 0.0044 Val BLEU score: 0.3231... Val BLEU score std: 0.0160\n",
      "Epoch: 1/25... Loss: 2.7798... Val Loss: 2.7791... Val BERTScore: 0.9731... Val BERTScore std: 0.0046 Val BLEU score: 0.3536... Val BLEU score std: 0.0334\n",
      "Epoch: 2/25... Loss: 2.5034... Val Loss: 2.5477... Val BERTScore: 0.9741... Val BERTScore std: 0.0042 Val BLEU score: 0.4118... Val BLEU score std: 0.0700\n",
      "Epoch: 2/25... Loss: 2.4090... Val Loss: 2.4508... Val BERTScore: 0.9751... Val BERTScore std: 0.0050 Val BLEU score: 0.4037... Val BLEU score std: 0.0560\n",
      "Epoch: 2/25... Loss: 2.3464... Val Loss: 2.3891... Val BERTScore: 0.9759... Val BERTScore std: 0.0038 Val BLEU score: 0.4047... Val BLEU score std: 0.0616\n",
      "Epoch: 3/25... Loss: 2.2734... Val Loss: 2.3581... Val BERTScore: 0.9754... Val BERTScore std: 0.0053 Val BLEU score: 0.3941... Val BLEU score std: 0.0088\n",
      "Epoch: 3/25... Loss: 2.2312... Val Loss: 2.2995... Val BERTScore: 0.9743... Val BERTScore std: 0.0040 Val BLEU score: 0.3888... Val BLEU score std: 0.0433\n",
      "Epoch: 3/25... Loss: 2.1830... Val Loss: 2.2666... Val BERTScore: 0.9762... Val BERTScore std: 0.0041 Val BLEU score: 0.4440... Val BLEU score std: 0.0283\n",
      "Epoch: 4/25... Loss: 2.1277... Val Loss: 2.2289... Val BERTScore: 0.9760... Val BERTScore std: 0.0052 Val BLEU score: 0.4375... Val BLEU score std: 0.0193\n",
      "Epoch: 4/25... Loss: 2.1119... Val Loss: 2.1939... Val BERTScore: 0.9742... Val BERTScore std: 0.0052 Val BLEU score: 0.4182... Val BLEU score std: 0.0371\n",
      "Epoch: 4/25... Loss: 2.0400... Val Loss: 2.1741... Val BERTScore: 0.9743... Val BERTScore std: 0.0031 Val BLEU score: 0.3955... Val BLEU score std: 0.0502\n",
      "Epoch: 5/25... Loss: 2.0236... Val Loss: 2.1632... Val BERTScore: 0.9751... Val BERTScore std: 0.0040 Val BLEU score: 0.4191... Val BLEU score std: 0.0125\n",
      "Epoch: 5/25... Loss: 2.0157... Val Loss: 2.1128... Val BERTScore: 0.9738... Val BERTScore std: 0.0041 Val BLEU score: 0.3906... Val BLEU score std: 0.0065\n",
      "Epoch: 6/25... Loss: 1.9734... Val Loss: 2.0861... Val BERTScore: 0.9760... Val BERTScore std: 0.0050 Val BLEU score: 0.4116... Val BLEU score std: 0.0294\n",
      "Epoch: 6/25... Loss: 1.9478... Val Loss: 2.0671... Val BERTScore: 0.9749... Val BERTScore std: 0.0054 Val BLEU score: 0.4270... Val BLEU score std: 0.0348\n",
      "Epoch: 6/25... Loss: 1.9158... Val Loss: 2.0380... Val BERTScore: 0.9758... Val BERTScore std: 0.0044 Val BLEU score: 0.4091... Val BLEU score std: 0.0255\n",
      "Epoch: 7/25... Loss: 1.8871... Val Loss: 2.0263... Val BERTScore: 0.9738... Val BERTScore std: 0.0035 Val BLEU score: 0.4344... Val BLEU score std: 0.0414\n",
      "Epoch: 7/25... Loss: 1.8721... Val Loss: 1.9958... Val BERTScore: 0.9742... Val BERTScore std: 0.0045 Val BLEU score: 0.4234... Val BLEU score std: 0.0219\n",
      "Epoch: 7/25... Loss: 1.8485... Val Loss: 1.9811... Val BERTScore: 0.9750... Val BERTScore std: 0.0050 Val BLEU score: 0.3804... Val BLEU score std: 0.0474\n",
      "Epoch: 8/25... Loss: 1.8399... Val Loss: 1.9668... Val BERTScore: 0.9748... Val BERTScore std: 0.0037 Val BLEU score: 0.4237... Val BLEU score std: 0.0155\n",
      "Epoch: 8/25... Loss: 1.8464... Val Loss: 1.9447... Val BERTScore: 0.9747... Val BERTScore std: 0.0037 Val BLEU score: 0.4384... Val BLEU score std: 0.0295\n",
      "Epoch: 8/25... Loss: 1.7944... Val Loss: 1.9345... Val BERTScore: 0.9744... Val BERTScore std: 0.0047 Val BLEU score: 0.3972... Val BLEU score std: 0.0482\n",
      "Epoch: 9/25... Loss: 1.7494... Val Loss: 1.9294... Val BERTScore: 0.9731... Val BERTScore std: 0.0029 Val BLEU score: 0.4227... Val BLEU score std: 0.0525\n",
      "Epoch: 9/25... Loss: 1.7753... Val Loss: 1.8922... Val BERTScore: 0.9745... Val BERTScore std: 0.0034 Val BLEU score: 0.4463... Val BLEU score std: 0.0334\n",
      "Epoch: 10/25... Loss: 1.7667... Val Loss: 1.8980... Val BERTScore: 0.9766... Val BERTScore std: 0.0029 Val BLEU score: 0.4371... Val BLEU score std: 0.0657\n",
      "Epoch: 10/25... Loss: 1.6981... Val Loss: 1.8746... Val BERTScore: 0.9742... Val BERTScore std: 0.0058 Val BLEU score: 0.4562... Val BLEU score std: 0.0369\n",
      "Epoch: 10/25... Loss: 1.7281... Val Loss: 1.8537... Val BERTScore: 0.9748... Val BERTScore std: 0.0045 Val BLEU score: 0.4173... Val BLEU score std: 0.0324\n",
      "Epoch: 11/25... Loss: 1.7166... Val Loss: 1.8478... Val BERTScore: 0.9750... Val BERTScore std: 0.0034 Val BLEU score: 0.4400... Val BLEU score std: 0.0126\n",
      "Epoch: 11/25... Loss: 1.7065... Val Loss: 1.8406... Val BERTScore: 0.9731... Val BERTScore std: 0.0039 Val BLEU score: 0.3909... Val BLEU score std: 0.0635\n",
      "Epoch: 11/25... Loss: 1.6685... Val Loss: 1.8276... Val BERTScore: 0.9735... Val BERTScore std: 0.0047 Val BLEU score: 0.3840... Val BLEU score std: 0.0458\n",
      "Epoch: 12/25... Loss: 1.6516... Val Loss: 1.8176... Val BERTScore: 0.9745... Val BERTScore std: 0.0042 Val BLEU score: 0.4392... Val BLEU score std: 0.0703\n",
      "Epoch: 12/25... Loss: 1.6739... Val Loss: 1.8025... Val BERTScore: 0.9753... Val BERTScore std: 0.0042 Val BLEU score: 0.4430... Val BLEU score std: 0.0609\n",
      "Epoch: 12/25... Loss: 1.6201... Val Loss: 1.8014... Val BERTScore: 0.9754... Val BERTScore std: 0.0047 Val BLEU score: 0.4382... Val BLEU score std: 0.0329\n",
      "Epoch: 13/25... Loss: 1.6003... Val Loss: 1.7973... Val BERTScore: 0.9745... Val BERTScore std: 0.0052 Val BLEU score: 0.4467... Val BLEU score std: 0.0411\n",
      "Epoch: 13/25... Loss: 1.6063... Val Loss: 1.7822... Val BERTScore: 0.9732... Val BERTScore std: 0.0057 Val BLEU score: 0.4333... Val BLEU score std: 0.0086\n",
      "Epoch: 14/25... Loss: 1.5911... Val Loss: 1.7741... Val BERTScore: 0.9756... Val BERTScore std: 0.0034 Val BLEU score: 0.4417... Val BLEU score std: 0.0250\n",
      "Epoch: 14/25... Loss: 1.5976... Val Loss: 1.7678... Val BERTScore: 0.9751... Val BERTScore std: 0.0034 Val BLEU score: 0.4490... Val BLEU score std: 0.0596\n",
      "Epoch: 14/25... Loss: 1.5721... Val Loss: 1.7606... Val BERTScore: 0.9741... Val BERTScore std: 0.0042 Val BLEU score: 0.3909... Val BLEU score std: 0.0589\n",
      "Epoch: 15/25... Loss: 1.5703... Val Loss: 1.7545... Val BERTScore: 0.9740... Val BERTScore std: 0.0045 Val BLEU score: 0.4196... Val BLEU score std: 0.0084\n",
      "Epoch: 15/25... Loss: 1.5851... Val Loss: 1.7478... Val BERTScore: 0.9762... Val BERTScore std: 0.0044 Val BLEU score: 0.4168... Val BLEU score std: 0.0247\n",
      "Epoch: 15/25... Loss: 1.6152... Val Loss: 1.7419... Val BERTScore: 0.9749... Val BERTScore std: 0.0035 Val BLEU score: 0.4139... Val BLEU score std: 0.0154\n",
      "Epoch: 16/25... Loss: 1.5719... Val Loss: 1.7392... Val BERTScore: 0.9751... Val BERTScore std: 0.0049 Val BLEU score: 0.4200... Val BLEU score std: 0.0337\n",
      "Epoch: 16/25... Loss: 1.5643... Val Loss: 1.7338... Val BERTScore: 0.9748... Val BERTScore std: 0.0040 Val BLEU score: 0.3972... Val BLEU score std: 0.0658\n",
      "Epoch: 16/25... Loss: 1.5414... Val Loss: 1.7294... Val BERTScore: 0.9756... Val BERTScore std: 0.0059 Val BLEU score: 0.4111... Val BLEU score std: 0.0172\n",
      "Epoch: 17/25... Loss: 1.5176... Val Loss: 1.7248... Val BERTScore: 0.9754... Val BERTScore std: 0.0055 Val BLEU score: 0.4345... Val BLEU score std: 0.0166\n",
      "Epoch: 17/25... Loss: 1.5373... Val Loss: 1.7115... Val BERTScore: 0.9738... Val BERTScore std: 0.0034 Val BLEU score: 0.4380... Val BLEU score std: 0.0484\n",
      "Epoch: 18/25... Loss: 1.5094... Val Loss: 1.7100... Val BERTScore: 0.9744... Val BERTScore std: 0.0059 Val BLEU score: 0.4003... Val BLEU score std: 0.0270\n",
      "Epoch: 18/25... Loss: 1.4777... Val Loss: 1.7043... Val BERTScore: 0.9744... Val BERTScore std: 0.0036 Val BLEU score: 0.4509... Val BLEU score std: 0.0245\n",
      "Epoch: 18/25... Loss: 1.4771... Val Loss: 1.7046... Val BERTScore: 0.9720... Val BERTScore std: 0.0042 Val BLEU score: 0.3943... Val BLEU score std: 0.0181\n",
      "Epoch: 19/25... Loss: 1.5130... Val Loss: 1.6967... Val BERTScore: 0.9726... Val BERTScore std: 0.0039 Val BLEU score: 0.3826... Val BLEU score std: 0.0396\n",
      "Epoch: 19/25... Loss: 1.5025... Val Loss: 1.6969... Val BERTScore: 0.9741... Val BERTScore std: 0.0048 Val BLEU score: 0.4224... Val BLEU score std: 0.0583\n",
      "Epoch: 19/25... Loss: 1.5010... Val Loss: 1.6844... Val BERTScore: 0.9742... Val BERTScore std: 0.0034 Val BLEU score: 0.4455... Val BLEU score std: 0.0149\n",
      "Epoch: 20/25... Loss: 1.4878... Val Loss: 1.6851... Val BERTScore: 0.9717... Val BERTScore std: 0.0048 Val BLEU score: 0.3906... Val BLEU score std: 0.0451\n",
      "Epoch: 20/25... Loss: 1.4970... Val Loss: 1.6838... Val BERTScore: 0.9745... Val BERTScore std: 0.0051 Val BLEU score: 0.4713... Val BLEU score std: 0.0171\n",
      "Epoch: 20/25... Loss: 1.4616... Val Loss: 1.6837... Val BERTScore: 0.9729... Val BERTScore std: 0.0046 Val BLEU score: 0.4044... Val BLEU score std: 0.0459\n",
      "Epoch: 21/25... Loss: 1.4657... Val Loss: 1.6740... Val BERTScore: 0.9743... Val BERTScore std: 0.0045 Val BLEU score: 0.4430... Val BLEU score std: 0.0570\n",
      "Epoch: 21/25... Loss: 1.4462... Val Loss: 1.6712... Val BERTScore: 0.9734... Val BERTScore std: 0.0033 Val BLEU score: 0.4140... Val BLEU score std: 0.0435\n",
      "Epoch: 22/25... Loss: 1.4810... Val Loss: 1.6685... Val BERTScore: 0.9742... Val BERTScore std: 0.0054 Val BLEU score: 0.4371... Val BLEU score std: 0.0306\n",
      "Epoch: 22/25... Loss: 1.4439... Val Loss: 1.6658... Val BERTScore: 0.9737... Val BERTScore std: 0.0041 Val BLEU score: 0.4052... Val BLEU score std: 0.0378\n",
      "Epoch: 22/25... Loss: 1.4550... Val Loss: 1.6558... Val BERTScore: 0.9720... Val BERTScore std: 0.0062 Val BLEU score: 0.4197... Val BLEU score std: 0.0390\n",
      "Epoch: 23/25... Loss: 1.4754... Val Loss: 1.6631... Val BERTScore: 0.9749... Val BERTScore std: 0.0052 Val BLEU score: 0.4076... Val BLEU score std: 0.0319\n",
      "Epoch: 23/25... Loss: 1.4370... Val Loss: 1.6547... Val BERTScore: 0.9748... Val BERTScore std: 0.0040 Val BLEU score: 0.4136... Val BLEU score std: 0.0571\n",
      "Epoch: 23/25... Loss: 1.4115... Val Loss: 1.6558... Val BERTScore: 0.9737... Val BERTScore std: 0.0039 Val BLEU score: 0.4228... Val BLEU score std: 0.0421\n",
      "Epoch: 24/25... Loss: 1.4444... Val Loss: 1.6499... Val BERTScore: 0.9736... Val BERTScore std: 0.0039 Val BLEU score: 0.4624... Val BLEU score std: 0.0348\n",
      "Epoch: 24/25... Loss: 1.4494... Val Loss: 1.6509... Val BERTScore: 0.9737... Val BERTScore std: 0.0040 Val BLEU score: 0.4412... Val BLEU score std: 0.0485\n",
      "Epoch: 24/25... Loss: 1.4184... Val Loss: 1.6557... Val BERTScore: 0.9749... Val BERTScore std: 0.0041 Val BLEU score: 0.4253... Val BLEU score std: 0.0289\n",
      "Epoch: 25/25... Loss: 1.3873... Val Loss: 1.6534... Val BERTScore: 0.9707... Val BERTScore std: 0.0054 Val BLEU score: 0.4157... Val BLEU score std: 0.0251\n",
      "Epoch: 25/25... Loss: 1.3964... Val Loss: 1.6428... Val BERTScore: 0.9728... Val BERTScore std: 0.0041 Val BLEU score: 0.4222... Val BLEU score std: 0.0475\n",
      "Epoch: 25/25... Loss: 1.4568... Val Loss: 1.6398... Val BERTScore: 0.9750... Val BERTScore std: 0.0029 Val BLEU score: 0.4153... Val BLEU score std: 0.0395\n",
      "\n"
     ]
    },
    {
     "output_type": "display_data",
     "data": {
      "text/plain": [
       "<Figure size 432x288 with 1 Axes>"
      ],
      "image/png": "[encoded data removed]"
     },
     "metadata": {
      "needs_background": "light"
     }
    },
    {
     "output_type": "display_data",
     "data": {
      "text/plain": [
       "<Figure size 432x288 with 1 Axes>"
      ],
      "image/png": "[encoded data removed]"
     },
     "metadata": {
      "needs_background": "light"
     }
    },
    {
     "output_type": "display_data",
     "data": {
      "text/plain": [
       "<Figure size 432x288 with 1 Axes>"
      ],
      "image/png": "[encoded data removed]"
     },
     "metadata": {
      "needs_background": "light"
     }
    },
    {
     "output_type": "stream",
     "name": "stdout",
     "text": [
      "\n",
      "Test Loss: 1.8069\n"
     ]
    }
   ],
   "source": [
    "torch.manual_seed(0)\n",
    "net = create_and_train_model()\n",
    "eval_trained_model(net)"
   ]
  },
  {
   "cell_type": "code",
   "execution_count": 21,
   "metadata": {
    "id": "aDoxfFT-73sW",
    "colab": {
     "base_uri": "https://localhost:8080/",
     "height": 1000
    },
    "outputId": "3b3a3196-22b2-4073-a937-16f51979f2c8",
    "pycharm": {
     "name": "#%%\n"
    }
   },
   "outputs": [
    {
     "output_type": "stream",
     "name": "stdout",
     "text": [
      "CharRNN(\n",
      "  (lstm): LSTM(65, 512, num_layers=2, batch_first=True, dropout=0.5)\n",
      "  (dropout): Dropout(p=0.5, inplace=False)\n",
      "  (fc): Linear(in_features=512, out_features=65, bias=True)\n",
      ") \n",
      "\n",
      "Epoch: 1/25... Loss: 3.2073... Val Loss: 3.1957... Val BERTScore: 0.9695... Val BERTScore std: 0.0051 Val BLEU score: 0.2511... Val BLEU score std: 0.0082\n",
      "Epoch: 1/25... Loss: 2.7640... Val Loss: 2.7561... Val BERTScore: 0.9735... Val BERTScore std: 0.0046 Val BLEU score: 0.3597... Val BLEU score std: 0.0209\n",
      "Epoch: 2/25... Loss: 2.4998... Val Loss: 2.5401... Val BERTScore: 0.9737... Val BERTScore std: 0.0058 Val BLEU score: 0.4279... Val BLEU score std: 0.0074\n",
      "Epoch: 2/25... Loss: 2.4099... Val Loss: 2.4456... Val BERTScore: 0.9745... Val BERTScore std: 0.0044 Val BLEU score: 0.3820... Val BLEU score std: 0.0286\n",
      "Epoch: 2/25... Loss: 2.3511... Val Loss: 2.3835... Val BERTScore: 0.9743... Val BERTScore std: 0.0042 Val BLEU score: 0.3869... Val BLEU score std: 0.0289\n",
      "Epoch: 3/25... Loss: 2.2545... Val Loss: 2.3363... Val BERTScore: 0.9752... Val BERTScore std: 0.0041 Val BLEU score: 0.4002... Val BLEU score std: 0.0540\n",
      "Epoch: 3/25... Loss: 2.2088... Val Loss: 2.2825... Val BERTScore: 0.9744... Val BERTScore std: 0.0029 Val BLEU score: 0.4352... Val BLEU score std: 0.0150\n",
      "Epoch: 3/25... Loss: 2.1641... Val Loss: 2.2514... Val BERTScore: 0.9755... Val BERTScore std: 0.0049 Val BLEU score: 0.3880... Val BLEU score std: 0.0412\n",
      "Epoch: 4/25... Loss: 2.1170... Val Loss: 2.2156... Val BERTScore: 0.9762... Val BERTScore std: 0.0045 Val BLEU score: 0.4228... Val BLEU score std: 0.0115\n",
      "Epoch: 4/25... Loss: 2.0945... Val Loss: 2.1822... Val BERTScore: 0.9751... Val BERTScore std: 0.0061 Val BLEU score: 0.4287... Val BLEU score std: 0.0286\n",
      "Epoch: 4/25... Loss: 2.0295... Val Loss: 2.1476... Val BERTScore: 0.9748... Val BERTScore std: 0.0031 Val BLEU score: 0.4115... Val BLEU score std: 0.0639\n",
      "Epoch: 5/25... Loss: 1.9653... Val Loss: 2.1355... Val BERTScore: 0.9732... Val BERTScore std: 0.0047 Val BLEU score: 0.4101... Val BLEU score std: 0.0524\n",
      "Epoch: 5/25... Loss: 1.9888... Val Loss: 2.1172... Val BERTScore: 0.9712... Val BERTScore std: 0.0012 Val BLEU score: 0.4035... Val BLEU score std: 0.0368\n",
      "Epoch: 6/25... Loss: 1.9650... Val Loss: 2.0695... Val BERTScore: 0.9745... Val BERTScore std: 0.0050 Val BLEU score: 0.4025... Val BLEU score std: 0.0169\n",
      "Epoch: 6/25... Loss: 1.9217... Val Loss: 2.0508... Val BERTScore: 0.9762... Val BERTScore std: 0.0046 Val BLEU score: 0.4146... Val BLEU score std: 0.0295\n",
      "Epoch: 6/25... Loss: 1.8942... Val Loss: 2.0379... Val BERTScore: 0.9751... Val BERTScore std: 0.0051 Val BLEU score: 0.4142... Val BLEU score std: 0.0517\n",
      "Epoch: 7/25... Loss: 1.8548... Val Loss: 2.0117... Val BERTScore: 0.9731... Val BERTScore std: 0.0049 Val BLEU score: 0.3915... Val BLEU score std: 0.0470\n",
      "Epoch: 7/25... Loss: 1.8515... Val Loss: 1.9867... Val BERTScore: 0.9748... Val BERTScore std: 0.0050 Val BLEU score: 0.4307... Val BLEU score std: 0.0193\n",
      "Epoch: 7/25... Loss: 1.8195... Val Loss: 1.9642... Val BERTScore: 0.9756... Val BERTScore std: 0.0045 Val BLEU score: 0.4174... Val BLEU score std: 0.0182\n",
      "Epoch: 8/25... Loss: 1.8215... Val Loss: 1.9366... Val BERTScore: 0.9752... Val BERTScore std: 0.0035 Val BLEU score: 0.4596... Val BLEU score std: 0.0270\n",
      "Epoch: 8/25... Loss: 1.7964... Val Loss: 1.9223... Val BERTScore: 0.9763... Val BERTScore std: 0.0058 Val BLEU score: 0.4181... Val BLEU score std: 0.0286\n",
      "Epoch: 8/25... Loss: 1.7804... Val Loss: 1.9168... Val BERTScore: 0.9751... Val BERTScore std: 0.0031 Val BLEU score: 0.4062... Val BLEU score std: 0.0358\n",
      "Epoch: 9/25... Loss: 1.7327... Val Loss: 1.8975... Val BERTScore: 0.9744... Val BERTScore std: 0.0060 Val BLEU score: 0.4114... Val BLEU score std: 0.0405\n",
      "Epoch: 9/25... Loss: 1.7504... Val Loss: 1.8787... Val BERTScore: 0.9755... Val BERTScore std: 0.0054 Val BLEU score: 0.4120... Val BLEU score std: 0.0293\n",
      "Epoch: 10/25... Loss: 1.7338... Val Loss: 1.8664... Val BERTScore: 0.9741... Val BERTScore std: 0.0044 Val BLEU score: 0.4271... Val BLEU score std: 0.0146\n",
      "Epoch: 10/25... Loss: 1.6718... Val Loss: 1.8497... Val BERTScore: 0.9735... Val BERTScore std: 0.0048 Val BLEU score: 0.3850... Val BLEU score std: 0.0354\n",
      "Epoch: 10/25... Loss: 1.6980... Val Loss: 1.8489... Val BERTScore: 0.9742... Val BERTScore std: 0.0037 Val BLEU score: 0.3839... Val BLEU score std: 0.0244\n",
      "Epoch: 11/25... Loss: 1.7030... Val Loss: 1.8372... Val BERTScore: 0.9755... Val BERTScore std: 0.0056 Val BLEU score: 0.4579... Val BLEU score std: 0.0484\n",
      "Epoch: 11/25... Loss: 1.6897... Val Loss: 1.8172... Val BERTScore: 0.9715... Val BERTScore std: 0.0055 Val BLEU score: 0.4147... Val BLEU score std: 0.0317\n",
      "Epoch: 11/25... Loss: 1.6505... Val Loss: 1.8107... Val BERTScore: 0.9752... Val BERTScore std: 0.0042 Val BLEU score: 0.4321... Val BLEU score std: 0.0756\n",
      "Epoch: 12/25... Loss: 1.6336... Val Loss: 1.7991... Val BERTScore: 0.9738... Val BERTScore std: 0.0046 Val BLEU score: 0.4048... Val BLEU score std: 0.0646\n",
      "Epoch: 12/25... Loss: 1.6574... Val Loss: 1.7903... Val BERTScore: 0.9746... Val BERTScore std: 0.0045 Val BLEU score: 0.4455... Val BLEU score std: 0.0472\n",
      "Epoch: 12/25... Loss: 1.6000... Val Loss: 1.7847... Val BERTScore: 0.9736... Val BERTScore std: 0.0033 Val BLEU score: 0.4250... Val BLEU score std: 0.0281\n",
      "Epoch: 13/25... Loss: 1.5900... Val Loss: 1.7827... Val BERTScore: 0.9747... Val BERTScore std: 0.0043 Val BLEU score: 0.4121... Val BLEU score std: 0.0257\n",
      "Epoch: 13/25... Loss: 1.5882... Val Loss: 1.7661... Val BERTScore: 0.9740... Val BERTScore std: 0.0029 Val BLEU score: 0.4471... Val BLEU score std: 0.0343\n",
      "Epoch: 14/25... Loss: 1.5690... Val Loss: 1.7656... Val BERTScore: 0.9754... Val BERTScore std: 0.0045 Val BLEU score: 0.4442... Val BLEU score std: 0.0404\n",
      "Epoch: 14/25... Loss: 1.5823... Val Loss: 1.7543... Val BERTScore: 0.9754... Val BERTScore std: 0.0049 Val BLEU score: 0.4278... Val BLEU score std: 0.0373\n",
      "Epoch: 14/25... Loss: 1.5580... Val Loss: 1.7551... Val BERTScore: 0.9738... Val BERTScore std: 0.0051 Val BLEU score: 0.4697... Val BLEU score std: 0.0439\n",
      "Epoch: 15/25... Loss: 1.5513... Val Loss: 1.7375... Val BERTScore: 0.9744... Val BERTScore std: 0.0032 Val BLEU score: 0.3992... Val BLEU score std: 0.0282\n",
      "Epoch: 15/25... Loss: 1.5618... Val Loss: 1.7428... Val BERTScore: 0.9743... Val BERTScore std: 0.0039 Val BLEU score: 0.4181... Val BLEU score std: 0.0190\n",
      "Epoch: 15/25... Loss: 1.5992... Val Loss: 1.7333... Val BERTScore: 0.9745... Val BERTScore std: 0.0055 Val BLEU score: 0.4657... Val BLEU score std: 0.0686\n",
      "Epoch: 16/25... Loss: 1.5481... Val Loss: 1.7237... Val BERTScore: 0.9727... Val BERTScore std: 0.0060 Val BLEU score: 0.3675... Val BLEU score std: 0.0460\n",
      "Epoch: 16/25... Loss: 1.5616... Val Loss: 1.7202... Val BERTScore: 0.9739... Val BERTScore std: 0.0032 Val BLEU score: 0.4096... Val BLEU score std: 0.0317\n",
      "Epoch: 16/25... Loss: 1.5312... Val Loss: 1.7194... Val BERTScore: 0.9750... Val BERTScore std: 0.0045 Val BLEU score: 0.4292... Val BLEU score std: 0.0340\n",
      "Epoch: 17/25... Loss: 1.5057... Val Loss: 1.7066... Val BERTScore: 0.9746... Val BERTScore std: 0.0031 Val BLEU score: 0.4267... Val BLEU score std: 0.0257\n",
      "Epoch: 17/25... Loss: 1.5209... Val Loss: 1.7069... Val BERTScore: 0.9730... Val BERTScore std: 0.0035 Val BLEU score: 0.4160... Val BLEU score std: 0.0527\n",
      "Epoch: 18/25... Loss: 1.4963... Val Loss: 1.7067... Val BERTScore: 0.9752... Val BERTScore std: 0.0038 Val BLEU score: 0.4229... Val BLEU score std: 0.0493\n",
      "Epoch: 18/25... Loss: 1.4657... Val Loss: 1.6923... Val BERTScore: 0.9753... Val BERTScore std: 0.0043 Val BLEU score: 0.4628... Val BLEU score std: 0.0681\n",
      "Epoch: 18/25... Loss: 1.4633... Val Loss: 1.6929... Val BERTScore: 0.9736... Val BERTScore std: 0.0041 Val BLEU score: 0.4254... Val BLEU score std: 0.0433\n",
      "Epoch: 19/25... Loss: 1.5048... Val Loss: 1.6874... Val BERTScore: 0.9752... Val BERTScore std: 0.0059 Val BLEU score: 0.4509... Val BLEU score std: 0.0430\n",
      "Epoch: 19/25... Loss: 1.4894... Val Loss: 1.6877... Val BERTScore: 0.9737... Val BERTScore std: 0.0039 Val BLEU score: 0.4296... Val BLEU score std: 0.0241\n",
      "Epoch: 19/25... Loss: 1.4841... Val Loss: 1.6785... Val BERTScore: 0.9750... Val BERTScore std: 0.0037 Val BLEU score: 0.4258... Val BLEU score std: 0.0250\n",
      "Epoch: 20/25... Loss: 1.4680... Val Loss: 1.6759... Val BERTScore: 0.9756... Val BERTScore std: 0.0051 Val BLEU score: 0.4577... Val BLEU score std: 0.0313\n",
      "Epoch: 20/25... Loss: 1.4834... Val Loss: 1.6749... Val BERTScore: 0.9729... Val BERTScore std: 0.0064 Val BLEU score: 0.4103... Val BLEU score std: 0.0356\n",
      "Epoch: 20/25... Loss: 1.4495... Val Loss: 1.6774... Val BERTScore: 0.9726... Val BERTScore std: 0.0042 Val BLEU score: 0.4588... Val BLEU score std: 0.0309\n",
      "Epoch: 21/25... Loss: 1.4620... Val Loss: 1.6716... Val BERTScore: 0.9734... Val BERTScore std: 0.0041 Val BLEU score: 0.4244... Val BLEU score std: 0.0610\n",
      "Epoch: 21/25... Loss: 1.4352... Val Loss: 1.6657... Val BERTScore: 0.9746... Val BERTScore std: 0.0030 Val BLEU score: 0.4434... Val BLEU score std: 0.0641\n",
      "Epoch: 22/25... Loss: 1.4637... Val Loss: 1.6614... Val BERTScore: 0.9747... Val BERTScore std: 0.0052 Val BLEU score: 0.4536... Val BLEU score std: 0.0365\n",
      "Epoch: 22/25... Loss: 1.4297... Val Loss: 1.6602... Val BERTScore: 0.9712... Val BERTScore std: 0.0048 Val BLEU score: 0.3767... Val BLEU score std: 0.0273\n",
      "Epoch: 22/25... Loss: 1.4448... Val Loss: 1.6557... Val BERTScore: 0.9752... Val BERTScore std: 0.0046 Val BLEU score: 0.4101... Val BLEU score std: 0.0351\n",
      "Epoch: 23/25... Loss: 1.4615... Val Loss: 1.6572... Val BERTScore: 0.9728... Val BERTScore std: 0.0060 Val BLEU score: 0.4327... Val BLEU score std: 0.0444\n",
      "Epoch: 23/25... Loss: 1.4230... Val Loss: 1.6522... Val BERTScore: 0.9722... Val BERTScore std: 0.0047 Val BLEU score: 0.4233... Val BLEU score std: 0.0358\n",
      "Epoch: 23/25... Loss: 1.4041... Val Loss: 1.6537... Val BERTScore: 0.9748... Val BERTScore std: 0.0043 Val BLEU score: 0.4230... Val BLEU score std: 0.0435\n",
      "Epoch: 24/25... Loss: 1.4344... Val Loss: 1.6463... Val BERTScore: 0.9731... Val BERTScore std: 0.0047 Val BLEU score: 0.3986... Val BLEU score std: 0.0169\n",
      "Epoch: 24/25... Loss: 1.4328... Val Loss: 1.6516... Val BERTScore: 0.9732... Val BERTScore std: 0.0027 Val BLEU score: 0.3726... Val BLEU score std: 0.0266\n",
      "Epoch: 24/25... Loss: 1.3959... Val Loss: 1.6595... Val BERTScore: 0.9735... Val BERTScore std: 0.0055 Val BLEU score: 0.4261... Val BLEU score std: 0.0438\n",
      "Epoch: 25/25... Loss: 1.3728... Val Loss: 1.6542... Val BERTScore: 0.9752... Val BERTScore std: 0.0038 Val BLEU score: 0.4423... Val BLEU score std: 0.0292\n",
      "Epoch: 25/25... Loss: 1.3886... Val Loss: 1.6353... Val BERTScore: 0.9745... Val BERTScore std: 0.0035 Val BLEU score: 0.4169... Val BLEU score std: 0.0534\n",
      "Epoch: 25/25... Loss: 1.4507... Val Loss: 1.6420... Val BERTScore: 0.9749... Val BERTScore std: 0.0048 Val BLEU score: 0.4424... Val BLEU score std: 0.0150\n",
      "\n"
     ]
    },
    {
     "output_type": "display_data",
     "data": {
      "text/plain": [
       "<Figure size 432x288 with 1 Axes>"
      ],
      "image/png": "[encoded data removed]"
     },
     "metadata": {
      "needs_background": "light"
     }
    },
    {
     "output_type": "display_data",
     "data": {
      "text/plain": [
       "<Figure size 432x288 with 1 Axes>"
      ],
      "image/png": "[encoded data removed]"
     },
     "metadata": {
      "needs_background": "light"
     }
    },
    {
     "output_type": "display_data",
     "data": {
      "text/plain": [
       "<Figure size 432x288 with 1 Axes>"
      ],
      "image/png": "[encoded data removed]"
     },
     "metadata": {
      "needs_background": "light"
     }
    },
    {
     "output_type": "stream",
     "name": "stdout",
     "text": [
      "\n",
      "Test Loss: 1.8125\n"
     ]
    }
   ],
   "source": [
    "torch.manual_seed(42)\n",
    "net = create_and_train_model()\n",
    "eval_trained_model(net)"
   ]
  },
  {
   "cell_type": "code",
   "execution_count": 22,
   "metadata": {
    "id": "VwHINCCK74oJ",
    "colab": {
     "base_uri": "https://localhost:8080/",
     "height": 1000
    },
    "outputId": "30ec968a-673b-4a71-d29a-8c652c10bc13",
    "pycharm": {
     "name": "#%%\n"
    }
   },
   "outputs": [
    {
     "output_type": "stream",
     "name": "stdout",
     "text": [
      "CharRNN(\n",
      "  (lstm): LSTM(65, 512, num_layers=2, batch_first=True, dropout=0.5)\n",
      "  (dropout): Dropout(p=0.5, inplace=False)\n",
      "  (fc): Linear(in_features=512, out_features=65, bias=True)\n",
      ") \n",
      "\n",
      "Epoch: 1/25... Loss: 3.2197... Val Loss: 3.2102... Val BERTScore: 0.9694... Val BERTScore std: 0.0054 Val BLEU score: 0.2986... Val BLEU score std: 0.0511\n",
      "Epoch: 1/25... Loss: 2.8071... Val Loss: 2.7973... Val BERTScore: 0.9719... Val BERTScore std: 0.0053 Val BLEU score: 0.3490... Val BLEU score std: 0.0167\n",
      "Epoch: 2/25... Loss: 2.5110... Val Loss: 2.5465... Val BERTScore: 0.9740... Val BERTScore std: 0.0050 Val BLEU score: 0.4099... Val BLEU score std: 0.0334\n",
      "Epoch: 2/25... Loss: 2.4064... Val Loss: 2.4555... Val BERTScore: 0.9741... Val BERTScore std: 0.0046 Val BLEU score: 0.4119... Val BLEU score std: 0.0400\n",
      "Epoch: 2/25... Loss: 2.3466... Val Loss: 2.3896... Val BERTScore: 0.9733... Val BERTScore std: 0.0059 Val BLEU score: 0.4114... Val BLEU score std: 0.0513\n",
      "Epoch: 3/25... Loss: 2.2572... Val Loss: 2.3356... Val BERTScore: 0.9738... Val BERTScore std: 0.0048 Val BLEU score: 0.4433... Val BLEU score std: 0.0524\n",
      "Epoch: 3/25... Loss: 2.2009... Val Loss: 2.2856... Val BERTScore: 0.9745... Val BERTScore std: 0.0045 Val BLEU score: 0.4335... Val BLEU score std: 0.0229\n",
      "Epoch: 3/25... Loss: 2.1557... Val Loss: 2.2540... Val BERTScore: 0.9749... Val BERTScore std: 0.0046 Val BLEU score: 0.4046... Val BLEU score std: 0.0172\n",
      "Epoch: 4/25... Loss: 2.1219... Val Loss: 2.2058... Val BERTScore: 0.9751... Val BERTScore std: 0.0039 Val BLEU score: 0.4205... Val BLEU score std: 0.0368\n",
      "Epoch: 4/25... Loss: 2.1011... Val Loss: 2.1770... Val BERTScore: 0.9737... Val BERTScore std: 0.0043 Val BLEU score: 0.3745... Val BLEU score std: 0.0329\n",
      "Epoch: 4/25... Loss: 2.0285... Val Loss: 2.1528... Val BERTScore: 0.9741... Val BERTScore std: 0.0041 Val BLEU score: 0.4349... Val BLEU score std: 0.0361\n",
      "Epoch: 5/25... Loss: 1.9643... Val Loss: 2.1373... Val BERTScore: 0.9757... Val BERTScore std: 0.0053 Val BLEU score: 0.3947... Val BLEU score std: 0.0323\n",
      "Epoch: 5/25... Loss: 1.9756... Val Loss: 2.0974... Val BERTScore: 0.9767... Val BERTScore std: 0.0050 Val BLEU score: 0.4624... Val BLEU score std: 0.0457\n",
      "Epoch: 6/25... Loss: 1.9582... Val Loss: 2.0689... Val BERTScore: 0.9766... Val BERTScore std: 0.0043 Val BLEU score: 0.4064... Val BLEU score std: 0.0123\n",
      "Epoch: 6/25... Loss: 1.9159... Val Loss: 2.0445... Val BERTScore: 0.9757... Val BERTScore std: 0.0044 Val BLEU score: 0.4158... Val BLEU score std: 0.0375\n",
      "Epoch: 6/25... Loss: 1.8927... Val Loss: 2.0233... Val BERTScore: 0.9773... Val BERTScore std: 0.0034 Val BLEU score: 0.4363... Val BLEU score std: 0.0569\n",
      "Epoch: 7/25... Loss: 1.8610... Val Loss: 2.0047... Val BERTScore: 0.9754... Val BERTScore std: 0.0039 Val BLEU score: 0.4420... Val BLEU score std: 0.0281\n",
      "Epoch: 7/25... Loss: 1.8470... Val Loss: 1.9808... Val BERTScore: 0.9749... Val BERTScore std: 0.0042 Val BLEU score: 0.3773... Val BLEU score std: 0.0359\n",
      "Epoch: 7/25... Loss: 1.8203... Val Loss: 1.9617... Val BERTScore: 0.9761... Val BERTScore std: 0.0041 Val BLEU score: 0.3864... Val BLEU score std: 0.0460\n",
      "Epoch: 8/25... Loss: 1.8404... Val Loss: 1.9501... Val BERTScore: 0.9737... Val BERTScore std: 0.0071 Val BLEU score: 0.4160... Val BLEU score std: 0.0522\n",
      "Epoch: 8/25... Loss: 1.7961... Val Loss: 1.9231... Val BERTScore: 0.9754... Val BERTScore std: 0.0047 Val BLEU score: 0.4066... Val BLEU score std: 0.0434\n",
      "Epoch: 8/25... Loss: 1.7777... Val Loss: 1.9125... Val BERTScore: 0.9749... Val BERTScore std: 0.0034 Val BLEU score: 0.4534... Val BLEU score std: 0.0470\n",
      "Epoch: 9/25... Loss: 1.7215... Val Loss: 1.8987... Val BERTScore: 0.9747... Val BERTScore std: 0.0040 Val BLEU score: 0.3939... Val BLEU score std: 0.0425\n",
      "Epoch: 9/25... Loss: 1.7512... Val Loss: 1.8763... Val BERTScore: 0.9746... Val BERTScore std: 0.0053 Val BLEU score: 0.4294... Val BLEU score std: 0.0342\n",
      "Epoch: 10/25... Loss: 1.7468... Val Loss: 1.8706... Val BERTScore: 0.9745... Val BERTScore std: 0.0045 Val BLEU score: 0.3962... Val BLEU score std: 0.0465\n",
      "Epoch: 10/25... Loss: 1.6780... Val Loss: 1.8594... Val BERTScore: 0.9754... Val BERTScore std: 0.0040 Val BLEU score: 0.4268... Val BLEU score std: 0.0053\n",
      "Epoch: 10/25... Loss: 1.7062... Val Loss: 1.8506... Val BERTScore: 0.9738... Val BERTScore std: 0.0057 Val BLEU score: 0.4304... Val BLEU score std: 0.0291\n",
      "Epoch: 11/25... Loss: 1.7054... Val Loss: 1.8385... Val BERTScore: 0.9741... Val BERTScore std: 0.0039 Val BLEU score: 0.3835... Val BLEU score std: 0.0308\n",
      "Epoch: 11/25... Loss: 1.6938... Val Loss: 1.8225... Val BERTScore: 0.9741... Val BERTScore std: 0.0069 Val BLEU score: 0.4099... Val BLEU score std: 0.0266\n",
      "Epoch: 11/25... Loss: 1.6544... Val Loss: 1.8098... Val BERTScore: 0.9736... Val BERTScore std: 0.0031 Val BLEU score: 0.4289... Val BLEU score std: 0.0251\n",
      "Epoch: 12/25... Loss: 1.6332... Val Loss: 1.8129... Val BERTScore: 0.9752... Val BERTScore std: 0.0044 Val BLEU score: 0.4073... Val BLEU score std: 0.0397\n",
      "Epoch: 12/25... Loss: 1.6588... Val Loss: 1.8002... Val BERTScore: 0.9727... Val BERTScore std: 0.0045 Val BLEU score: 0.3955... Val BLEU score std: 0.0323\n",
      "Epoch: 12/25... Loss: 1.6047... Val Loss: 1.7981... Val BERTScore: 0.9744... Val BERTScore std: 0.0052 Val BLEU score: 0.3963... Val BLEU score std: 0.0426\n",
      "Epoch: 13/25... Loss: 1.5875... Val Loss: 1.7853... Val BERTScore: 0.9748... Val BERTScore std: 0.0035 Val BLEU score: 0.4216... Val BLEU score std: 0.0539\n",
      "Epoch: 13/25... Loss: 1.5975... Val Loss: 1.7691... Val BERTScore: 0.9728... Val BERTScore std: 0.0038 Val BLEU score: 0.4244... Val BLEU score std: 0.0138\n",
      "Epoch: 14/25... Loss: 1.5779... Val Loss: 1.7647... Val BERTScore: 0.9752... Val BERTScore std: 0.0030 Val BLEU score: 0.4429... Val BLEU score std: 0.0666\n",
      "Epoch: 14/25... Loss: 1.5957... Val Loss: 1.7645... Val BERTScore: 0.9729... Val BERTScore std: 0.0042 Val BLEU score: 0.4357... Val BLEU score std: 0.0167\n",
      "Epoch: 14/25... Loss: 1.5751... Val Loss: 1.7561... Val BERTScore: 0.9755... Val BERTScore std: 0.0035 Val BLEU score: 0.3953... Val BLEU score std: 0.0308\n",
      "Epoch: 15/25... Loss: 1.5623... Val Loss: 1.7515... Val BERTScore: 0.9731... Val BERTScore std: 0.0044 Val BLEU score: 0.4221... Val BLEU score std: 0.0601\n",
      "Epoch: 15/25... Loss: 1.5698... Val Loss: 1.7454... Val BERTScore: 0.9743... Val BERTScore std: 0.0028 Val BLEU score: 0.3637... Val BLEU score std: 0.0097\n",
      "Epoch: 15/25... Loss: 1.6127... Val Loss: 1.7349... Val BERTScore: 0.9739... Val BERTScore std: 0.0054 Val BLEU score: 0.4070... Val BLEU score std: 0.0380\n",
      "Epoch: 16/25... Loss: 1.5522... Val Loss: 1.7309... Val BERTScore: 0.9755... Val BERTScore std: 0.0033 Val BLEU score: 0.4396... Val BLEU score std: 0.0492\n",
      "Epoch: 16/25... Loss: 1.5588... Val Loss: 1.7204... Val BERTScore: 0.9733... Val BERTScore std: 0.0027 Val BLEU score: 0.4342... Val BLEU score std: 0.0526\n",
      "Epoch: 16/25... Loss: 1.5313... Val Loss: 1.7170... Val BERTScore: 0.9758... Val BERTScore std: 0.0039 Val BLEU score: 0.4341... Val BLEU score std: 0.0236\n",
      "Epoch: 17/25... Loss: 1.5103... Val Loss: 1.7232... Val BERTScore: 0.9730... Val BERTScore std: 0.0046 Val BLEU score: 0.4620... Val BLEU score std: 0.0553\n",
      "Epoch: 17/25... Loss: 1.5315... Val Loss: 1.7177... Val BERTScore: 0.9753... Val BERTScore std: 0.0043 Val BLEU score: 0.4070... Val BLEU score std: 0.0535\n",
      "Epoch: 18/25... Loss: 1.5094... Val Loss: 1.7019... Val BERTScore: 0.9754... Val BERTScore std: 0.0051 Val BLEU score: 0.3970... Val BLEU score std: 0.0140\n",
      "Epoch: 18/25... Loss: 1.4594... Val Loss: 1.7085... Val BERTScore: 0.9755... Val BERTScore std: 0.0054 Val BLEU score: 0.3976... Val BLEU score std: 0.0323\n",
      "Epoch: 18/25... Loss: 1.4769... Val Loss: 1.6936... Val BERTScore: 0.9753... Val BERTScore std: 0.0045 Val BLEU score: 0.4646... Val BLEU score std: 0.0587\n",
      "Epoch: 19/25... Loss: 1.5108... Val Loss: 1.6957... Val BERTScore: 0.9744... Val BERTScore std: 0.0021 Val BLEU score: 0.4182... Val BLEU score std: 0.0420\n",
      "Epoch: 19/25... Loss: 1.4910... Val Loss: 1.6943... Val BERTScore: 0.9720... Val BERTScore std: 0.0068 Val BLEU score: 0.4022... Val BLEU score std: 0.0406\n",
      "Epoch: 19/25... Loss: 1.4815... Val Loss: 1.6850... Val BERTScore: 0.9734... Val BERTScore std: 0.0034 Val BLEU score: 0.4226... Val BLEU score std: 0.0517\n",
      "Epoch: 20/25... Loss: 1.4816... Val Loss: 1.6807... Val BERTScore: 0.9763... Val BERTScore std: 0.0040 Val BLEU score: 0.4526... Val BLEU score std: 0.0486\n",
      "Epoch: 20/25... Loss: 1.4930... Val Loss: 1.6793... Val BERTScore: 0.9716... Val BERTScore std: 0.0052 Val BLEU score: 0.4101... Val BLEU score std: 0.0196\n",
      "Epoch: 20/25... Loss: 1.4596... Val Loss: 1.6765... Val BERTScore: 0.9727... Val BERTScore std: 0.0033 Val BLEU score: 0.4467... Val BLEU score std: 0.0369\n",
      "Epoch: 21/25... Loss: 1.4576... Val Loss: 1.6798... Val BERTScore: 0.9740... Val BERTScore std: 0.0046 Val BLEU score: 0.4225... Val BLEU score std: 0.0276\n",
      "Epoch: 21/25... Loss: 1.4376... Val Loss: 1.6637... Val BERTScore: 0.9740... Val BERTScore std: 0.0051 Val BLEU score: 0.4167... Val BLEU score std: 0.0340\n",
      "Epoch: 22/25... Loss: 1.4688... Val Loss: 1.6684... Val BERTScore: 0.9738... Val BERTScore std: 0.0054 Val BLEU score: 0.4319... Val BLEU score std: 0.0221\n",
      "Epoch: 22/25... Loss: 1.4318... Val Loss: 1.6620... Val BERTScore: 0.9735... Val BERTScore std: 0.0053 Val BLEU score: 0.4209... Val BLEU score std: 0.0306\n",
      "Epoch: 22/25... Loss: 1.4442... Val Loss: 1.6568... Val BERTScore: 0.9727... Val BERTScore std: 0.0024 Val BLEU score: 0.3772... Val BLEU score std: 0.0268\n",
      "Epoch: 23/25... Loss: 1.4668... Val Loss: 1.6581... Val BERTScore: 0.9758... Val BERTScore std: 0.0038 Val BLEU score: 0.4460... Val BLEU score std: 0.0050\n",
      "Epoch: 23/25... Loss: 1.4269... Val Loss: 1.6607... Val BERTScore: 0.9731... Val BERTScore std: 0.0056 Val BLEU score: 0.4631... Val BLEU score std: 0.0410\n",
      "Epoch: 23/25... Loss: 1.3994... Val Loss: 1.6523... Val BERTScore: 0.9716... Val BERTScore std: 0.0014 Val BLEU score: 0.4399... Val BLEU score std: 0.0357\n",
      "Epoch: 24/25... Loss: 1.4442... Val Loss: 1.6533... Val BERTScore: 0.9722... Val BERTScore std: 0.0044 Val BLEU score: 0.3953... Val BLEU score std: 0.0600\n",
      "Epoch: 24/25... Loss: 1.4421... Val Loss: 1.6481... Val BERTScore: 0.9719... Val BERTScore std: 0.0041 Val BLEU score: 0.3955... Val BLEU score std: 0.0743\n",
      "Epoch: 24/25... Loss: 1.4068... Val Loss: 1.6514... Val BERTScore: 0.9755... Val BERTScore std: 0.0036 Val BLEU score: 0.4274... Val BLEU score std: 0.0210\n",
      "Epoch: 25/25... Loss: 1.3809... Val Loss: 1.6482... Val BERTScore: 0.9731... Val BERTScore std: 0.0041 Val BLEU score: 0.4302... Val BLEU score std: 0.0685\n",
      "Epoch: 25/25... Loss: 1.3889... Val Loss: 1.6343... Val BERTScore: 0.9746... Val BERTScore std: 0.0052 Val BLEU score: 0.4721... Val BLEU score std: 0.0389\n",
      "Epoch: 25/25... Loss: 1.4495... Val Loss: 1.6370... Val BERTScore: 0.9744... Val BERTScore std: 0.0034 Val BLEU score: 0.3956... Val BLEU score std: 0.0467\n",
      "\n"
     ]
    },
    {
     "output_type": "display_data",
     "data": {
      "text/plain": [
       "<Figure size 432x288 with 1 Axes>"
      ],
      "image/png": "[encoded data removed]"
     },
     "metadata": {
      "needs_background": "light"
     }
    },
    {
     "output_type": "display_data",
     "data": {
      "text/plain": [
       "<Figure size 432x288 with 1 Axes>"
      ],
      "image/png": "[encoded data removed]"
     },
     "metadata": {
      "needs_background": "light"
     }
    },
    {
     "output_type": "display_data",
     "data": {
      "text/plain": [
       "<Figure size 432x288 with 1 Axes>"
      ],
      "image/png": "[encoded data removed]"
     },
     "metadata": {
      "needs_background": "light"
     }
    },
    {
     "output_type": "stream",
     "name": "stdout",
     "text": [
      "\n",
      "Test Loss: 1.8092\n"
     ]
    }
   ],
   "source": [
    "torch.manual_seed(512)\n",
    "net = create_and_train_model()\n",
    "eval_trained_model(net)"
   ]
  },
  {
   "cell_type": "code",
   "execution_count": 23,
   "metadata": {
    "id": "U7sL3pHUycGC",
    "colab": {
     "base_uri": "https://localhost:8080/"
    },
    "outputId": "2d55b815-a8e6-4196-da11-e89491622035",
    "pycharm": {
     "name": "#%%\n"
    }
   },
   "outputs": [
    {
     "output_type": "stream",
     "name": "stdout",
     "text": [
      "The were as thou, with that, as you\n",
      "Till they, as truth, and take the wrath triem.\n",
      "\n",
      "DUKE OF AUMERLE:\n",
      "Therefore stay these hath still to hear a that\n",
      "The point of tending off, which to the spare,\n",
      "And was my lady as thou says have heard\n",
      "How with a sheapens wilt, that I am at him on\n",
      "him, and thou, to blusting the trauther of the stroke,\n",
      "Whose tribunes on thy chamber, with him from him,\n",
      "And said me was were tongue and merrite here,\n",
      "As the sen help's have talined in this fest\n",
      "Some fier the consulens to the chority\n",
      "A there a shall store it. This is me that hath the\n",
      "porden to the hand, and make him as the sen\n",
      "to him to my love? where's you at the sens,\n",
      "And we have long make tear to see the heart\n",
      "And that the both to hold the come and hate\n",
      "With he death some that thou didst thy hearts\n",
      "That thinks the would be and he wish a feese\n",
      "And thrubted the world and which with staits again.\n",
      "\n",
      "KING RICHARD III:\n",
      "I dear not, so, and seakes you how you'll have here,\n",
      "A mades more then stand'd o' to stand or and\n",
      "That I am aster'd.\n",
      "\n",
      "Clown:\n",
      "In those shall do the honour against my humble,\n",
      "So make you her. Camillo, and men'st\n",
      "My battle with him fortune, with strucked other the\n",
      "more to make you strike, sir; and there is thought all that?\n",
      "\n",
      "KING HENRY VI:\n",
      "What seals thou art too fortunation.\n",
      "\n",
      "SICINIUS:\n",
      "I will to hence, the wittance to thine and the well\n",
      "Of the profact of the singer strongs her braid!\n",
      "Think there wouldst they have dreed the crown'd forture,\n",
      "That though to have a consunt and to the crown.\n",
      "\n",
      "DUKE OF YORK:\n",
      "I'll braw me that I have than that's a more of his sorrow.\n",
      "A wife, as when I will better it if should\n",
      "stay in my from man.\n",
      "\n",
      "Clown:\n",
      "Hath hath their stone as too house and that shall,\n",
      "That's truth the tame and then the window'st there,\n",
      "The prove as it is true, that so, are stand, as it is\n",
      "doth he stand to the sonese, and the sollier crown\n",
      "The thought the state of that. \n",
      "My mother begges;\n",
      "And stand and lost themselves, and thanks the princes well.\n",
      "Then and the cord of to set the motters hand\n",
      "A\n"
     ]
    }
   ],
   "source": [
    "sample = generate_sample(net, 2000, top_k=5)\n",
    "\n",
    "print(sample)"
   ]
  },
  {
   "cell_type": "code",
   "execution_count": 24,
   "metadata": {
    "id": "M55FRoL7kV5e",
    "colab": {
     "base_uri": "https://localhost:8080/"
    },
    "outputId": "fd182a03-8294-43f6-b36f-d90db33d2699",
    "pycharm": {
     "name": "#%%\n"
    }
   },
   "outputs": [
    {
     "output_type": "execute_result",
     "data": {
      "text/plain": [
       "{'Flesch reading ease': 86.67,\n",
       " 'Linsear-Write Formula': 25.0,\n",
       " 'Dale-Chall readability score': 7.8}"
      ]
     },
     "metadata": {},
     "execution_count": 24
    }
   ],
   "source": [
    "calc_text_statistics(sample)"
   ]
  }
 ],
 "metadata": {
  "accelerator": "GPU",
  "colab": {
   "provenance": []
  },
  "gpuClass": "standard",
  "kernelspec": {
   "display_name": "Python 3",
   "language": "python",
   "name": "python3"
  },
  "language_info": {
   "codemirror_mode": {
    "name": "ipython",
    "version": 3
   },
   "file_extension": ".py",
   "mimetype": "text/x-python",
   "name": "python",
   "nbconvert_exporter": "python",
   "pygments_lexer": "ipython3",
   "version": "3.6.8"
  },
  "widgets": {
   "application/vnd.jupyter.widget-state+json": {
    "2eeacf6b38b749acb854163eb410af30": {
     "model_module": "@jupyter-widgets/controls",
     "model_name": "HBoxModel",
     "model_module_version": "1.5.0",
     "state": {
      "_dom_classes": [],
      "_model_module": "@jupyter-widgets/controls",
      "_model_module_version": "1.5.0",
      "_model_name": "HBoxModel",
      "_view_count": null,
      "_view_module": "@jupyter-widgets/controls",
      "_view_module_version": "1.5.0",
      "_view_name": "HBoxView",
      "box_style": "",
      "children": [
       "IPY_MODEL_10616343898c49848dd2b534513dbc80",
       "IPY_MODEL_433456baeb4d4534ae8119771d6927fd",
       "IPY_MODEL_320bf4a9b5d84d6495dceafc6596cbbf"
      ],
      "layout": "IPY_MODEL_98cf57d90d844a37a2e0535297ff94b8"
     }
    },
    "10616343898c49848dd2b534513dbc80": {
     "model_module": "@jupyter-widgets/controls",
     "model_name": "HTMLModel",
     "model_module_version": "1.5.0",
     "state": {
      "_dom_classes": [],
      "_model_module": "@jupyter-widgets/controls",
      "_model_module_version": "1.5.0",
      "_model_name": "HTMLModel",
      "_view_count": null,
      "_view_module": "@jupyter-widgets/controls",
      "_view_module_version": "1.5.0",
      "_view_name": "HTMLView",
      "description": "",
      "description_tooltip": null,
      "layout": "IPY_MODEL_2702a513b2c54ad6be16c9833eb966f1",
      "placeholder": "​",
      "style": "IPY_MODEL_03c6d4eb3f4447cd94bed1dd01bee767",
      "value": "Downloading: 100%"
     }
    },
    "433456baeb4d4534ae8119771d6927fd": {
     "model_module": "@jupyter-widgets/controls",
     "model_name": "FloatProgressModel",
     "model_module_version": "1.5.0",
     "state": {
      "_dom_classes": [],
      "_model_module": "@jupyter-widgets/controls",
      "_model_module_version": "1.5.0",
      "_model_name": "FloatProgressModel",
      "_view_count": null,
      "_view_module": "@jupyter-widgets/controls",
      "_view_module_version": "1.5.0",
      "_view_name": "ProgressView",
      "bar_style": "success",
      "description": "",
      "description_tooltip": null,
      "layout": "IPY_MODEL_a678dfec1cb34595bd03f2ac97720e43",
      "max": 482,
      "min": 0,
      "orientation": "horizontal",
      "style": "IPY_MODEL_72ce32c413444a3480241538443736d2",
      "value": 482
     }
    },
    "320bf4a9b5d84d6495dceafc6596cbbf": {
     "model_module": "@jupyter-widgets/controls",
     "model_name": "HTMLModel",
     "model_module_version": "1.5.0",
     "state": {
      "_dom_classes": [],
      "_model_module": "@jupyter-widgets/controls",
      "_model_module_version": "1.5.0",
      "_model_name": "HTMLModel",
      "_view_count": null,
      "_view_module": "@jupyter-widgets/controls",
      "_view_module_version": "1.5.0",
      "_view_name": "HTMLView",
      "description": "",
      "description_tooltip": null,
      "layout": "IPY_MODEL_fe76616708074bb0ae329bb0649f3622",
      "placeholder": "​",
      "style": "IPY_MODEL_d23fd39e44f84c2a8e2bed26b428ff08",
      "value": " 482/482 [00:00&lt;00:00, 14.3kB/s]"
     }
    },
    "98cf57d90d844a37a2e0535297ff94b8": {
     "model_module": "@jupyter-widgets/base",
     "model_name": "LayoutModel",
     "model_module_version": "1.2.0",
     "state": {
      "_model_module": "@jupyter-widgets/base",
      "_model_module_version": "1.2.0",
      "_model_name": "LayoutModel",
      "_view_count": null,
      "_view_module": "@jupyter-widgets/base",
      "_view_module_version": "1.2.0",
      "_view_name": "LayoutView",
      "align_content": null,
      "align_items": null,
      "align_self": null,
      "border": null,
      "bottom": null,
      "display": null,
      "flex": null,
      "flex_flow": null,
      "grid_area": null,
      "grid_auto_columns": null,
      "grid_auto_flow": null,
      "grid_auto_rows": null,
      "grid_column": null,
      "grid_gap": null,
      "grid_row": null,
      "grid_template_areas": null,
      "grid_template_columns": null,
      "grid_template_rows": null,
      "height": null,
      "justify_content": null,
      "justify_items": null,
      "left": null,
      "margin": null,
      "max_height": null,
      "max_width": null,
      "min_height": null,
      "min_width": null,
      "object_fit": null,
      "object_position": null,
      "order": null,
      "overflow": null,
      "overflow_x": null,
      "overflow_y": null,
      "padding": null,
      "right": null,
      "top": null,
      "visibility": null,
      "width": null
     }
    },
    "2702a513b2c54ad6be16c9833eb966f1": {
     "model_module": "@jupyter-widgets/base",
     "model_name": "LayoutModel",
     "model_module_version": "1.2.0",
     "state": {
      "_model_module": "@jupyter-widgets/base",
      "_model_module_version": "1.2.0",
      "_model_name": "LayoutModel",
      "_view_count": null,
      "_view_module": "@jupyter-widgets/base",
      "_view_module_version": "1.2.0",
      "_view_name": "LayoutView",
      "align_content": null,
      "align_items": null,
      "align_self": null,
      "border": null,
      "bottom": null,
      "display": null,
      "flex": null,
      "flex_flow": null,
      "grid_area": null,
      "grid_auto_columns": null,
      "grid_auto_flow": null,
      "grid_auto_rows": null,
      "grid_column": null,
      "grid_gap": null,
      "grid_row": null,
      "grid_template_areas": null,
      "grid_template_columns": null,
      "grid_template_rows": null,
      "height": null,
      "justify_content": null,
      "justify_items": null,
      "left": null,
      "margin": null,
      "max_height": null,
      "max_width": null,
      "min_height": null,
      "min_width": null,
      "object_fit": null,
      "object_position": null,
      "order": null,
      "overflow": null,
      "overflow_x": null,
      "overflow_y": null,
      "padding": null,
      "right": null,
      "top": null,
      "visibility": null,
      "width": null
     }
    },
    "03c6d4eb3f4447cd94bed1dd01bee767": {
     "model_module": "@jupyter-widgets/controls",
     "model_name": "DescriptionStyleModel",
     "model_module_version": "1.5.0",
     "state": {
      "_model_module": "@jupyter-widgets/controls",
      "_model_module_version": "1.5.0",
      "_model_name": "DescriptionStyleModel",
      "_view_count": null,
      "_view_module": "@jupyter-widgets/base",
      "_view_module_version": "1.2.0",
      "_view_name": "StyleView",
      "description_width": ""
     }
    },
    "a678dfec1cb34595bd03f2ac97720e43": {
     "model_module": "@jupyter-widgets/base",
     "model_name": "LayoutModel",
     "model_module_version": "1.2.0",
     "state": {
      "_model_module": "@jupyter-widgets/base",
      "_model_module_version": "1.2.0",
      "_model_name": "LayoutModel",
      "_view_count": null,
      "_view_module": "@jupyter-widgets/base",
      "_view_module_version": "1.2.0",
      "_view_name": "LayoutView",
      "align_content": null,
      "align_items": null,
      "align_self": null,
      "border": null,
      "bottom": null,
      "display": null,
      "flex": null,
      "flex_flow": null,
      "grid_area": null,
      "grid_auto_columns": null,
      "grid_auto_flow": null,
      "grid_auto_rows": null,
      "grid_column": null,
      "grid_gap": null,
      "grid_row": null,
      "grid_template_areas": null,
      "grid_template_columns": null,
      "grid_template_rows": null,
      "height": null,
      "justify_content": null,
      "justify_items": null,
      "left": null,
      "margin": null,
      "max_height": null,
      "max_width": null,
      "min_height": null,
      "min_width": null,
      "object_fit": null,
      "object_position": null,
      "order": null,
      "overflow": null,
      "overflow_x": null,
      "overflow_y": null,
      "padding": null,
      "right": null,
      "top": null,
      "visibility": null,
      "width": null
     }
    },
    "72ce32c413444a3480241538443736d2": {
     "model_module": "@jupyter-widgets/controls",
     "model_name": "ProgressStyleModel",
     "model_module_version": "1.5.0",
     "state": {
      "_model_module": "@jupyter-widgets/controls",
      "_model_module_version": "1.5.0",
      "_model_name": "ProgressStyleModel",
      "_view_count": null,
      "_view_module": "@jupyter-widgets/base",
      "_view_module_version": "1.2.0",
      "_view_name": "StyleView",
      "bar_color": null,
      "description_width": ""
     }
    },
    "fe76616708074bb0ae329bb0649f3622": {
     "model_module": "@jupyter-widgets/base",
     "model_name": "LayoutModel",
     "model_module_version": "1.2.0",
     "state": {
      "_model_module": "@jupyter-widgets/base",
      "_model_module_version": "1.2.0",
      "_model_name": "LayoutModel",
      "_view_count": null,
      "_view_module": "@jupyter-widgets/base",
      "_view_module_version": "1.2.0",
      "_view_name": "LayoutView",
      "align_content": null,
      "align_items": null,
      "align_self": null,
      "border": null,
      "bottom": null,
      "display": null,
      "flex": null,
      "flex_flow": null,
      "grid_area": null,
      "grid_auto_columns": null,
      "grid_auto_flow": null,
      "grid_auto_rows": null,
      "grid_column": null,
      "grid_gap": null,
      "grid_row": null,
      "grid_template_areas": null,
      "grid_template_columns": null,
      "grid_template_rows": null,
      "height": null,
      "justify_content": null,
      "justify_items": null,
      "left": null,
      "margin": null,
      "max_height": null,
      "max_width": null,
      "min_height": null,
      "min_width": null,
      "object_fit": null,
      "object_position": null,
      "order": null,
      "overflow": null,
      "overflow_x": null,
      "overflow_y": null,
      "padding": null,
      "right": null,
      "top": null,
      "visibility": null,
      "width": null
     }
    },
    "d23fd39e44f84c2a8e2bed26b428ff08": {
     "model_module": "@jupyter-widgets/controls",
     "model_name": "DescriptionStyleModel",
     "model_module_version": "1.5.0",
     "state": {
      "_model_module": "@jupyter-widgets/controls",
      "_model_module_version": "1.5.0",
      "_model_name": "DescriptionStyleModel",
      "_view_count": null,
      "_view_module": "@jupyter-widgets/base",
      "_view_module_version": "1.2.0",
      "_view_name": "StyleView",
      "description_width": ""
     }
    },
    "c5c4b90635da467bb0fbb8f9cb6ef6e1": {
     "model_module": "@jupyter-widgets/controls",
     "model_name": "HBoxModel",
     "model_module_version": "1.5.0",
     "state": {
      "_dom_classes": [],
      "_model_module": "@jupyter-widgets/controls",
      "_model_module_version": "1.5.0",
      "_model_name": "HBoxModel",
      "_view_count": null,
      "_view_module": "@jupyter-widgets/controls",
      "_view_module_version": "1.5.0",
      "_view_name": "HBoxView",
      "box_style": "",
      "children": [
       "IPY_MODEL_85a26b8c355b4fa3a5dac87c3be1d55e",
       "IPY_MODEL_6a84626abda54427a34328fde5c49e43",
       "IPY_MODEL_d37eb700af534214bf7545e6a2a44b6f"
      ],
      "layout": "IPY_MODEL_d25d0744ced04f77a64e9e1b566d3f54"
     }
    },
    "85a26b8c355b4fa3a5dac87c3be1d55e": {
     "model_module": "@jupyter-widgets/controls",
     "model_name": "HTMLModel",
     "model_module_version": "1.5.0",
     "state": {
      "_dom_classes": [],
      "_model_module": "@jupyter-widgets/controls",
      "_model_module_version": "1.5.0",
      "_model_name": "HTMLModel",
      "_view_count": null,
      "_view_module": "@jupyter-widgets/controls",
      "_view_module_version": "1.5.0",
      "_view_name": "HTMLView",
      "description": "",
      "description_tooltip": null,
      "layout": "IPY_MODEL_296e31a868e744378334db31ae8b99db",
      "placeholder": "​",
      "style": "IPY_MODEL_b0bb53cd66d3450495ece7254a294653",
      "value": "Downloading: 100%"
     }
    },
    "6a84626abda54427a34328fde5c49e43": {
     "model_module": "@jupyter-widgets/controls",
     "model_name": "FloatProgressModel",
     "model_module_version": "1.5.0",
     "state": {
      "_dom_classes": [],
      "_model_module": "@jupyter-widgets/controls",
      "_model_module_version": "1.5.0",
      "_model_name": "FloatProgressModel",
      "_view_count": null,
      "_view_module": "@jupyter-widgets/controls",
      "_view_module_version": "1.5.0",
      "_view_name": "ProgressView",
      "bar_style": "success",
      "description": "",
      "description_tooltip": null,
      "layout": "IPY_MODEL_80e6e7144ed94d24a1d3c9524ef9b0d6",
      "max": 898823,
      "min": 0,
      "orientation": "horizontal",
      "style": "IPY_MODEL_036dc43144884382b6824cb00e1effbe",
      "value": 898823
     }
    },
    "d37eb700af534214bf7545e6a2a44b6f": {
     "model_module": "@jupyter-widgets/controls",
     "model_name": "HTMLModel",
     "model_module_version": "1.5.0",
     "state": {
      "_dom_classes": [],
      "_model_module": "@jupyter-widgets/controls",
      "_model_module_version": "1.5.0",
      "_model_name": "HTMLModel",
      "_view_count": null,
      "_view_module": "@jupyter-widgets/controls",
      "_view_module_version": "1.5.0",
      "_view_name": "HTMLView",
      "description": "",
      "description_tooltip": null,
      "layout": "IPY_MODEL_fd06e381c4644b5a98b2d76a75b522df",
      "placeholder": "​",
      "style": "IPY_MODEL_87310690f7d84bd4807fa2b6b405938f",
      "value": " 899k/899k [00:00&lt;00:00, 1.78MB/s]"
     }
    },
    "d25d0744ced04f77a64e9e1b566d3f54": {
     "model_module": "@jupyter-widgets/base",
     "model_name": "LayoutModel",
     "model_module_version": "1.2.0",
     "state": {
      "_model_module": "@jupyter-widgets/base",
      "_model_module_version": "1.2.0",
      "_model_name": "LayoutModel",
      "_view_count": null,
      "_view_module": "@jupyter-widgets/base",
      "_view_module_version": "1.2.0",
      "_view_name": "LayoutView",
      "align_content": null,
      "align_items": null,
      "align_self": null,
      "border": null,
      "bottom": null,
      "display": null,
      "flex": null,
      "flex_flow": null,
      "grid_area": null,
      "grid_auto_columns": null,
      "grid_auto_flow": null,
      "grid_auto_rows": null,
      "grid_column": null,
      "grid_gap": null,
      "grid_row": null,
      "grid_template_areas": null,
      "grid_template_columns": null,
      "grid_template_rows": null,
      "height": null,
      "justify_content": null,
      "justify_items": null,
      "left": null,
      "margin": null,
      "max_height": null,
      "max_width": null,
      "min_height": null,
      "min_width": null,
      "object_fit": null,
      "object_position": null,
      "order": null,
      "overflow": null,
      "overflow_x": null,
      "overflow_y": null,
      "padding": null,
      "right": null,
      "top": null,
      "visibility": null,
      "width": null
     }
    },
    "296e31a868e744378334db31ae8b99db": {
     "model_module": "@jupyter-widgets/base",
     "model_name": "LayoutModel",
     "model_module_version": "1.2.0",
     "state": {
      "_model_module": "@jupyter-widgets/base",
      "_model_module_version": "1.2.0",
      "_model_name": "LayoutModel",
      "_view_count": null,
      "_view_module": "@jupyter-widgets/base",
      "_view_module_version": "1.2.0",
      "_view_name": "LayoutView",
      "align_content": null,
      "align_items": null,
      "align_self": null,
      "border": null,
      "bottom": null,
      "display": null,
      "flex": null,
      "flex_flow": null,
      "grid_area": null,
      "grid_auto_columns": null,
      "grid_auto_flow": null,
      "grid_auto_rows": null,
      "grid_column": null,
      "grid_gap": null,
      "grid_row": null,
      "grid_template_areas": null,
      "grid_template_columns": null,
      "grid_template_rows": null,
      "height": null,
      "justify_content": null,
      "justify_items": null,
      "left": null,
      "margin": null,
      "max_height": null,
      "max_width": null,
      "min_height": null,
      "min_width": null,
      "object_fit": null,
      "object_position": null,
      "order": null,
      "overflow": null,
      "overflow_x": null,
      "overflow_y": null,
      "padding": null,
      "right": null,
      "top": null,
      "visibility": null,
      "width": null
     }
    },
    "b0bb53cd66d3450495ece7254a294653": {
     "model_module": "@jupyter-widgets/controls",
     "model_name": "DescriptionStyleModel",
     "model_module_version": "1.5.0",
     "state": {
      "_model_module": "@jupyter-widgets/controls",
      "_model_module_version": "1.5.0",
      "_model_name": "DescriptionStyleModel",
      "_view_count": null,
      "_view_module": "@jupyter-widgets/base",
      "_view_module_version": "1.2.0",
      "_view_name": "StyleView",
      "description_width": ""
     }
    },
    "80e6e7144ed94d24a1d3c9524ef9b0d6": {
     "model_module": "@jupyter-widgets/base",
     "model_name": "LayoutModel",
     "model_module_version": "1.2.0",
     "state": {
      "_model_module": "@jupyter-widgets/base",
      "_model_module_version": "1.2.0",
      "_model_name": "LayoutModel",
      "_view_count": null,
      "_view_module": "@jupyter-widgets/base",
      "_view_module_version": "1.2.0",
      "_view_name": "LayoutView",
      "align_content": null,
      "align_items": null,
      "align_self": null,
      "border": null,
      "bottom": null,
      "display": null,
      "flex": null,
      "flex_flow": null,
      "grid_area": null,
      "grid_auto_columns": null,
      "grid_auto_flow": null,
      "grid_auto_rows": null,
      "grid_column": null,
      "grid_gap": null,
      "grid_row": null,
      "grid_template_areas": null,
      "grid_template_columns": null,
      "grid_template_rows": null,
      "height": null,
      "justify_content": null,
      "justify_items": null,
      "left": null,
      "margin": null,
      "max_height": null,
      "max_width": null,
      "min_height": null,
      "min_width": null,
      "object_fit": null,
      "object_position": null,
      "order": null,
      "overflow": null,
      "overflow_x": null,
      "overflow_y": null,
      "padding": null,
      "right": null,
      "top": null,
      "visibility": null,
      "width": null
     }
    },
    "036dc43144884382b6824cb00e1effbe": {
     "model_module": "@jupyter-widgets/controls",
     "model_name": "ProgressStyleModel",
     "model_module_version": "1.5.0",
     "state": {
      "_model_module": "@jupyter-widgets/controls",
      "_model_module_version": "1.5.0",
      "_model_name": "ProgressStyleModel",
      "_view_count": null,
      "_view_module": "@jupyter-widgets/base",
      "_view_module_version": "1.2.0",
      "_view_name": "StyleView",
      "bar_color": null,
      "description_width": ""
     }
    },
    "fd06e381c4644b5a98b2d76a75b522df": {
     "model_module": "@jupyter-widgets/base",
     "model_name": "LayoutModel",
     "model_module_version": "1.2.0",
     "state": {
      "_model_module": "@jupyter-widgets/base",
      "_model_module_version": "1.2.0",
      "_model_name": "LayoutModel",
      "_view_count": null,
      "_view_module": "@jupyter-widgets/base",
      "_view_module_version": "1.2.0",
      "_view_name": "LayoutView",
      "align_content": null,
      "align_items": null,
      "align_self": null,
      "border": null,
      "bottom": null,
      "display": null,
      "flex": null,
      "flex_flow": null,
      "grid_area": null,
      "grid_auto_columns": null,
      "grid_auto_flow": null,
      "grid_auto_rows": null,
      "grid_column": null,
      "grid_gap": null,
      "grid_row": null,
      "grid_template_areas": null,
      "grid_template_columns": null,
      "grid_template_rows": null,
      "height": null,
      "justify_content": null,
      "justify_items": null,
      "left": null,
      "margin": null,
      "max_height": null,
      "max_width": null,
      "min_height": null,
      "min_width": null,
      "object_fit": null,
      "object_position": null,
      "order": null,
      "overflow": null,
      "overflow_x": null,
      "overflow_y": null,
      "padding": null,
      "right": null,
      "top": null,
      "visibility": null,
      "width": null
     }
    },
    "87310690f7d84bd4807fa2b6b405938f": {
     "model_module": "@jupyter-widgets/controls",
     "model_name": "DescriptionStyleModel",
     "model_module_version": "1.5.0",
     "state": {
      "_model_module": "@jupyter-widgets/controls",
      "_model_module_version": "1.5.0",
      "_model_name": "DescriptionStyleModel",
      "_view_count": null,
      "_view_module": "@jupyter-widgets/base",
      "_view_module_version": "1.2.0",
      "_view_name": "StyleView",
      "description_width": ""
     }
    },
    "3dc84ad3ec144061ab4cc5611c65821e": {
     "model_module": "@jupyter-widgets/controls",
     "model_name": "HBoxModel",
     "model_module_version": "1.5.0",
     "state": {
      "_dom_classes": [],
      "_model_module": "@jupyter-widgets/controls",
      "_model_module_version": "1.5.0",
      "_model_name": "HBoxModel",
      "_view_count": null,
      "_view_module": "@jupyter-widgets/controls",
      "_view_module_version": "1.5.0",
      "_view_name": "HBoxView",
      "box_style": "",
      "children": [
       "IPY_MODEL_00e2835cc91948d7a2f2e0cf41d0d919",
       "IPY_MODEL_58920fcefd554001b281544e72a77e50",
       "IPY_MODEL_558448431f7c43e2933ff971abc70b8d"
      ],
      "layout": "IPY_MODEL_5a794aff707845baaa0fab5c3831476a"
     }
    },
    "00e2835cc91948d7a2f2e0cf41d0d919": {
     "model_module": "@jupyter-widgets/controls",
     "model_name": "HTMLModel",
     "model_module_version": "1.5.0",
     "state": {
      "_dom_classes": [],
      "_model_module": "@jupyter-widgets/controls",
      "_model_module_version": "1.5.0",
      "_model_name": "HTMLModel",
      "_view_count": null,
      "_view_module": "@jupyter-widgets/controls",
      "_view_module_version": "1.5.0",
      "_view_name": "HTMLView",
      "description": "",
      "description_tooltip": null,
      "layout": "IPY_MODEL_0367072d55a5467c8c91b0113e16cd5a",
      "placeholder": "​",
      "style": "IPY_MODEL_1906d178beeb41fb9216c1f376473c7e",
      "value": "Downloading: 100%"
     }
    },
    "58920fcefd554001b281544e72a77e50": {
     "model_module": "@jupyter-widgets/controls",
     "model_name": "FloatProgressModel",
     "model_module_version": "1.5.0",
     "state": {
      "_dom_classes": [],
      "_model_module": "@jupyter-widgets/controls",
      "_model_module_version": "1.5.0",
      "_model_name": "FloatProgressModel",
      "_view_count": null,
      "_view_module": "@jupyter-widgets/controls",
      "_view_module_version": "1.5.0",
      "_view_name": "ProgressView",
      "bar_style": "success",
      "description": "",
      "description_tooltip": null,
      "layout": "IPY_MODEL_60eeaddb53944bd6a81d3b3346fa0313",
      "max": 456318,
      "min": 0,
      "orientation": "horizontal",
      "style": "IPY_MODEL_df507a51622048c4bd3f22481a2c0c4a",
      "value": 456318
     }
    },
    "558448431f7c43e2933ff971abc70b8d": {
     "model_module": "@jupyter-widgets/controls",
     "model_name": "HTMLModel",
     "model_module_version": "1.5.0",
     "state": {
      "_dom_classes": [],
      "_model_module": "@jupyter-widgets/controls",
      "_model_module_version": "1.5.0",
      "_model_name": "HTMLModel",
      "_view_count": null,
      "_view_module": "@jupyter-widgets/controls",
      "_view_module_version": "1.5.0",
      "_view_name": "HTMLView",
      "description": "",
      "description_tooltip": null,
      "layout": "IPY_MODEL_9d37799150994a0a95c283f39c74e25a",
      "placeholder": "​",
      "style": "IPY_MODEL_915927cbdb854ac4a58c04b7cb378bb4",
      "value": " 456k/456k [00:00&lt;00:00, 1.73MB/s]"
     }
    },
    "5a794aff707845baaa0fab5c3831476a": {
     "model_module": "@jupyter-widgets/base",
     "model_name": "LayoutModel",
     "model_module_version": "1.2.0",
     "state": {
      "_model_module": "@jupyter-widgets/base",
      "_model_module_version": "1.2.0",
      "_model_name": "LayoutModel",
      "_view_count": null,
      "_view_module": "@jupyter-widgets/base",
      "_view_module_version": "1.2.0",
      "_view_name": "LayoutView",
      "align_content": null,
      "align_items": null,
      "align_self": null,
      "border": null,
      "bottom": null,
      "display": null,
      "flex": null,
      "flex_flow": null,
      "grid_area": null,
      "grid_auto_columns": null,
      "grid_auto_flow": null,
      "grid_auto_rows": null,
      "grid_column": null,
      "grid_gap": null,
      "grid_row": null,
      "grid_template_areas": null,
      "grid_template_columns": null,
      "grid_template_rows": null,
      "height": null,
      "justify_content": null,
      "justify_items": null,
      "left": null,
      "margin": null,
      "max_height": null,
      "max_width": null,
      "min_height": null,
      "min_width": null,
      "object_fit": null,
      "object_position": null,
      "order": null,
      "overflow": null,
      "overflow_x": null,
      "overflow_y": null,
      "padding": null,
      "right": null,
      "top": null,
      "visibility": null,
      "width": null
     }
    },
    "0367072d55a5467c8c91b0113e16cd5a": {
     "model_module": "@jupyter-widgets/base",
     "model_name": "LayoutModel",
     "model_module_version": "1.2.0",
     "state": {
      "_model_module": "@jupyter-widgets/base",
      "_model_module_version": "1.2.0",
      "_model_name": "LayoutModel",
      "_view_count": null,
      "_view_module": "@jupyter-widgets/base",
      "_view_module_version": "1.2.0",
      "_view_name": "LayoutView",
      "align_content": null,
      "align_items": null,
      "align_self": null,
      "border": null,
      "bottom": null,
      "display": null,
      "flex": null,
      "flex_flow": null,
      "grid_area": null,
      "grid_auto_columns": null,
      "grid_auto_flow": null,
      "grid_auto_rows": null,
      "grid_column": null,
      "grid_gap": null,
      "grid_row": null,
      "grid_template_areas": null,
      "grid_template_columns": null,
      "grid_template_rows": null,
      "height": null,
      "justify_content": null,
      "justify_items": null,
      "left": null,
      "margin": null,
      "max_height": null,
      "max_width": null,
      "min_height": null,
      "min_width": null,
      "object_fit": null,
      "object_position": null,
      "order": null,
      "overflow": null,
      "overflow_x": null,
      "overflow_y": null,
      "padding": null,
      "right": null,
      "top": null,
      "visibility": null,
      "width": null
     }
    },
    "1906d178beeb41fb9216c1f376473c7e": {
     "model_module": "@jupyter-widgets/controls",
     "model_name": "DescriptionStyleModel",
     "model_module_version": "1.5.0",
     "state": {
      "_model_module": "@jupyter-widgets/controls",
      "_model_module_version": "1.5.0",
      "_model_name": "DescriptionStyleModel",
      "_view_count": null,
      "_view_module": "@jupyter-widgets/base",
      "_view_module_version": "1.2.0",
      "_view_name": "StyleView",
      "description_width": ""
     }
    },
    "60eeaddb53944bd6a81d3b3346fa0313": {
     "model_module": "@jupyter-widgets/base",
     "model_name": "LayoutModel",
     "model_module_version": "1.2.0",
     "state": {
      "_model_module": "@jupyter-widgets/base",
      "_model_module_version": "1.2.0",
      "_model_name": "LayoutModel",
      "_view_count": null,
      "_view_module": "@jupyter-widgets/base",
      "_view_module_version": "1.2.0",
      "_view_name": "LayoutView",
      "align_content": null,
      "align_items": null,
      "align_self": null,
      "border": null,
      "bottom": null,
      "display": null,
      "flex": null,
      "flex_flow": null,
      "grid_area": null,
      "grid_auto_columns": null,
      "grid_auto_flow": null,
      "grid_auto_rows": null,
      "grid_column": null,
      "grid_gap": null,
      "grid_row": null,
      "grid_template_areas": null,
      "grid_template_columns": null,
      "grid_template_rows": null,
      "height": null,
      "justify_content": null,
      "justify_items": null,
      "left": null,
      "margin": null,
      "max_height": null,
      "max_width": null,
      "min_height": null,
      "min_width": null,
      "object_fit": null,
      "object_position": null,
      "order": null,
      "overflow": null,
      "overflow_x": null,
      "overflow_y": null,
      "padding": null,
      "right": null,
      "top": null,
      "visibility": null,
      "width": null
     }
    },
    "df507a51622048c4bd3f22481a2c0c4a": {
     "model_module": "@jupyter-widgets/controls",
     "model_name": "ProgressStyleModel",
     "model_module_version": "1.5.0",
     "state": {
      "_model_module": "@jupyter-widgets/controls",
      "_model_module_version": "1.5.0",
      "_model_name": "ProgressStyleModel",
      "_view_count": null,
      "_view_module": "@jupyter-widgets/base",
      "_view_module_version": "1.2.0",
      "_view_name": "StyleView",
      "bar_color": null,
      "description_width": ""
     }
    },
    "9d37799150994a0a95c283f39c74e25a": {
     "model_module": "@jupyter-widgets/base",
     "model_name": "LayoutModel",
     "model_module_version": "1.2.0",
     "state": {
      "_model_module": "@jupyter-widgets/base",
      "_model_module_version": "1.2.0",
      "_model_name": "LayoutModel",
      "_view_count": null,
      "_view_module": "@jupyter-widgets/base",
      "_view_module_version": "1.2.0",
      "_view_name": "LayoutView",
      "align_content": null,
      "align_items": null,
      "align_self": null,
      "border": null,
      "bottom": null,
      "display": null,
      "flex": null,
      "flex_flow": null,
      "grid_area": null,
      "grid_auto_columns": null,
      "grid_auto_flow": null,
      "grid_auto_rows": null,
      "grid_column": null,
      "grid_gap": null,
      "grid_row": null,
      "grid_template_areas": null,
      "grid_template_columns": null,
      "grid_template_rows": null,
      "height": null,
      "justify_content": null,
      "justify_items": null,
      "left": null,
      "margin": null,
      "max_height": null,
      "max_width": null,
      "min_height": null,
      "min_width": null,
      "object_fit": null,
      "object_position": null,
      "order": null,
      "overflow": null,
      "overflow_x": null,
      "overflow_y": null,
      "padding": null,
      "right": null,
      "top": null,
      "visibility": null,
      "width": null
     }
    },
    "915927cbdb854ac4a58c04b7cb378bb4": {
     "model_module": "@jupyter-widgets/controls",
     "model_name": "DescriptionStyleModel",
     "model_module_version": "1.5.0",
     "state": {
      "_model_module": "@jupyter-widgets/controls",
      "_model_module_version": "1.5.0",
      "_model_name": "DescriptionStyleModel",
      "_view_count": null,
      "_view_module": "@jupyter-widgets/base",
      "_view_module_version": "1.2.0",
      "_view_name": "StyleView",
      "description_width": ""
     }
    },
    "b6b8385ab7db47dab80ba23575b3c28f": {
     "model_module": "@jupyter-widgets/controls",
     "model_name": "HBoxModel",
     "model_module_version": "1.5.0",
     "state": {
      "_dom_classes": [],
      "_model_module": "@jupyter-widgets/controls",
      "_model_module_version": "1.5.0",
      "_model_name": "HBoxModel",
      "_view_count": null,
      "_view_module": "@jupyter-widgets/controls",
      "_view_module_version": "1.5.0",
      "_view_name": "HBoxView",
      "box_style": "",
      "children": [
       "IPY_MODEL_f1bcd3844593430a9019b9e0608774ad",
       "IPY_MODEL_4150abedbecd42f7a61417b0f29312ce",
       "IPY_MODEL_748f8565d43e4fb19e846e1725ced5bc"
      ],
      "layout": "IPY_MODEL_b4590dcd52fe4ad4b1b121dc18dcbf25"
     }
    },
    "f1bcd3844593430a9019b9e0608774ad": {
     "model_module": "@jupyter-widgets/controls",
     "model_name": "HTMLModel",
     "model_module_version": "1.5.0",
     "state": {
      "_dom_classes": [],
      "_model_module": "@jupyter-widgets/controls",
      "_model_module_version": "1.5.0",
      "_model_name": "HTMLModel",
      "_view_count": null,
      "_view_module": "@jupyter-widgets/controls",
      "_view_module_version": "1.5.0",
      "_view_name": "HTMLView",
      "description": "",
      "description_tooltip": null,
      "layout": "IPY_MODEL_d1c3880e3ecd4537ac2a0056d6ee9065",
      "placeholder": "​",
      "style": "IPY_MODEL_cc86aa6cee04441c9ce978ae308bc80b",
      "value": "Downloading: 100%"
     }
    },
    "4150abedbecd42f7a61417b0f29312ce": {
     "model_module": "@jupyter-widgets/controls",
     "model_name": "FloatProgressModel",
     "model_module_version": "1.5.0",
     "state": {
      "_dom_classes": [],
      "_model_module": "@jupyter-widgets/controls",
      "_model_module_version": "1.5.0",
      "_model_name": "FloatProgressModel",
      "_view_count": null,
      "_view_module": "@jupyter-widgets/controls",
      "_view_module_version": "1.5.0",
      "_view_name": "ProgressView",
      "bar_style": "success",
      "description": "",
      "description_tooltip": null,
      "layout": "IPY_MODEL_9d48dc9c4ffd40c7abe5bf8c113046fc",
      "max": 1355863,
      "min": 0,
      "orientation": "horizontal",
      "style": "IPY_MODEL_1fb6338044984b1da49642009d02ec15",
      "value": 1355863
     }
    },
    "748f8565d43e4fb19e846e1725ced5bc": {
     "model_module": "@jupyter-widgets/controls",
     "model_name": "HTMLModel",
     "model_module_version": "1.5.0",
     "state": {
      "_dom_classes": [],
      "_model_module": "@jupyter-widgets/controls",
      "_model_module_version": "1.5.0",
      "_model_name": "HTMLModel",
      "_view_count": null,
      "_view_module": "@jupyter-widgets/controls",
      "_view_module_version": "1.5.0",
      "_view_name": "HTMLView",
      "description": "",
      "description_tooltip": null,
      "layout": "IPY_MODEL_69895317d8434e4e99cf5a982cbd97df",
      "placeholder": "​",
      "style": "IPY_MODEL_0384e6d39e3c42f59e568dbc97136e2f",
      "value": " 1.36M/1.36M [00:00&lt;00:00, 1.87MB/s]"
     }
    },
    "b4590dcd52fe4ad4b1b121dc18dcbf25": {
     "model_module": "@jupyter-widgets/base",
     "model_name": "LayoutModel",
     "model_module_version": "1.2.0",
     "state": {
      "_model_module": "@jupyter-widgets/base",
      "_model_module_version": "1.2.0",
      "_model_name": "LayoutModel",
      "_view_count": null,
      "_view_module": "@jupyter-widgets/base",
      "_view_module_version": "1.2.0",
      "_view_name": "LayoutView",
      "align_content": null,
      "align_items": null,
      "align_self": null,
      "border": null,
      "bottom": null,
      "display": null,
      "flex": null,
      "flex_flow": null,
      "grid_area": null,
      "grid_auto_columns": null,
      "grid_auto_flow": null,
      "grid_auto_rows": null,
      "grid_column": null,
      "grid_gap": null,
      "grid_row": null,
      "grid_template_areas": null,
      "grid_template_columns": null,
      "grid_template_rows": null,
      "height": null,
      "justify_content": null,
      "justify_items": null,
      "left": null,
      "margin": null,
      "max_height": null,
      "max_width": null,
      "min_height": null,
      "min_width": null,
      "object_fit": null,
      "object_position": null,
      "order": null,
      "overflow": null,
      "overflow_x": null,
      "overflow_y": null,
      "padding": null,
      "right": null,
      "top": null,
      "visibility": null,
      "width": null
     }
    },
    "d1c3880e3ecd4537ac2a0056d6ee9065": {
     "model_module": "@jupyter-widgets/base",
     "model_name": "LayoutModel",
     "model_module_version": "1.2.0",
     "state": {
      "_model_module": "@jupyter-widgets/base",
      "_model_module_version": "1.2.0",
      "_model_name": "LayoutModel",
      "_view_count": null,
      "_view_module": "@jupyter-widgets/base",
      "_view_module_version": "1.2.0",
      "_view_name": "LayoutView",
      "align_content": null,
      "align_items": null,
      "align_self": null,
      "border": null,
      "bottom": null,
      "display": null,
      "flex": null,
      "flex_flow": null,
      "grid_area": null,
      "grid_auto_columns": null,
      "grid_auto_flow": null,
      "grid_auto_rows": null,
      "grid_column": null,
      "grid_gap": null,
      "grid_row": null,
      "grid_template_areas": null,
      "grid_template_columns": null,
      "grid_template_rows": null,
      "height": null,
      "justify_content": null,
      "justify_items": null,
      "left": null,
      "margin": null,
      "max_height": null,
      "max_width": null,
      "min_height": null,
      "min_width": null,
      "object_fit": null,
      "object_position": null,
      "order": null,
      "overflow": null,
      "overflow_x": null,
      "overflow_y": null,
      "padding": null,
      "right": null,
      "top": null,
      "visibility": null,
      "width": null
     }
    },
    "cc86aa6cee04441c9ce978ae308bc80b": {
     "model_module": "@jupyter-widgets/controls",
     "model_name": "DescriptionStyleModel",
     "model_module_version": "1.5.0",
     "state": {
      "_model_module": "@jupyter-widgets/controls",
      "_model_module_version": "1.5.0",
      "_model_name": "DescriptionStyleModel",
      "_view_count": null,
      "_view_module": "@jupyter-widgets/base",
      "_view_module_version": "1.2.0",
      "_view_name": "StyleView",
      "description_width": ""
     }
    },
    "9d48dc9c4ffd40c7abe5bf8c113046fc": {
     "model_module": "@jupyter-widgets/base",
     "model_name": "LayoutModel",
     "model_module_version": "1.2.0",
     "state": {
      "_model_module": "@jupyter-widgets/base",
      "_model_module_version": "1.2.0",
      "_model_name": "LayoutModel",
      "_view_count": null,
      "_view_module": "@jupyter-widgets/base",
      "_view_module_version": "1.2.0",
      "_view_name": "LayoutView",
      "align_content": null,
      "align_items": null,
      "align_self": null,
      "border": null,
      "bottom": null,
      "display": null,
      "flex": null,
      "flex_flow": null,
      "grid_area": null,
      "grid_auto_columns": null,
      "grid_auto_flow": null,
      "grid_auto_rows": null,
      "grid_column": null,
      "grid_gap": null,
      "grid_row": null,
      "grid_template_areas": null,
      "grid_template_columns": null,
      "grid_template_rows": null,
      "height": null,
      "justify_content": null,
      "justify_items": null,
      "left": null,
      "margin": null,
      "max_height": null,
      "max_width": null,
      "min_height": null,
      "min_width": null,
      "object_fit": null,
      "object_position": null,
      "order": null,
      "overflow": null,
      "overflow_x": null,
      "overflow_y": null,
      "padding": null,
      "right": null,
      "top": null,
      "visibility": null,
      "width": null
     }
    },
    "1fb6338044984b1da49642009d02ec15": {
     "model_module": "@jupyter-widgets/controls",
     "model_name": "ProgressStyleModel",
     "model_module_version": "1.5.0",
     "state": {
      "_model_module": "@jupyter-widgets/controls",
      "_model_module_version": "1.5.0",
      "_model_name": "ProgressStyleModel",
      "_view_count": null,
      "_view_module": "@jupyter-widgets/base",
      "_view_module_version": "1.2.0",
      "_view_name": "StyleView",
      "bar_color": null,
      "description_width": ""
     }
    },
    "69895317d8434e4e99cf5a982cbd97df": {
     "model_module": "@jupyter-widgets/base",
     "model_name": "LayoutModel",
     "model_module_version": "1.2.0",
     "state": {
      "_model_module": "@jupyter-widgets/base",
      "_model_module_version": "1.2.0",
      "_model_name": "LayoutModel",
      "_view_count": null,
      "_view_module": "@jupyter-widgets/base",
      "_view_module_version": "1.2.0",
      "_view_name": "LayoutView",
      "align_content": null,
      "align_items": null,
      "align_self": null,
      "border": null,
      "bottom": null,
      "display": null,
      "flex": null,
      "flex_flow": null,
      "grid_area": null,
      "grid_auto_columns": null,
      "grid_auto_flow": null,
      "grid_auto_rows": null,
      "grid_column": null,
      "grid_gap": null,
      "grid_row": null,
      "grid_template_areas": null,
      "grid_template_columns": null,
      "grid_template_rows": null,
      "height": null,
      "justify_content": null,
      "justify_items": null,
      "left": null,
      "margin": null,
      "max_height": null,
      "max_width": null,
      "min_height": null,
      "min_width": null,
      "object_fit": null,
      "object_position": null,
      "order": null,
      "overflow": null,
      "overflow_x": null,
      "overflow_y": null,
      "padding": null,
      "right": null,
      "top": null,
      "visibility": null,
      "width": null
     }
    },
    "0384e6d39e3c42f59e568dbc97136e2f": {
     "model_module": "@jupyter-widgets/controls",
     "model_name": "DescriptionStyleModel",
     "model_module_version": "1.5.0",
     "state": {
      "_model_module": "@jupyter-widgets/controls",
      "_model_module_version": "1.5.0",
      "_model_name": "DescriptionStyleModel",
      "_view_count": null,
      "_view_module": "@jupyter-widgets/base",
      "_view_module_version": "1.2.0",
      "_view_name": "StyleView",
      "description_width": ""
     }
    },
    "5d38b7b167594a648552efbd306a31f3": {
     "model_module": "@jupyter-widgets/controls",
     "model_name": "HBoxModel",
     "model_module_version": "1.5.0",
     "state": {
      "_dom_classes": [],
      "_model_module": "@jupyter-widgets/controls",
      "_model_module_version": "1.5.0",
      "_model_name": "HBoxModel",
      "_view_count": null,
      "_view_module": "@jupyter-widgets/controls",
      "_view_module_version": "1.5.0",
      "_view_name": "HBoxView",
      "box_style": "",
      "children": [
       "IPY_MODEL_ca93c8df69e547a09c2deba4cea0ace6",
       "IPY_MODEL_8f1bed56dd8b4c99897e870e630a6fe3",
       "IPY_MODEL_d7c7fcaf908a453f8f2aa3cbd438bd22"
      ],
      "layout": "IPY_MODEL_713f0cfc640e46809235ce009cac130f"
     }
    },
    "ca93c8df69e547a09c2deba4cea0ace6": {
     "model_module": "@jupyter-widgets/controls",
     "model_name": "HTMLModel",
     "model_module_version": "1.5.0",
     "state": {
      "_dom_classes": [],
      "_model_module": "@jupyter-widgets/controls",
      "_model_module_version": "1.5.0",
      "_model_name": "HTMLModel",
      "_view_count": null,
      "_view_module": "@jupyter-widgets/controls",
      "_view_module_version": "1.5.0",
      "_view_name": "HTMLView",
      "description": "",
      "description_tooltip": null,
      "layout": "IPY_MODEL_06ae063e293b44dfa434efd3095ed8fd",
      "placeholder": "​",
      "style": "IPY_MODEL_9d42737b486d436eb81bef335d81d803",
      "value": "Downloading: 100%"
     }
    },
    "8f1bed56dd8b4c99897e870e630a6fe3": {
     "model_module": "@jupyter-widgets/controls",
     "model_name": "FloatProgressModel",
     "model_module_version": "1.5.0",
     "state": {
      "_dom_classes": [],
      "_model_module": "@jupyter-widgets/controls",
      "_model_module_version": "1.5.0",
      "_model_name": "FloatProgressModel",
      "_view_count": null,
      "_view_module": "@jupyter-widgets/controls",
      "_view_module_version": "1.5.0",
      "_view_name": "ProgressView",
      "bar_style": "success",
      "description": "",
      "description_tooltip": null,
      "layout": "IPY_MODEL_1a1cf2c6d904420080775bf11c8bde78",
      "max": 1425941629,
      "min": 0,
      "orientation": "horizontal",
      "style": "IPY_MODEL_b8010f8fdad04957a1e872cb8f1d7d48",
      "value": 1425941629
     }
    },
    "d7c7fcaf908a453f8f2aa3cbd438bd22": {
     "model_module": "@jupyter-widgets/controls",
     "model_name": "HTMLModel",
     "model_module_version": "1.5.0",
     "state": {
      "_dom_classes": [],
      "_model_module": "@jupyter-widgets/controls",
      "_model_module_version": "1.5.0",
      "_model_name": "HTMLModel",
      "_view_count": null,
      "_view_module": "@jupyter-widgets/controls",
      "_view_module_version": "1.5.0",
      "_view_name": "HTMLView",
      "description": "",
      "description_tooltip": null,
      "layout": "IPY_MODEL_8b13769323a841618587cd3528b88085",
      "placeholder": "​",
      "style": "IPY_MODEL_45a8227903234a56811d588bfdd312c5",
      "value": " 1.43G/1.43G [00:24&lt;00:00, 79.4MB/s]"
     }
    },
    "713f0cfc640e46809235ce009cac130f": {
     "model_module": "@jupyter-widgets/base",
     "model_name": "LayoutModel",
     "model_module_version": "1.2.0",
     "state": {
      "_model_module": "@jupyter-widgets/base",
      "_model_module_version": "1.2.0",
      "_model_name": "LayoutModel",
      "_view_count": null,
      "_view_module": "@jupyter-widgets/base",
      "_view_module_version": "1.2.0",
      "_view_name": "LayoutView",
      "align_content": null,
      "align_items": null,
      "align_self": null,
      "border": null,
      "bottom": null,
      "display": null,
      "flex": null,
      "flex_flow": null,
      "grid_area": null,
      "grid_auto_columns": null,
      "grid_auto_flow": null,
      "grid_auto_rows": null,
      "grid_column": null,
      "grid_gap": null,
      "grid_row": null,
      "grid_template_areas": null,
      "grid_template_columns": null,
      "grid_template_rows": null,
      "height": null,
      "justify_content": null,
      "justify_items": null,
      "left": null,
      "margin": null,
      "max_height": null,
      "max_width": null,
      "min_height": null,
      "min_width": null,
      "object_fit": null,
      "object_position": null,
      "order": null,
      "overflow": null,
      "overflow_x": null,
      "overflow_y": null,
      "padding": null,
      "right": null,
      "top": null,
      "visibility": null,
      "width": null
     }
    },
    "06ae063e293b44dfa434efd3095ed8fd": {
     "model_module": "@jupyter-widgets/base",
     "model_name": "LayoutModel",
     "model_module_version": "1.2.0",
     "state": {
      "_model_module": "@jupyter-widgets/base",
      "_model_module_version": "1.2.0",
      "_model_name": "LayoutModel",
      "_view_count": null,
      "_view_module": "@jupyter-widgets/base",
      "_view_module_version": "1.2.0",
      "_view_name": "LayoutView",
      "align_content": null,
      "align_items": null,
      "align_self": null,
      "border": null,
      "bottom": null,
      "display": null,
      "flex": null,
      "flex_flow": null,
      "grid_area": null,
      "grid_auto_columns": null,
      "grid_auto_flow": null,
      "grid_auto_rows": null,
      "grid_column": null,
      "grid_gap": null,
      "grid_row": null,
      "grid_template_areas": null,
      "grid_template_columns": null,
      "grid_template_rows": null,
      "height": null,
      "justify_content": null,
      "justify_items": null,
      "left": null,
      "margin": null,
      "max_height": null,
      "max_width": null,
      "min_height": null,
      "min_width": null,
      "object_fit": null,
      "object_position": null,
      "order": null,
      "overflow": null,
      "overflow_x": null,
      "overflow_y": null,
      "padding": null,
      "right": null,
      "top": null,
      "visibility": null,
      "width": null
     }
    },
    "9d42737b486d436eb81bef335d81d803": {
     "model_module": "@jupyter-widgets/controls",
     "model_name": "DescriptionStyleModel",
     "model_module_version": "1.5.0",
     "state": {
      "_model_module": "@jupyter-widgets/controls",
      "_model_module_version": "1.5.0",
      "_model_name": "DescriptionStyleModel",
      "_view_count": null,
      "_view_module": "@jupyter-widgets/base",
      "_view_module_version": "1.2.0",
      "_view_name": "StyleView",
      "description_width": ""
     }
    },
    "1a1cf2c6d904420080775bf11c8bde78": {
     "model_module": "@jupyter-widgets/base",
     "model_name": "LayoutModel",
     "model_module_version": "1.2.0",
     "state": {
      "_model_module": "@jupyter-widgets/base",
      "_model_module_version": "1.2.0",
      "_model_name": "LayoutModel",
      "_view_count": null,
      "_view_module": "@jupyter-widgets/base",
      "_view_module_version": "1.2.0",
      "_view_name": "LayoutView",
      "align_content": null,
      "align_items": null,
      "align_self": null,
      "border": null,
      "bottom": null,
      "display": null,
      "flex": null,
      "flex_flow": null,
      "grid_area": null,
      "grid_auto_columns": null,
      "grid_auto_flow": null,
      "grid_auto_rows": null,
      "grid_column": null,
      "grid_gap": null,
      "grid_row": null,
      "grid_template_areas": null,
      "grid_template_columns": null,
      "grid_template_rows": null,
      "height": null,
      "justify_content": null,
      "justify_items": null,
      "left": null,
      "margin": null,
      "max_height": null,
      "max_width": null,
      "min_height": null,
      "min_width": null,
      "object_fit": null,
      "object_position": null,
      "order": null,
      "overflow": null,
      "overflow_x": null,
      "overflow_y": null,
      "padding": null,
      "right": null,
      "top": null,
      "visibility": null,
      "width": null
     }
    },
    "b8010f8fdad04957a1e872cb8f1d7d48": {
     "model_module": "@jupyter-widgets/controls",
     "model_name": "ProgressStyleModel",
     "model_module_version": "1.5.0",
     "state": {
      "_model_module": "@jupyter-widgets/controls",
      "_model_module_version": "1.5.0",
      "_model_name": "ProgressStyleModel",
      "_view_count": null,
      "_view_module": "@jupyter-widgets/base",
      "_view_module_version": "1.2.0",
      "_view_name": "StyleView",
      "bar_color": null,
      "description_width": ""
     }
    },
    "8b13769323a841618587cd3528b88085": {
     "model_module": "@jupyter-widgets/base",
     "model_name": "LayoutModel",
     "model_module_version": "1.2.0",
     "state": {
      "_model_module": "@jupyter-widgets/base",
      "_model_module_version": "1.2.0",
      "_model_name": "LayoutModel",
      "_view_count": null,
      "_view_module": "@jupyter-widgets/base",
      "_view_module_version": "1.2.0",
      "_view_name": "LayoutView",
      "align_content": null,
      "align_items": null,
      "align_self": null,
      "border": null,
      "bottom": null,
      "display": null,
      "flex": null,
      "flex_flow": null,
      "grid_area": null,
      "grid_auto_columns": null,
      "grid_auto_flow": null,
      "grid_auto_rows": null,
      "grid_column": null,
      "grid_gap": null,
      "grid_row": null,
      "grid_template_areas": null,
      "grid_template_columns": null,
      "grid_template_rows": null,
      "height": null,
      "justify_content": null,
      "justify_items": null,
      "left": null,
      "margin": null,
      "max_height": null,
      "max_width": null,
      "min_height": null,
      "min_width": null,
      "object_fit": null,
      "object_position": null,
      "order": null,
      "overflow": null,
      "overflow_x": null,
      "overflow_y": null,
      "padding": null,
      "right": null,
      "top": null,
      "visibility": null,
      "width": null
     }
    },
    "45a8227903234a56811d588bfdd312c5": {
     "model_module": "@jupyter-widgets/controls",
     "model_name": "DescriptionStyleModel",
     "model_module_version": "1.5.0",
     "state": {
      "_model_module": "@jupyter-widgets/controls",
      "_model_module_version": "1.5.0",
      "_model_name": "DescriptionStyleModel",
      "_view_count": null,
      "_view_module": "@jupyter-widgets/base",
      "_view_module_version": "1.2.0",
      "_view_name": "StyleView",
      "description_width": ""
     }
    }
   }
  }
 },
 "nbformat": 4,
 "nbformat_minor": 0
}