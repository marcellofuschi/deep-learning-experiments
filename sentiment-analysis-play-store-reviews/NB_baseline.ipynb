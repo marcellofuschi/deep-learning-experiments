{
  "nbformat": 4,
  "nbformat_minor": 0,
  "metadata": {
    "colab": {
      "provenance": []
    },
    "kernelspec": {
      "name": "python3",
      "display_name": "Python 3"
    },
    "language_info": {
      "name": "python"
    }
  },
  "cells": [
    {
      "cell_type": "markdown",
      "source": [
        "# Baseline computation for the sentiment analysis task\n",
        "\n",
        "We'll use Naive Bayes for calculating a baseline of performance for our sentiment classification task.\n",
        "\n",
        "Naive Bayes classifiers assume that the value of a particular feature is independent of the value of any other feature."
      ],
      "metadata": {
        "id": "SMr3pDuo9pzB"
      }
    },
    {
      "cell_type": "code",
      "source": [
        "CSV_DATASET_PATH = 'google_play_store_reviews.csv'"
      ],
      "metadata": {
        "id": "sgCkrFnK9wn5"
      },
      "execution_count": 9,
      "outputs": []
    },
    {
      "cell_type": "code",
      "source": [
        "import numpy as np\n",
        "import pandas as pd"
      ],
      "metadata": {
        "id": "QIPEcvq890m7"
      },
      "execution_count": 10,
      "outputs": []
    },
    {
      "cell_type": "markdown",
      "source": [
        "## Load dataset"
      ],
      "metadata": {
        "id": "ehSfnX3o97Al"
      }
    },
    {
      "cell_type": "code",
      "source": [
        "def score_to_sentiment(rating):\n",
        "    rating = int(rating)\n",
        "    if rating <= 2:\n",
        "        return 'negative'\n",
        "    elif rating == 3:\n",
        "        return 'neutral'\n",
        "    else:\n",
        "        return 'positive'\n",
        "\n",
        "original_df = pd.read_csv(CSV_DATASET_PATH, sep=',')\n",
        "df = pd.DataFrame()\n",
        "df['message'] = original_df.content\n",
        "df['sentiment'] = original_df.score.apply(score_to_sentiment)\n",
        "df.dropna(inplace=True)\n",
        "del original_df\n",
        "\n",
        "print('Samples in the dataset:', df.shape[0], end='\\n\\n')\n",
        "print(df.head(), end='\\n\\n')\n",
        "df.groupby(['sentiment']).size().plot.bar()"
      ],
      "metadata": {
        "colab": {
          "base_uri": "https://localhost:8080/",
          "height": 492
        },
        "id": "XdMttbVN97Oq",
        "outputId": "acada863-041a-41c4-a76e-2d7421a7febf"
      },
      "execution_count": 11,
      "outputs": [
        {
          "output_type": "stream",
          "name": "stdout",
          "text": [
            "Samples in the dataset: 12495\n",
            "\n",
            "                                             message sentiment\n",
            "0                      I cannot open the app anymore  negative\n",
            "1  I have been begging for a refund from this app...  negative\n",
            "2  Very costly for the premium version (approx In...  negative\n",
            "3  Used to keep me organized, but all the 2020 UP...  negative\n",
            "4                                Dan Birthday Oct 28  negative\n",
            "\n"
          ]
        },
        {
          "output_type": "execute_result",
          "data": {
            "text/plain": [
              "<matplotlib.axes._subplots.AxesSubplot at 0x7f66c703c1d0>"
            ]
          },
          "metadata": {},
          "execution_count": 11
        },
        {
          "output_type": "display_data",
          "data": {
            "text/plain": [
              "<Figure size 432x288 with 1 Axes>"
            ],
            "image/png": "[encoded data removed]"
          },
          "metadata": {
            "needs_background": "light"
          }
        }
      ]
    },
    {
      "cell_type": "markdown",
      "source": [
        "## Vectorization and train-test split\n",
        "\n",
        "We need to vectorize the text becaues Naive Bayes works on vectors. We'll use TF-IDF to account for the frequency of words in the corpus and in the individual texts."
      ],
      "metadata": {
        "id": "3yuh5bQCAZtJ"
      }
    },
    {
      "cell_type": "code",
      "source": [
        "from sklearn.feature_extraction.text import TfidfVectorizer\n",
        "from nltk.tokenize import RegexpTokenizer\n",
        "\n",
        "vectorizer = TfidfVectorizer()\n",
        "text_counts = vectorizer.fit_transform(df['message'])"
      ],
      "metadata": {
        "id": "JeIxPBbh989n"
      },
      "execution_count": 12,
      "outputs": []
    },
    {
      "cell_type": "code",
      "source": [
        "from sklearn.model_selection import train_test_split\n",
        "\n",
        "X_train, X_test, Y_train, Y_test = train_test_split(text_counts, df['sentiment'], test_size=0.25, random_state=5)"
      ],
      "metadata": {
        "id": "CLvno_bf-SSU"
      },
      "execution_count": 13,
      "outputs": []
    },
    {
      "cell_type": "markdown",
      "source": [
        "## Model definition\n",
        "\n",
        "The specific NB model we're going to use is Complement NB, which is similar to Multinomial NB but works better with imbalanced classes."
      ],
      "metadata": {
        "id": "lwY7ih2hEUDl"
      }
    },
    {
      "cell_type": "code",
      "source": [
        "from sklearn.naive_bayes import ComplementNB\n",
        "\n",
        "classifier = ComplementNB()\n",
        "classifier.fit(X_train, Y_train)"
      ],
      "metadata": {
        "id": "DTqQ_pb2-fB-",
        "colab": {
          "base_uri": "https://localhost:8080/"
        },
        "outputId": "f4f89a97-14ae-4d24-9dd9-0ceca33bd945"
      },
      "execution_count": 14,
      "outputs": [
        {
          "output_type": "execute_result",
          "data": {
            "text/plain": [
              "ComplementNB()"
            ]
          },
          "metadata": {},
          "execution_count": 14
        }
      ]
    },
    {
      "cell_type": "markdown",
      "source": [
        "## Baseline test accuracy"
      ],
      "metadata": {
        "id": "vON_DrlqC9lQ"
      }
    },
    {
      "cell_type": "code",
      "source": [
        "from sklearn import metrics\n",
        "\n",
        "predicted = classifier.predict(X_test)\n",
        "accuracy_score = metrics.accuracy_score(predicted, Y_test)\n",
        "\n",
        "print('Accuracy:', str('{:04.2f}'.format(accuracy_score*100))+'%')"
      ],
      "metadata": {
        "id": "k-uUHfDf-m2p",
        "colab": {
          "base_uri": "https://localhost:8080/"
        },
        "outputId": "6380ac5e-8973-4859-b0ce-bfb91652af0c"
      },
      "execution_count": 15,
      "outputs": [
        {
          "output_type": "stream",
          "name": "stdout",
          "text": [
            "Accuracy: 68.41%\n"
          ]
        }
      ]
    },
    {
      "cell_type": "code",
      "source": [
        "test_messages = [\n",
        "    'Great app!',\n",
        "    'It does what I expect, though not much more.',\n",
        "    'This app is so bad!',\n",
        "]\n",
        "vectorized_test_messages = vectorizer.transform(test_messages)\n",
        "\n",
        "predictions = classifier.predict(vectorized_test_messages)\n",
        "\n",
        "for msg_key, predicted_sentiment in enumerate(predictions):\n",
        "  print(f'\"{test_messages[msg_key]}\" → {predicted_sentiment}')"
      ],
      "metadata": {
        "id": "sNNCYSxu-oav",
        "colab": {
          "base_uri": "https://localhost:8080/"
        },
        "outputId": "04a582c4-2ec2-4da4-a28f-be0db263f3f4"
      },
      "execution_count": 16,
      "outputs": [
        {
          "output_type": "stream",
          "name": "stdout",
          "text": [
            "\"Great app!\" → positive\n",
            "\"It does what I expect, though not much more.\" → neutral\n",
            "\"This app is so bad!\" → negative\n"
          ]
        }
      ]
    }
  ]
}